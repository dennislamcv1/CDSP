{
 "cells": [
  {
   "cell_type": "markdown",
   "metadata": {},
   "source": [
    "# Import software libraries"
   ]
  },
  {
   "cell_type": "code",
   "execution_count": 1,
   "metadata": {},
   "outputs": [
    {
     "name": "stdout",
     "output_type": "stream",
     "text": [
      "Libraries used in this project:\n",
      "- Python 3.7.6 | packaged by conda-forge | (default, Mar 23 2020, 23:03:20) \n",
      "[GCC 7.3.0]\n",
      "- NumPy 1.19.2\n",
      "- pandas 1.1.3\n",
      "- Matplotlib 3.3.2\n",
      "- Seaborn 0.11.0\n",
      "- scikit-learn 0.23.2\n",
      "- XGBoost 1.3.3\n"
     ]
    }
   ],
   "source": [
    "import sys                                                  # Read system parameters.\n",
    "import numpy as np                                          # Work with multi-dimensional arrays.\n",
    "import pandas as pd                                         # Manipulate and analyze data.\n",
    "import matplotlib                                           # Create and format charts.\n",
    "import matplotlib.pyplot as plt\n",
    "import seaborn as sns                                       # Make charting easier.\n",
    "import sklearn                                              # Train and evaluate machine learning models.\n",
    "from sklearn.model_selection import train_test_split, \\\n",
    "                                    learning_curve, \\\n",
    "                                    GridSearchCV\n",
    "from sklearn.linear_model import LinearRegression, \\\n",
    "                                 ElasticNet\n",
    "from sklearn import tree\n",
    "from sklearn.tree import DecisionTreeRegressor\n",
    "from sklearn.ensemble import RandomForestRegressor\n",
    "from sklearn.metrics import r2_score, \\\n",
    "                            mean_absolute_error, \\\n",
    "                            mean_squared_error\n",
    "from sklearn.dummy import DummyRegressor\n",
    "import xgboost                                              # Build gradient boosting models.\n",
    "from xgboost import XGBRegressor\n",
    "import pickle                                               # Save Python objects as binary files.\n",
    "import warnings                                             # Suppress warnings.\n",
    "warnings.filterwarnings('ignore')\n",
    "\n",
    "# Ensure results are reproducible.\n",
    "np.random.seed(1)\n",
    "\n",
    "# Summarize software libraries used.\n",
    "print('Libraries used in this project:')\n",
    "print('- Python {}'.format(sys.version))\n",
    "print('- NumPy {}'.format(np.__version__))\n",
    "print('- pandas {}'.format(pd.__version__))\n",
    "print('- Matplotlib {}'.format(matplotlib.__version__))\n",
    "print('- Seaborn {}'.format(sns.__version__))\n",
    "print('- scikit-learn {}'.format(sklearn.__version__))\n",
    "print('- XGBoost {}'.format(xgboost.__version__))"
   ]
  },
  {
   "cell_type": "markdown",
   "metadata": {},
   "source": [
    "# Load and preview the data"
   ]
  },
  {
   "cell_type": "code",
   "execution_count": 2,
   "metadata": {
    "colab": {
     "base_uri": "https://localhost:8080/"
    },
    "executionInfo": {
     "elapsed": 608,
     "status": "ok",
     "timestamp": 1616420860334,
     "user": {
      "displayName": "Sarah Haq",
      "photoUrl": "https://lh3.googleusercontent.com/a-/AOh14Gh7vs3P5_F3LYi7bEV8r1vbltDxEgpoYXmxHgxGBw=s64",
      "userId": "16294508270436203551"
     },
     "user_tz": -60
    },
    "id": "xZGGsnRNzqE2",
    "outputId": "c300141d-6359-4b28-dedf-6182c18e60b0"
   },
   "outputs": [
    {
     "data": {
      "text/html": [
       "<div>\n",
       "<style scoped>\n",
       "    .dataframe tbody tr th:only-of-type {\n",
       "        vertical-align: middle;\n",
       "    }\n",
       "\n",
       "    .dataframe tbody tr th {\n",
       "        vertical-align: top;\n",
       "    }\n",
       "\n",
       "    .dataframe thead th {\n",
       "        text-align: right;\n",
       "    }\n",
       "</style>\n",
       "<table border=\"1\" class=\"dataframe\">\n",
       "  <thead>\n",
       "    <tr style=\"text-align: right;\">\n",
       "      <th></th>\n",
       "      <th>user_id</th>\n",
       "      <th>number_transactions</th>\n",
       "      <th>total_amount_usd</th>\n",
       "      <th>job_management</th>\n",
       "      <th>job_technician</th>\n",
       "      <th>job_entrepreneur</th>\n",
       "      <th>job_blue-collar</th>\n",
       "      <th>job_retired</th>\n",
       "      <th>job_admin.</th>\n",
       "      <th>job_services</th>\n",
       "      <th>...</th>\n",
       "      <th>duration</th>\n",
       "      <th>campaign</th>\n",
       "      <th>pdays</th>\n",
       "      <th>previous</th>\n",
       "      <th>term_deposit</th>\n",
       "      <th>device_desktop</th>\n",
       "      <th>device_tablet</th>\n",
       "      <th>single</th>\n",
       "      <th>age_group_encoded</th>\n",
       "      <th>month_joined</th>\n",
       "    </tr>\n",
       "  </thead>\n",
       "  <tbody>\n",
       "    <tr>\n",
       "      <th>0</th>\n",
       "      <td>9231c446-cb16-4b2b-a7f7-ddfc8b25aaf6</td>\n",
       "      <td>3.0</td>\n",
       "      <td>2143.00</td>\n",
       "      <td>1</td>\n",
       "      <td>0</td>\n",
       "      <td>0</td>\n",
       "      <td>0</td>\n",
       "      <td>0</td>\n",
       "      <td>0</td>\n",
       "      <td>0</td>\n",
       "      <td>...</td>\n",
       "      <td>261</td>\n",
       "      <td>1</td>\n",
       "      <td>-1</td>\n",
       "      <td>0</td>\n",
       "      <td>False</td>\n",
       "      <td>0</td>\n",
       "      <td>0</td>\n",
       "      <td>0</td>\n",
       "      <td>4</td>\n",
       "      <td>8</td>\n",
       "    </tr>\n",
       "    <tr>\n",
       "      <th>1</th>\n",
       "      <td>bb92765a-08de-4963-b432-496524b39157</td>\n",
       "      <td>0.0</td>\n",
       "      <td>1369.42</td>\n",
       "      <td>0</td>\n",
       "      <td>1</td>\n",
       "      <td>0</td>\n",
       "      <td>0</td>\n",
       "      <td>0</td>\n",
       "      <td>0</td>\n",
       "      <td>0</td>\n",
       "      <td>...</td>\n",
       "      <td>151</td>\n",
       "      <td>1</td>\n",
       "      <td>-1</td>\n",
       "      <td>0</td>\n",
       "      <td>False</td>\n",
       "      <td>1</td>\n",
       "      <td>0</td>\n",
       "      <td>1</td>\n",
       "      <td>2</td>\n",
       "      <td>7</td>\n",
       "    </tr>\n",
       "    <tr>\n",
       "      <th>2</th>\n",
       "      <td>573de577-49ef-42b9-83da-d3cfb817b5c1</td>\n",
       "      <td>2.0</td>\n",
       "      <td>2.00</td>\n",
       "      <td>0</td>\n",
       "      <td>0</td>\n",
       "      <td>1</td>\n",
       "      <td>0</td>\n",
       "      <td>0</td>\n",
       "      <td>0</td>\n",
       "      <td>0</td>\n",
       "      <td>...</td>\n",
       "      <td>76</td>\n",
       "      <td>1</td>\n",
       "      <td>-1</td>\n",
       "      <td>0</td>\n",
       "      <td>False</td>\n",
       "      <td>0</td>\n",
       "      <td>0</td>\n",
       "      <td>0</td>\n",
       "      <td>1</td>\n",
       "      <td>6</td>\n",
       "    </tr>\n",
       "    <tr>\n",
       "      <th>3</th>\n",
       "      <td>d6b66b9d-7c8f-4257-a682-e136f640b7e3</td>\n",
       "      <td>0.0</td>\n",
       "      <td>1369.42</td>\n",
       "      <td>0</td>\n",
       "      <td>0</td>\n",
       "      <td>0</td>\n",
       "      <td>1</td>\n",
       "      <td>0</td>\n",
       "      <td>0</td>\n",
       "      <td>0</td>\n",
       "      <td>...</td>\n",
       "      <td>92</td>\n",
       "      <td>1</td>\n",
       "      <td>-1</td>\n",
       "      <td>0</td>\n",
       "      <td>False</td>\n",
       "      <td>0</td>\n",
       "      <td>1</td>\n",
       "      <td>0</td>\n",
       "      <td>3</td>\n",
       "      <td>6</td>\n",
       "    </tr>\n",
       "    <tr>\n",
       "      <th>4</th>\n",
       "      <td>fade0b20-7594-4d9a-84cd-c02f79b1b526</td>\n",
       "      <td>1.0</td>\n",
       "      <td>1.00</td>\n",
       "      <td>0</td>\n",
       "      <td>0</td>\n",
       "      <td>0</td>\n",
       "      <td>0</td>\n",
       "      <td>0</td>\n",
       "      <td>0</td>\n",
       "      <td>0</td>\n",
       "      <td>...</td>\n",
       "      <td>198</td>\n",
       "      <td>1</td>\n",
       "      <td>-1</td>\n",
       "      <td>0</td>\n",
       "      <td>False</td>\n",
       "      <td>0</td>\n",
       "      <td>0</td>\n",
       "      <td>1</td>\n",
       "      <td>1</td>\n",
       "      <td>8</td>\n",
       "    </tr>\n",
       "  </tbody>\n",
       "</table>\n",
       "<p>5 rows × 33 columns</p>\n",
       "</div>"
      ],
      "text/plain": [
       "                                user_id  number_transactions  \\\n",
       "0  9231c446-cb16-4b2b-a7f7-ddfc8b25aaf6                  3.0   \n",
       "1  bb92765a-08de-4963-b432-496524b39157                  0.0   \n",
       "2  573de577-49ef-42b9-83da-d3cfb817b5c1                  2.0   \n",
       "3  d6b66b9d-7c8f-4257-a682-e136f640b7e3                  0.0   \n",
       "4  fade0b20-7594-4d9a-84cd-c02f79b1b526                  1.0   \n",
       "\n",
       "   total_amount_usd  job_management  job_technician  job_entrepreneur  \\\n",
       "0           2143.00               1               0                 0   \n",
       "1           1369.42               0               1                 0   \n",
       "2              2.00               0               0                 1   \n",
       "3           1369.42               0               0                 0   \n",
       "4              1.00               0               0                 0   \n",
       "\n",
       "   job_blue-collar  job_retired  job_admin.  job_services  ...  duration  \\\n",
       "0                0            0           0             0  ...       261   \n",
       "1                0            0           0             0  ...       151   \n",
       "2                0            0           0             0  ...        76   \n",
       "3                1            0           0             0  ...        92   \n",
       "4                0            0           0             0  ...       198   \n",
       "\n",
       "   campaign  pdays  previous  term_deposit  device_desktop  device_tablet  \\\n",
       "0         1     -1         0         False               0              0   \n",
       "1         1     -1         0         False               1              0   \n",
       "2         1     -1         0         False               0              0   \n",
       "3         1     -1         0         False               0              1   \n",
       "4         1     -1         0         False               0              0   \n",
       "\n",
       "   single  age_group_encoded  month_joined  \n",
       "0       0                  4             8  \n",
       "1       1                  2             7  \n",
       "2       0                  1             6  \n",
       "3       0                  3             6  \n",
       "4       1                  1             8  \n",
       "\n",
       "[5 rows x 33 columns]"
      ]
     },
     "execution_count": 2,
     "metadata": {},
     "output_type": "execute_result"
    }
   ],
   "source": [
    "users_data = pd.read_pickle('/home/jovyan/work/Regression/data/users_data_final.pickle')\n",
    "\n",
    "users_data.head(n = 5)"
   ]
  },
  {
   "cell_type": "markdown",
   "metadata": {
    "id": "D3Uw9bpYzvGB"
   },
   "source": [
    "# Check the shape of the data"
   ]
  },
  {
   "cell_type": "code",
   "execution_count": 3,
   "metadata": {
    "colab": {
     "base_uri": "https://localhost:8080/"
    },
    "executionInfo": {
     "elapsed": 737,
     "status": "ok",
     "timestamp": 1616420864450,
     "user": {
      "displayName": "Sarah Haq",
      "photoUrl": "https://lh3.googleusercontent.com/a-/AOh14Gh7vs3P5_F3LYi7bEV8r1vbltDxEgpoYXmxHgxGBw=s64",
      "userId": "16294508270436203551"
     },
     "user_tz": -60
    },
    "id": "0qOIW8i7_6lm",
    "outputId": "5f3ecd4f-183c-4836-b4c7-7ee360dbcd2e"
   },
   "outputs": [
    {
     "data": {
      "text/plain": [
       "(45179, 33)"
      ]
     },
     "execution_count": 3,
     "metadata": {},
     "output_type": "execute_result"
    }
   ],
   "source": [
    "users_data.shape"
   ]
  },
  {
   "cell_type": "markdown",
   "metadata": {},
   "source": [
    "# Check the data types"
   ]
  },
  {
   "cell_type": "code",
   "execution_count": 4,
   "metadata": {
    "colab": {
     "base_uri": "https://localhost:8080/"
    },
    "executionInfo": {
     "elapsed": 903,
     "status": "ok",
     "timestamp": 1616420864748,
     "user": {
      "displayName": "Sarah Haq",
      "photoUrl": "https://lh3.googleusercontent.com/a-/AOh14Gh7vs3P5_F3LYi7bEV8r1vbltDxEgpoYXmxHgxGBw=s64",
      "userId": "16294508270436203551"
     },
     "user_tz": -60
    },
    "id": "hjaImkCC_Y6o",
    "outputId": "1ee19f78-13b9-4024-fa26-8520cdb2150e"
   },
   "outputs": [
    {
     "name": "stdout",
     "output_type": "stream",
     "text": [
      "<class 'pandas.core.frame.DataFrame'>\n",
      "Int64Index: 45179 entries, 0 to 45215\n",
      "Data columns (total 33 columns):\n",
      " #   Column               Non-Null Count  Dtype  \n",
      "---  ------               --------------  -----  \n",
      " 0   user_id              45179 non-null  object \n",
      " 1   number_transactions  45179 non-null  float64\n",
      " 2   total_amount_usd     45179 non-null  float64\n",
      " 3   job_management       45179 non-null  int64  \n",
      " 4   job_technician       45179 non-null  int64  \n",
      " 5   job_entrepreneur     45179 non-null  int64  \n",
      " 6   job_blue-collar      45179 non-null  int64  \n",
      " 7   job_retired          45179 non-null  int64  \n",
      " 8   job_admin.           45179 non-null  int64  \n",
      " 9   job_services         45179 non-null  int64  \n",
      " 10  job_self-employed    45179 non-null  int64  \n",
      " 11  job_unemployed       45179 non-null  int64  \n",
      " 12  job_housemaid        45179 non-null  int64  \n",
      " 13  job_student          45179 non-null  int64  \n",
      " 14  education_tertiary   45179 non-null  int64  \n",
      " 15  education_secondary  45179 non-null  int64  \n",
      " 16  education_Unknown    45179 non-null  int64  \n",
      " 17  education_primary    45179 non-null  int64  \n",
      " 18  default              45179 non-null  bool   \n",
      " 19  housing              45179 non-null  bool   \n",
      " 20  loan                 45179 non-null  bool   \n",
      " 21  contact_cellular     45179 non-null  int64  \n",
      " 22  contact_telephone    45179 non-null  int64  \n",
      " 23  duration             45179 non-null  int64  \n",
      " 24  campaign             45179 non-null  int64  \n",
      " 25  pdays                45179 non-null  int64  \n",
      " 26  previous             45179 non-null  int64  \n",
      " 27  term_deposit         45179 non-null  bool   \n",
      " 28  device_desktop       45179 non-null  int64  \n",
      " 29  device_tablet        45179 non-null  int64  \n",
      " 30  single               45179 non-null  uint8  \n",
      " 31  age_group_encoded    45179 non-null  int8   \n",
      " 32  month_joined         45179 non-null  int64  \n",
      "dtypes: bool(4), float64(2), int64(24), int8(1), object(1), uint8(1)\n",
      "memory usage: 9.9+ MB\n"
     ]
    }
   ],
   "source": [
    "users_data.info()"
   ]
  },
  {
   "cell_type": "markdown",
   "metadata": {
    "id": "KzWy1_hSzdT2"
   },
   "source": [
    "# Explore the distribution of the target variable"
   ]
  },
  {
   "cell_type": "code",
   "execution_count": 5,
   "metadata": {
    "colab": {
     "base_uri": "https://localhost:8080/"
    },
    "executionInfo": {
     "elapsed": 626,
     "status": "ok",
     "timestamp": 1616420864749,
     "user": {
      "displayName": "Sarah Haq",
      "photoUrl": "https://lh3.googleusercontent.com/a-/AOh14Gh7vs3P5_F3LYi7bEV8r1vbltDxEgpoYXmxHgxGBw=s64",
      "userId": "16294508270436203551"
     },
     "user_tz": -60
    },
    "id": "V-aKzuX7_mN8",
    "outputId": "77e56f77-7315-4673-a10f-e47e903a02e0"
   },
   "outputs": [
    {
     "data": {
      "text/plain": [
       "count     45179.000000\n",
       "mean       1369.751283\n",
       "std        2704.291321\n",
       "min       -8019.000000\n",
       "25%         160.000000\n",
       "50%         862.000000\n",
       "75%        1369.420000\n",
       "max      102127.000000\n",
       "Name: total_amount_usd, dtype: float64"
      ]
     },
     "execution_count": 5,
     "metadata": {},
     "output_type": "execute_result"
    }
   ],
   "source": [
    "users_data.total_amount_usd.describe()"
   ]
  },
  {
   "cell_type": "code",
   "execution_count": 6,
   "metadata": {
    "colab": {
     "base_uri": "https://localhost:8080/",
     "height": 281
    },
    "executionInfo": {
     "elapsed": 767,
     "status": "ok",
     "timestamp": 1616420865028,
     "user": {
      "displayName": "Sarah Haq",
      "photoUrl": "https://lh3.googleusercontent.com/a-/AOh14Gh7vs3P5_F3LYi7bEV8r1vbltDxEgpoYXmxHgxGBw=s64",
      "userId": "16294508270436203551"
     },
     "user_tz": -60
    },
    "id": "QmyMyLNgrBMb",
    "outputId": "f8e32e4d-fe0f-4ea1-c037-2fcebfc46f46"
   },
   "outputs": [
    {
     "data": {
      "image/png": "[encoded data removed]",
      "text/plain": [
       "<Figure size 432x288 with 1 Axes>"
      ]
     },
     "metadata": {
      "needs_background": "light"
     },
     "output_type": "display_data"
    }
   ],
   "source": [
    "users_data.total_amount_usd.hist()\n",
    "plt.title('Distribution of total_amount_usd');"
   ]
  },
  {
   "cell_type": "code",
   "execution_count": 7,
   "metadata": {
    "colab": {
     "base_uri": "https://localhost:8080/",
     "height": 280
    },
    "executionInfo": {
     "elapsed": 773,
     "status": "ok",
     "timestamp": 1616420865326,
     "user": {
      "displayName": "Sarah Haq",
      "photoUrl": "https://lh3.googleusercontent.com/a-/AOh14Gh7vs3P5_F3LYi7bEV8r1vbltDxEgpoYXmxHgxGBw=s64",
      "userId": "16294508270436203551"
     },
     "user_tz": -60
    },
    "id": "HTn43G7hs3v7",
    "outputId": "2f656c71-4f37-41c8-845c-e319a8d2b8e2"
   },
   "outputs": [
    {
     "data": {
      "image/png": "[encoded data removed]",
      "text/plain": [
       "<Figure size 432x288 with 1 Axes>"
      ]
     },
     "metadata": {
      "needs_background": "light"
     },
     "output_type": "display_data"
    }
   ],
   "source": [
    "sns.boxplot(users_data.total_amount_usd);"
   ]
  },
  {
   "cell_type": "markdown",
   "metadata": {},
   "source": [
    "# Identify and remove the outliers"
   ]
  },
  {
   "cell_type": "code",
   "execution_count": 8,
   "metadata": {},
   "outputs": [
    {
     "name": "stdout",
     "output_type": "stream",
     "text": [
      "Lower bound: -1654.13\n",
      "Upper bound: 3183.55\n"
     ]
    }
   ],
   "source": [
    "q1 = np.percentile(users_data.total_amount_usd, 25)\n",
    "q3 = np.percentile(users_data.total_amount_usd, 75)\n",
    "iqr = q3 - q1\n",
    "\n",
    "lb = q1 - 1.5 * iqr\n",
    "ub = q3 + 1.5 * iqr\n",
    "\n",
    "print('Lower bound:', round(lb, 2))\n",
    "print('Upper bound:', round(ub, 2))"
   ]
  },
  {
   "cell_type": "code",
   "execution_count": 9,
   "metadata": {
    "colab": {
     "base_uri": "https://localhost:8080/"
    },
    "executionInfo": {
     "elapsed": 633,
     "status": "ok",
     "timestamp": 1616420865617,
     "user": {
      "displayName": "Sarah Haq",
      "photoUrl": "https://lh3.googleusercontent.com/a-/AOh14Gh7vs3P5_F3LYi7bEV8r1vbltDxEgpoYXmxHgxGBw=s64",
      "userId": "16294508270436203551"
     },
     "user_tz": -60
    },
    "id": "_ZIjYQpXtopd",
    "outputId": "82998235-bad7-41d9-d8e8-4161e8d07032"
   },
   "outputs": [
    {
     "name": "stdout",
     "output_type": "stream",
     "text": [
      "Number of users with total_amount_usd greater than UB: 4110\n",
      "Number of users with total_amount_usd lower than LB:   26\n"
     ]
    }
   ],
   "source": [
    "print('Number of users with total_amount_usd greater than UB:',\n",
    "      users_data[(users_data.total_amount_usd >= ub)].shape[0])\n",
    "print('Number of users with total_amount_usd lower than LB:  ',\n",
    "      users_data[(users_data.total_amount_usd <= lb)].shape[0])"
   ]
  },
  {
   "cell_type": "code",
   "execution_count": 10,
   "metadata": {
    "colab": {
     "base_uri": "https://localhost:8080/",
     "height": 496
    },
    "executionInfo": {
     "elapsed": 503,
     "status": "ok",
     "timestamp": 1616420865618,
     "user": {
      "displayName": "Sarah Haq",
      "photoUrl": "https://lh3.googleusercontent.com/a-/AOh14Gh7vs3P5_F3LYi7bEV8r1vbltDxEgpoYXmxHgxGBw=s64",
      "userId": "16294508270436203551"
     },
     "user_tz": -60
    },
    "id": "rqEUTq6etOfs",
    "outputId": "b7402406-7d8a-47bf-8c9c-1e367b79ae53"
   },
   "outputs": [
    {
     "data": {
      "text/plain": [
       "(41043, 33)"
      ]
     },
     "execution_count": 10,
     "metadata": {},
     "output_type": "execute_result"
    }
   ],
   "source": [
    "users_data_wout_outliers = \\\n",
    "users_data[(users_data.total_amount_usd < ub) \\\n",
    "           & (users_data.total_amount_usd > lb)]\n",
    "\n",
    "users_data_wout_outliers.shape"
   ]
  },
  {
   "cell_type": "markdown",
   "metadata": {},
   "source": [
    "# Explore the dataset with the outliers removed"
   ]
  },
  {
   "cell_type": "code",
   "execution_count": 11,
   "metadata": {
    "colab": {
     "base_uri": "https://localhost:8080/",
     "height": 334
    },
    "executionInfo": {
     "elapsed": 700,
     "status": "ok",
     "timestamp": 1616420866105,
     "user": {
      "displayName": "Sarah Haq",
      "photoUrl": "https://lh3.googleusercontent.com/a-/AOh14Gh7vs3P5_F3LYi7bEV8r1vbltDxEgpoYXmxHgxGBw=s64",
      "userId": "16294508270436203551"
     },
     "user_tz": -60
    },
    "id": "zpB9wtkhulXR",
    "outputId": "23510a9b-9a71-411d-cead-3d47d677b606"
   },
   "outputs": [
    {
     "data": {
      "text/html": [
       "<div>\n",
       "<style scoped>\n",
       "    .dataframe tbody tr th:only-of-type {\n",
       "        vertical-align: middle;\n",
       "    }\n",
       "\n",
       "    .dataframe tbody tr th {\n",
       "        vertical-align: top;\n",
       "    }\n",
       "\n",
       "    .dataframe thead th {\n",
       "        text-align: right;\n",
       "    }\n",
       "</style>\n",
       "<table border=\"1\" class=\"dataframe\">\n",
       "  <thead>\n",
       "    <tr style=\"text-align: right;\">\n",
       "      <th></th>\n",
       "      <th>number_transactions</th>\n",
       "      <th>total_amount_usd</th>\n",
       "      <th>job_management</th>\n",
       "      <th>job_technician</th>\n",
       "      <th>job_entrepreneur</th>\n",
       "      <th>job_blue-collar</th>\n",
       "      <th>job_retired</th>\n",
       "      <th>job_admin.</th>\n",
       "      <th>job_services</th>\n",
       "      <th>job_self-employed</th>\n",
       "      <th>...</th>\n",
       "      <th>contact_telephone</th>\n",
       "      <th>duration</th>\n",
       "      <th>campaign</th>\n",
       "      <th>pdays</th>\n",
       "      <th>previous</th>\n",
       "      <th>device_desktop</th>\n",
       "      <th>device_tablet</th>\n",
       "      <th>single</th>\n",
       "      <th>age_group_encoded</th>\n",
       "      <th>month_joined</th>\n",
       "    </tr>\n",
       "  </thead>\n",
       "  <tbody>\n",
       "    <tr>\n",
       "      <th>count</th>\n",
       "      <td>41043.000000</td>\n",
       "      <td>41043.000000</td>\n",
       "      <td>41043.000000</td>\n",
       "      <td>41043.000000</td>\n",
       "      <td>41043.000000</td>\n",
       "      <td>41043.000000</td>\n",
       "      <td>41043.000000</td>\n",
       "      <td>41043.000000</td>\n",
       "      <td>41043.000000</td>\n",
       "      <td>41043.000000</td>\n",
       "      <td>...</td>\n",
       "      <td>41043.000000</td>\n",
       "      <td>41043.000000</td>\n",
       "      <td>41043.000000</td>\n",
       "      <td>41043.000000</td>\n",
       "      <td>41043.000000</td>\n",
       "      <td>41043.000000</td>\n",
       "      <td>41043.000000</td>\n",
       "      <td>41043.000000</td>\n",
       "      <td>41043.000000</td>\n",
       "      <td>41043.000000</td>\n",
       "    </tr>\n",
       "    <tr>\n",
       "      <th>mean</th>\n",
       "      <td>3.131179</td>\n",
       "      <td>793.578253</td>\n",
       "      <td>0.202032</td>\n",
       "      <td>0.169237</td>\n",
       "      <td>0.033087</td>\n",
       "      <td>0.220257</td>\n",
       "      <td>0.047657</td>\n",
       "      <td>0.116488</td>\n",
       "      <td>0.094316</td>\n",
       "      <td>0.034427</td>\n",
       "      <td>...</td>\n",
       "      <td>0.062203</td>\n",
       "      <td>256.095363</td>\n",
       "      <td>2.776527</td>\n",
       "      <td>40.205273</td>\n",
       "      <td>0.568111</td>\n",
       "      <td>0.267110</td>\n",
       "      <td>0.122018</td>\n",
       "      <td>0.284775</td>\n",
       "      <td>2.122067</td>\n",
       "      <td>6.499744</td>\n",
       "    </tr>\n",
       "    <tr>\n",
       "      <th>std</th>\n",
       "      <td>3.916997</td>\n",
       "      <td>761.407759</td>\n",
       "      <td>0.401521</td>\n",
       "      <td>0.374966</td>\n",
       "      <td>0.178867</td>\n",
       "      <td>0.414425</td>\n",
       "      <td>0.213043</td>\n",
       "      <td>0.320813</td>\n",
       "      <td>0.292271</td>\n",
       "      <td>0.182326</td>\n",
       "      <td>...</td>\n",
       "      <td>0.241527</td>\n",
       "      <td>254.777008</td>\n",
       "      <td>3.120160</td>\n",
       "      <td>100.917760</td>\n",
       "      <td>2.318308</td>\n",
       "      <td>0.442456</td>\n",
       "      <td>0.327311</td>\n",
       "      <td>0.451312</td>\n",
       "      <td>1.094556</td>\n",
       "      <td>3.425208</td>\n",
       "    </tr>\n",
       "    <tr>\n",
       "      <th>min</th>\n",
       "      <td>0.000000</td>\n",
       "      <td>-1636.000000</td>\n",
       "      <td>0.000000</td>\n",
       "      <td>0.000000</td>\n",
       "      <td>0.000000</td>\n",
       "      <td>0.000000</td>\n",
       "      <td>0.000000</td>\n",
       "      <td>0.000000</td>\n",
       "      <td>0.000000</td>\n",
       "      <td>0.000000</td>\n",
       "      <td>...</td>\n",
       "      <td>0.000000</td>\n",
       "      <td>0.000000</td>\n",
       "      <td>1.000000</td>\n",
       "      <td>-1.000000</td>\n",
       "      <td>0.000000</td>\n",
       "      <td>0.000000</td>\n",
       "      <td>0.000000</td>\n",
       "      <td>0.000000</td>\n",
       "      <td>0.000000</td>\n",
       "      <td>1.000000</td>\n",
       "    </tr>\n",
       "    <tr>\n",
       "      <th>25%</th>\n",
       "      <td>1.000000</td>\n",
       "      <td>123.000000</td>\n",
       "      <td>0.000000</td>\n",
       "      <td>0.000000</td>\n",
       "      <td>0.000000</td>\n",
       "      <td>0.000000</td>\n",
       "      <td>0.000000</td>\n",
       "      <td>0.000000</td>\n",
       "      <td>0.000000</td>\n",
       "      <td>0.000000</td>\n",
       "      <td>...</td>\n",
       "      <td>0.000000</td>\n",
       "      <td>103.000000</td>\n",
       "      <td>1.000000</td>\n",
       "      <td>-1.000000</td>\n",
       "      <td>0.000000</td>\n",
       "      <td>0.000000</td>\n",
       "      <td>0.000000</td>\n",
       "      <td>0.000000</td>\n",
       "      <td>1.000000</td>\n",
       "      <td>4.000000</td>\n",
       "    </tr>\n",
       "    <tr>\n",
       "      <th>50%</th>\n",
       "      <td>2.000000</td>\n",
       "      <td>659.000000</td>\n",
       "      <td>0.000000</td>\n",
       "      <td>0.000000</td>\n",
       "      <td>0.000000</td>\n",
       "      <td>0.000000</td>\n",
       "      <td>0.000000</td>\n",
       "      <td>0.000000</td>\n",
       "      <td>0.000000</td>\n",
       "      <td>0.000000</td>\n",
       "      <td>...</td>\n",
       "      <td>0.000000</td>\n",
       "      <td>179.000000</td>\n",
       "      <td>2.000000</td>\n",
       "      <td>-1.000000</td>\n",
       "      <td>0.000000</td>\n",
       "      <td>0.000000</td>\n",
       "      <td>0.000000</td>\n",
       "      <td>0.000000</td>\n",
       "      <td>2.000000</td>\n",
       "      <td>7.000000</td>\n",
       "    </tr>\n",
       "    <tr>\n",
       "      <th>75%</th>\n",
       "      <td>3.000000</td>\n",
       "      <td>1369.420000</td>\n",
       "      <td>0.000000</td>\n",
       "      <td>0.000000</td>\n",
       "      <td>0.000000</td>\n",
       "      <td>0.000000</td>\n",
       "      <td>0.000000</td>\n",
       "      <td>0.000000</td>\n",
       "      <td>0.000000</td>\n",
       "      <td>0.000000</td>\n",
       "      <td>...</td>\n",
       "      <td>0.000000</td>\n",
       "      <td>317.000000</td>\n",
       "      <td>3.000000</td>\n",
       "      <td>-1.000000</td>\n",
       "      <td>0.000000</td>\n",
       "      <td>1.000000</td>\n",
       "      <td>0.000000</td>\n",
       "      <td>1.000000</td>\n",
       "      <td>3.000000</td>\n",
       "      <td>9.000000</td>\n",
       "    </tr>\n",
       "    <tr>\n",
       "      <th>max</th>\n",
       "      <td>20.000000</td>\n",
       "      <td>3181.000000</td>\n",
       "      <td>1.000000</td>\n",
       "      <td>1.000000</td>\n",
       "      <td>1.000000</td>\n",
       "      <td>1.000000</td>\n",
       "      <td>1.000000</td>\n",
       "      <td>1.000000</td>\n",
       "      <td>1.000000</td>\n",
       "      <td>1.000000</td>\n",
       "      <td>...</td>\n",
       "      <td>1.000000</td>\n",
       "      <td>3881.000000</td>\n",
       "      <td>58.000000</td>\n",
       "      <td>871.000000</td>\n",
       "      <td>275.000000</td>\n",
       "      <td>1.000000</td>\n",
       "      <td>1.000000</td>\n",
       "      <td>1.000000</td>\n",
       "      <td>6.000000</td>\n",
       "      <td>12.000000</td>\n",
       "    </tr>\n",
       "  </tbody>\n",
       "</table>\n",
       "<p>8 rows × 28 columns</p>\n",
       "</div>"
      ],
      "text/plain": [
       "       number_transactions  total_amount_usd  job_management  job_technician  \\\n",
       "count         41043.000000      41043.000000    41043.000000    41043.000000   \n",
       "mean              3.131179        793.578253        0.202032        0.169237   \n",
       "std               3.916997        761.407759        0.401521        0.374966   \n",
       "min               0.000000      -1636.000000        0.000000        0.000000   \n",
       "25%               1.000000        123.000000        0.000000        0.000000   \n",
       "50%               2.000000        659.000000        0.000000        0.000000   \n",
       "75%               3.000000       1369.420000        0.000000        0.000000   \n",
       "max              20.000000       3181.000000        1.000000        1.000000   \n",
       "\n",
       "       job_entrepreneur  job_blue-collar   job_retired    job_admin.  \\\n",
       "count      41043.000000     41043.000000  41043.000000  41043.000000   \n",
       "mean           0.033087         0.220257      0.047657      0.116488   \n",
       "std            0.178867         0.414425      0.213043      0.320813   \n",
       "min            0.000000         0.000000      0.000000      0.000000   \n",
       "25%            0.000000         0.000000      0.000000      0.000000   \n",
       "50%            0.000000         0.000000      0.000000      0.000000   \n",
       "75%            0.000000         0.000000      0.000000      0.000000   \n",
       "max            1.000000         1.000000      1.000000      1.000000   \n",
       "\n",
       "       job_services  job_self-employed  ...  contact_telephone      duration  \\\n",
       "count  41043.000000       41043.000000  ...       41043.000000  41043.000000   \n",
       "mean       0.094316           0.034427  ...           0.062203    256.095363   \n",
       "std        0.292271           0.182326  ...           0.241527    254.777008   \n",
       "min        0.000000           0.000000  ...           0.000000      0.000000   \n",
       "25%        0.000000           0.000000  ...           0.000000    103.000000   \n",
       "50%        0.000000           0.000000  ...           0.000000    179.000000   \n",
       "75%        0.000000           0.000000  ...           0.000000    317.000000   \n",
       "max        1.000000           1.000000  ...           1.000000   3881.000000   \n",
       "\n",
       "           campaign         pdays      previous  device_desktop  \\\n",
       "count  41043.000000  41043.000000  41043.000000    41043.000000   \n",
       "mean       2.776527     40.205273      0.568111        0.267110   \n",
       "std        3.120160    100.917760      2.318308        0.442456   \n",
       "min        1.000000     -1.000000      0.000000        0.000000   \n",
       "25%        1.000000     -1.000000      0.000000        0.000000   \n",
       "50%        2.000000     -1.000000      0.000000        0.000000   \n",
       "75%        3.000000     -1.000000      0.000000        1.000000   \n",
       "max       58.000000    871.000000    275.000000        1.000000   \n",
       "\n",
       "       device_tablet        single  age_group_encoded  month_joined  \n",
       "count   41043.000000  41043.000000       41043.000000  41043.000000  \n",
       "mean        0.122018      0.284775           2.122067      6.499744  \n",
       "std         0.327311      0.451312           1.094556      3.425208  \n",
       "min         0.000000      0.000000           0.000000      1.000000  \n",
       "25%         0.000000      0.000000           1.000000      4.000000  \n",
       "50%         0.000000      0.000000           2.000000      7.000000  \n",
       "75%         0.000000      1.000000           3.000000      9.000000  \n",
       "max         1.000000      1.000000           6.000000     12.000000  \n",
       "\n",
       "[8 rows x 28 columns]"
      ]
     },
     "execution_count": 11,
     "metadata": {},
     "output_type": "execute_result"
    }
   ],
   "source": [
    "users_data_wout_outliers.describe()"
   ]
  },
  {
   "cell_type": "code",
   "execution_count": 12,
   "metadata": {
    "colab": {
     "base_uri": "https://localhost:8080/",
     "height": 281
    },
    "executionInfo": {
     "elapsed": 841,
     "status": "ok",
     "timestamp": 1616420866399,
     "user": {
      "displayName": "Sarah Haq",
      "photoUrl": "https://lh3.googleusercontent.com/a-/AOh14Gh7vs3P5_F3LYi7bEV8r1vbltDxEgpoYXmxHgxGBw=s64",
      "userId": "16294508270436203551"
     },
     "user_tz": -60
    },
    "id": "PknNQr7mvJKj",
    "outputId": "929340a6-867b-44f3-8cec-3f98175e4475"
   },
   "outputs": [
    {
     "data": {
      "image/png": "[encoded data removed]",
      "text/plain": [
       "<Figure size 432x288 with 1 Axes>"
      ]
     },
     "metadata": {
      "needs_background": "light"
     },
     "output_type": "display_data"
    }
   ],
   "source": [
    "plt.title('Distribution of total_amount_usd')\n",
    "users_data_wout_outliers.total_amount_usd.hist();"
   ]
  },
  {
   "cell_type": "markdown",
   "metadata": {
    "id": "M5prSoGXILUv"
   },
   "source": [
    "# Split the data into target and features"
   ]
  },
  {
   "cell_type": "code",
   "execution_count": 13,
   "metadata": {
    "executionInfo": {
     "elapsed": 592,
     "status": "ok",
     "timestamp": 1616420866400,
     "user": {
      "displayName": "Sarah Haq",
      "photoUrl": "https://lh3.googleusercontent.com/a-/AOh14Gh7vs3P5_F3LYi7bEV8r1vbltDxEgpoYXmxHgxGBw=s64",
      "userId": "16294508270436203551"
     },
     "user_tz": -60
    },
    "id": "T6NBf51x4yto"
   },
   "outputs": [],
   "source": [
    "target_data = users_data_wout_outliers.total_amount_usd \n",
    "features = users_data_wout_outliers.drop(['user_id', 'total_amount_usd'],\n",
    "                                         axis = 1)"
   ]
  },
  {
   "cell_type": "markdown",
   "metadata": {
    "id": "QUCMvnPHzdY7"
   },
   "source": [
    "# Split the data into train and test sets"
   ]
  },
  {
   "cell_type": "code",
   "execution_count": 14,
   "metadata": {
    "executionInfo": {
     "elapsed": 900,
     "status": "ok",
     "timestamp": 1616420867077,
     "user": {
      "displayName": "Sarah Haq",
      "photoUrl": "https://lh3.googleusercontent.com/a-/AOh14Gh7vs3P5_F3LYi7bEV8r1vbltDxEgpoYXmxHgxGBw=s64",
      "userId": "16294508270436203551"
     },
     "user_tz": -60
    },
    "id": "WRvRz1Ud-ol3"
   },
   "outputs": [],
   "source": [
    "X_train, X_test, y_train, y_test = train_test_split(features, \n",
    "                                                    target_data,\n",
    "                                                    test_size = 0.3)"
   ]
  },
  {
   "cell_type": "code",
   "execution_count": 15,
   "metadata": {
    "colab": {
     "base_uri": "https://localhost:8080/"
    },
    "executionInfo": {
     "elapsed": 730,
     "status": "ok",
     "timestamp": 1616420867077,
     "user": {
      "displayName": "Sarah Haq",
      "photoUrl": "https://lh3.googleusercontent.com/a-/AOh14Gh7vs3P5_F3LYi7bEV8r1vbltDxEgpoYXmxHgxGBw=s64",
      "userId": "16294508270436203551"
     },
     "user_tz": -60
    },
    "id": "LIInYJ5r4zcB",
    "outputId": "178c35a9-6ea3-495f-822a-1cb1bd4d2418"
   },
   "outputs": [
    {
     "name": "stdout",
     "output_type": "stream",
     "text": [
      "Training data features:  (28730, 31)\n",
      "Training data target:    (28730,)\n"
     ]
    }
   ],
   "source": [
    "print('Training data features: ', X_train.shape)\n",
    "print('Training data target:   ', y_train.shape)"
   ]
  },
  {
   "cell_type": "markdown",
   "metadata": {},
   "source": [
    "# Check the distribution of the test data"
   ]
  },
  {
   "cell_type": "code",
   "execution_count": 16,
   "metadata": {
    "colab": {
     "base_uri": "https://localhost:8080/"
    },
    "executionInfo": {
     "elapsed": 617,
     "status": "ok",
     "timestamp": 1616420867430,
     "user": {
      "displayName": "Sarah Haq",
      "photoUrl": "https://lh3.googleusercontent.com/a-/AOh14Gh7vs3P5_F3LYi7bEV8r1vbltDxEgpoYXmxHgxGBw=s64",
      "userId": "16294508270436203551"
     },
     "user_tz": -60
    },
    "id": "d-HJGo5ZKC2h",
    "outputId": "332b20c5-54f8-47aa-a1f6-e6631d32ac98"
   },
   "outputs": [
    {
     "name": "stdout",
     "output_type": "stream",
     "text": [
      "Test data features:  (12313, 31)\n",
      "Test data target:    (12313,)\n"
     ]
    }
   ],
   "source": [
    "print('Test data features: ', X_test.shape)\n",
    "print('Test data target:   ', y_test.shape)"
   ]
  },
  {
   "cell_type": "code",
   "execution_count": 17,
   "metadata": {
    "colab": {
     "base_uri": "https://localhost:8080/"
    },
    "executionInfo": {
     "elapsed": 489,
     "status": "ok",
     "timestamp": 1616420867430,
     "user": {
      "displayName": "Sarah Haq",
      "photoUrl": "https://lh3.googleusercontent.com/a-/AOh14Gh7vs3P5_F3LYi7bEV8r1vbltDxEgpoYXmxHgxGBw=s64",
      "userId": "16294508270436203551"
     },
     "user_tz": -60
    },
    "id": "m9WMLlmHMPyY",
    "outputId": "d5f8bc7b-1456-49aa-f278-265e8a03aca7"
   },
   "outputs": [
    {
     "data": {
      "text/plain": [
       "count    12313.000000\n",
       "mean       794.124498\n",
       "std        765.840040\n",
       "min      -1629.000000\n",
       "25%        121.000000\n",
       "50%        655.000000\n",
       "75%       1369.420000\n",
       "max       3181.000000\n",
       "Name: total_amount_usd, dtype: float64"
      ]
     },
     "execution_count": 17,
     "metadata": {},
     "output_type": "execute_result"
    }
   ],
   "source": [
    "y_test.describe()"
   ]
  },
  {
   "cell_type": "markdown",
   "metadata": {
    "id": "AAyWzvFwZ-YE"
   },
   "source": [
    "# Train a linear regression model"
   ]
  },
  {
   "cell_type": "code",
   "execution_count": 18,
   "metadata": {
    "executionInfo": {
     "elapsed": 615,
     "status": "ok",
     "timestamp": 1616420869579,
     "user": {
      "displayName": "Sarah Haq",
      "photoUrl": "https://lh3.googleusercontent.com/a-/AOh14Gh7vs3P5_F3LYi7bEV8r1vbltDxEgpoYXmxHgxGBw=s64",
      "userId": "16294508270436203551"
     },
     "user_tz": -60
    },
    "id": "p7vX0Mngxf-l"
   },
   "outputs": [
    {
     "data": {
      "text/plain": [
       "LinearRegression()"
      ]
     },
     "execution_count": 18,
     "metadata": {},
     "output_type": "execute_result"
    }
   ],
   "source": [
    "linreg = LinearRegression()\n",
    "linreg.fit(X_train, y_train)"
   ]
  },
  {
   "cell_type": "markdown",
   "metadata": {
    "id": "t5hx9ClOdztY"
   },
   "source": [
    "# Make predictions using the linear regression model"
   ]
  },
  {
   "cell_type": "code",
   "execution_count": 19,
   "metadata": {
    "colab": {
     "base_uri": "https://localhost:8080/"
    },
    "executionInfo": {
     "elapsed": 487,
     "status": "ok",
     "timestamp": 1616420869883,
     "user": {
      "displayName": "Sarah Haq",
      "photoUrl": "https://lh3.googleusercontent.com/a-/AOh14Gh7vs3P5_F3LYi7bEV8r1vbltDxEgpoYXmxHgxGBw=s64",
      "userId": "16294508270436203551"
     },
     "user_tz": -60
    },
    "id": "kZjee1E0QhQb",
    "outputId": "cc6f2249-e7a1-4f14-b715-de0fc1140844"
   },
   "outputs": [],
   "source": [
    "linreg_y_pred = linreg.predict(X_test) "
   ]
  },
  {
   "cell_type": "code",
   "execution_count": 20,
   "metadata": {},
   "outputs": [
    {
     "data": {
      "text/html": [
       "<div>\n",
       "<style scoped>\n",
       "    .dataframe tbody tr th:only-of-type {\n",
       "        vertical-align: middle;\n",
       "    }\n",
       "\n",
       "    .dataframe tbody tr th {\n",
       "        vertical-align: top;\n",
       "    }\n",
       "\n",
       "    .dataframe thead th {\n",
       "        text-align: right;\n",
       "    }\n",
       "</style>\n",
       "<table border=\"1\" class=\"dataframe\">\n",
       "  <thead>\n",
       "    <tr style=\"text-align: right;\">\n",
       "      <th></th>\n",
       "      <th>total_amount_usd</th>\n",
       "      <th>total_pred</th>\n",
       "      <th>number_transactions</th>\n",
       "      <th>job_management</th>\n",
       "      <th>job_technician</th>\n",
       "      <th>job_entrepreneur</th>\n",
       "      <th>job_blue-collar</th>\n",
       "      <th>job_retired</th>\n",
       "      <th>job_admin.</th>\n",
       "      <th>job_services</th>\n",
       "      <th>...</th>\n",
       "      <th>duration</th>\n",
       "      <th>campaign</th>\n",
       "      <th>pdays</th>\n",
       "      <th>previous</th>\n",
       "      <th>term_deposit</th>\n",
       "      <th>device_desktop</th>\n",
       "      <th>device_tablet</th>\n",
       "      <th>single</th>\n",
       "      <th>age_group_encoded</th>\n",
       "      <th>month_joined</th>\n",
       "    </tr>\n",
       "  </thead>\n",
       "  <tbody>\n",
       "    <tr>\n",
       "      <th>33025</th>\n",
       "      <td>104.00</td>\n",
       "      <td>856.80</td>\n",
       "      <td>3.0</td>\n",
       "      <td>0</td>\n",
       "      <td>0</td>\n",
       "      <td>0</td>\n",
       "      <td>1</td>\n",
       "      <td>0</td>\n",
       "      <td>0</td>\n",
       "      <td>0</td>\n",
       "      <td>...</td>\n",
       "      <td>317</td>\n",
       "      <td>3</td>\n",
       "      <td>324</td>\n",
       "      <td>2</td>\n",
       "      <td>False</td>\n",
       "      <td>0</td>\n",
       "      <td>0</td>\n",
       "      <td>0</td>\n",
       "      <td>3</td>\n",
       "      <td>9</td>\n",
       "    </tr>\n",
       "    <tr>\n",
       "      <th>1893</th>\n",
       "      <td>1369.42</td>\n",
       "      <td>1129.94</td>\n",
       "      <td>0.0</td>\n",
       "      <td>0</td>\n",
       "      <td>1</td>\n",
       "      <td>0</td>\n",
       "      <td>0</td>\n",
       "      <td>0</td>\n",
       "      <td>0</td>\n",
       "      <td>0</td>\n",
       "      <td>...</td>\n",
       "      <td>551</td>\n",
       "      <td>2</td>\n",
       "      <td>-1</td>\n",
       "      <td>0</td>\n",
       "      <td>False</td>\n",
       "      <td>0</td>\n",
       "      <td>0</td>\n",
       "      <td>0</td>\n",
       "      <td>4</td>\n",
       "      <td>9</td>\n",
       "    </tr>\n",
       "    <tr>\n",
       "      <th>26956</th>\n",
       "      <td>219.00</td>\n",
       "      <td>994.59</td>\n",
       "      <td>2.0</td>\n",
       "      <td>0</td>\n",
       "      <td>0</td>\n",
       "      <td>0</td>\n",
       "      <td>1</td>\n",
       "      <td>0</td>\n",
       "      <td>0</td>\n",
       "      <td>0</td>\n",
       "      <td>...</td>\n",
       "      <td>729</td>\n",
       "      <td>1</td>\n",
       "      <td>-1</td>\n",
       "      <td>0</td>\n",
       "      <td>True</td>\n",
       "      <td>1</td>\n",
       "      <td>0</td>\n",
       "      <td>0</td>\n",
       "      <td>3</td>\n",
       "      <td>9</td>\n",
       "    </tr>\n",
       "    <tr>\n",
       "      <th>38050</th>\n",
       "      <td>170.00</td>\n",
       "      <td>829.65</td>\n",
       "      <td>2.0</td>\n",
       "      <td>0</td>\n",
       "      <td>0</td>\n",
       "      <td>0</td>\n",
       "      <td>1</td>\n",
       "      <td>0</td>\n",
       "      <td>0</td>\n",
       "      <td>0</td>\n",
       "      <td>...</td>\n",
       "      <td>113</td>\n",
       "      <td>3</td>\n",
       "      <td>367</td>\n",
       "      <td>4</td>\n",
       "      <td>False</td>\n",
       "      <td>0</td>\n",
       "      <td>0</td>\n",
       "      <td>0</td>\n",
       "      <td>1</td>\n",
       "      <td>3</td>\n",
       "    </tr>\n",
       "    <tr>\n",
       "      <th>19663</th>\n",
       "      <td>53.00</td>\n",
       "      <td>816.78</td>\n",
       "      <td>3.0</td>\n",
       "      <td>1</td>\n",
       "      <td>0</td>\n",
       "      <td>0</td>\n",
       "      <td>0</td>\n",
       "      <td>0</td>\n",
       "      <td>0</td>\n",
       "      <td>0</td>\n",
       "      <td>...</td>\n",
       "      <td>165</td>\n",
       "      <td>3</td>\n",
       "      <td>-1</td>\n",
       "      <td>0</td>\n",
       "      <td>False</td>\n",
       "      <td>0</td>\n",
       "      <td>0</td>\n",
       "      <td>1</td>\n",
       "      <td>1</td>\n",
       "      <td>10</td>\n",
       "    </tr>\n",
       "  </tbody>\n",
       "</table>\n",
       "<p>5 rows × 33 columns</p>\n",
       "</div>"
      ],
      "text/plain": [
       "       total_amount_usd  total_pred  number_transactions  job_management  \\\n",
       "33025            104.00      856.80                  3.0               0   \n",
       "1893            1369.42     1129.94                  0.0               0   \n",
       "26956            219.00      994.59                  2.0               0   \n",
       "38050            170.00      829.65                  2.0               0   \n",
       "19663             53.00      816.78                  3.0               1   \n",
       "\n",
       "       job_technician  job_entrepreneur  job_blue-collar  job_retired  \\\n",
       "33025               0                 0                1            0   \n",
       "1893                1                 0                0            0   \n",
       "26956               0                 0                1            0   \n",
       "38050               0                 0                1            0   \n",
       "19663               0                 0                0            0   \n",
       "\n",
       "       job_admin.  job_services  ...  duration  campaign  pdays  previous  \\\n",
       "33025           0             0  ...       317         3    324         2   \n",
       "1893            0             0  ...       551         2     -1         0   \n",
       "26956           0             0  ...       729         1     -1         0   \n",
       "38050           0             0  ...       113         3    367         4   \n",
       "19663           0             0  ...       165         3     -1         0   \n",
       "\n",
       "       term_deposit  device_desktop  device_tablet  single  age_group_encoded  \\\n",
       "33025         False               0              0       0                  3   \n",
       "1893          False               0              0       0                  4   \n",
       "26956          True               1              0       0                  3   \n",
       "38050         False               0              0       0                  1   \n",
       "19663         False               0              0       1                  1   \n",
       "\n",
       "       month_joined  \n",
       "33025             9  \n",
       "1893              9  \n",
       "26956             9  \n",
       "38050             3  \n",
       "19663            10  \n",
       "\n",
       "[5 rows x 33 columns]"
      ]
     },
     "execution_count": 20,
     "metadata": {},
     "output_type": "execute_result"
    }
   ],
   "source": [
    "results = pd.concat([y_test.iloc[:5], X_test.iloc[:5]], axis = 1)\n",
    "results.insert(1, 'total_pred', linreg_y_pred[:5].round(2))\n",
    "results"
   ]
  },
  {
   "cell_type": "markdown",
   "metadata": {
    "id": "OkjiRUsPKwIY"
   },
   "source": [
    "# Obtain the linear regression model's score"
   ]
  },
  {
   "cell_type": "code",
   "execution_count": 21,
   "metadata": {
    "colab": {
     "base_uri": "https://localhost:8080/"
    },
    "executionInfo": {
     "elapsed": 534,
     "status": "ok",
     "timestamp": 1616420870236,
     "user": {
      "displayName": "Sarah Haq",
      "photoUrl": "https://lh3.googleusercontent.com/a-/AOh14Gh7vs3P5_F3LYi7bEV8r1vbltDxEgpoYXmxHgxGBw=s64",
      "userId": "16294508270436203551"
     },
     "user_tz": -60
    },
    "id": "CFcEcm11R8eH",
    "outputId": "c2ea3532-18b4-4b41-a544-07a89846eecd"
   },
   "outputs": [
    {
     "data": {
      "text/plain": [
       "0.23321527124088093"
      ]
     },
     "execution_count": 21,
     "metadata": {},
     "output_type": "execute_result"
    }
   ],
   "source": [
    "r2_score(y_test, linreg_y_pred)"
   ]
  },
  {
   "cell_type": "markdown",
   "metadata": {
    "id": "DVx4jRd9gRgd"
   },
   "source": [
    "# Train a decision tree model"
   ]
  },
  {
   "cell_type": "code",
   "execution_count": 22,
   "metadata": {
    "executionInfo": {
     "elapsed": 89464,
     "status": "ok",
     "timestamp": 1616420965382,
     "user": {
      "displayName": "Sarah Haq",
      "photoUrl": "https://lh3.googleusercontent.com/a-/AOh14Gh7vs3P5_F3LYi7bEV8r1vbltDxEgpoYXmxHgxGBw=s64",
      "userId": "16294508270436203551"
     },
     "user_tz": -60
    },
    "id": "ekWkr9qEy_xT"
   },
   "outputs": [
    {
     "data": {
      "text/plain": [
       "DecisionTreeRegressor()"
      ]
     },
     "execution_count": 22,
     "metadata": {},
     "output_type": "execute_result"
    }
   ],
   "source": [
    "reg_tree = DecisionTreeRegressor()\n",
    "reg_tree.fit(X_train, y_train)"
   ]
  },
  {
   "cell_type": "markdown",
   "metadata": {
    "id": "4UEVrk6OgS15"
   },
   "source": [
    "# Make predictions using the decision tree model"
   ]
  },
  {
   "cell_type": "code",
   "execution_count": 23,
   "metadata": {
    "colab": {
     "base_uri": "https://localhost:8080/"
    },
    "executionInfo": {
     "elapsed": 89380,
     "status": "ok",
     "timestamp": 1616420965730,
     "user": {
      "displayName": "Sarah Haq",
      "photoUrl": "https://lh3.googleusercontent.com/a-/AOh14Gh7vs3P5_F3LYi7bEV8r1vbltDxEgpoYXmxHgxGBw=s64",
      "userId": "16294508270436203551"
     },
     "user_tz": -60
    },
    "id": "LXlM9vIugUqA",
    "outputId": "36e1eb40-587f-4e7a-9551-f2eea73a8575"
   },
   "outputs": [],
   "source": [
    "reg_tree_y_pred = reg_tree.predict(X_test)"
   ]
  },
  {
   "cell_type": "code",
   "execution_count": 24,
   "metadata": {
    "colab": {
     "base_uri": "https://localhost:8080/"
    },
    "executionInfo": {
     "elapsed": 89163,
     "status": "ok",
     "timestamp": 1616420965730,
     "user": {
      "displayName": "Sarah Haq",
      "photoUrl": "https://lh3.googleusercontent.com/a-/AOh14Gh7vs3P5_F3LYi7bEV8r1vbltDxEgpoYXmxHgxGBw=s64",
      "userId": "16294508270436203551"
     },
     "user_tz": -60
    },
    "id": "VI9n8Z3YJH_C",
    "outputId": "2c49c745-b3e2-4d73-be09-78058d0a46b0"
   },
   "outputs": [
    {
     "data": {
      "text/html": [
       "<div>\n",
       "<style scoped>\n",
       "    .dataframe tbody tr th:only-of-type {\n",
       "        vertical-align: middle;\n",
       "    }\n",
       "\n",
       "    .dataframe tbody tr th {\n",
       "        vertical-align: top;\n",
       "    }\n",
       "\n",
       "    .dataframe thead th {\n",
       "        text-align: right;\n",
       "    }\n",
       "</style>\n",
       "<table border=\"1\" class=\"dataframe\">\n",
       "  <thead>\n",
       "    <tr style=\"text-align: right;\">\n",
       "      <th></th>\n",
       "      <th>total_amount_usd</th>\n",
       "      <th>total_pred</th>\n",
       "      <th>number_transactions</th>\n",
       "      <th>job_management</th>\n",
       "      <th>job_technician</th>\n",
       "      <th>job_entrepreneur</th>\n",
       "      <th>job_blue-collar</th>\n",
       "      <th>job_retired</th>\n",
       "      <th>job_admin.</th>\n",
       "      <th>job_services</th>\n",
       "      <th>...</th>\n",
       "      <th>duration</th>\n",
       "      <th>campaign</th>\n",
       "      <th>pdays</th>\n",
       "      <th>previous</th>\n",
       "      <th>term_deposit</th>\n",
       "      <th>device_desktop</th>\n",
       "      <th>device_tablet</th>\n",
       "      <th>single</th>\n",
       "      <th>age_group_encoded</th>\n",
       "      <th>month_joined</th>\n",
       "    </tr>\n",
       "  </thead>\n",
       "  <tbody>\n",
       "    <tr>\n",
       "      <th>33025</th>\n",
       "      <td>104.00</td>\n",
       "      <td>2958.00</td>\n",
       "      <td>3.0</td>\n",
       "      <td>0</td>\n",
       "      <td>0</td>\n",
       "      <td>0</td>\n",
       "      <td>1</td>\n",
       "      <td>0</td>\n",
       "      <td>0</td>\n",
       "      <td>0</td>\n",
       "      <td>...</td>\n",
       "      <td>317</td>\n",
       "      <td>3</td>\n",
       "      <td>324</td>\n",
       "      <td>2</td>\n",
       "      <td>False</td>\n",
       "      <td>0</td>\n",
       "      <td>0</td>\n",
       "      <td>0</td>\n",
       "      <td>3</td>\n",
       "      <td>9</td>\n",
       "    </tr>\n",
       "    <tr>\n",
       "      <th>1893</th>\n",
       "      <td>1369.42</td>\n",
       "      <td>1369.42</td>\n",
       "      <td>0.0</td>\n",
       "      <td>0</td>\n",
       "      <td>1</td>\n",
       "      <td>0</td>\n",
       "      <td>0</td>\n",
       "      <td>0</td>\n",
       "      <td>0</td>\n",
       "      <td>0</td>\n",
       "      <td>...</td>\n",
       "      <td>551</td>\n",
       "      <td>2</td>\n",
       "      <td>-1</td>\n",
       "      <td>0</td>\n",
       "      <td>False</td>\n",
       "      <td>0</td>\n",
       "      <td>0</td>\n",
       "      <td>0</td>\n",
       "      <td>4</td>\n",
       "      <td>9</td>\n",
       "    </tr>\n",
       "    <tr>\n",
       "      <th>26956</th>\n",
       "      <td>219.00</td>\n",
       "      <td>2787.00</td>\n",
       "      <td>2.0</td>\n",
       "      <td>0</td>\n",
       "      <td>0</td>\n",
       "      <td>0</td>\n",
       "      <td>1</td>\n",
       "      <td>0</td>\n",
       "      <td>0</td>\n",
       "      <td>0</td>\n",
       "      <td>...</td>\n",
       "      <td>729</td>\n",
       "      <td>1</td>\n",
       "      <td>-1</td>\n",
       "      <td>0</td>\n",
       "      <td>True</td>\n",
       "      <td>1</td>\n",
       "      <td>0</td>\n",
       "      <td>0</td>\n",
       "      <td>3</td>\n",
       "      <td>9</td>\n",
       "    </tr>\n",
       "    <tr>\n",
       "      <th>38050</th>\n",
       "      <td>170.00</td>\n",
       "      <td>59.00</td>\n",
       "      <td>2.0</td>\n",
       "      <td>0</td>\n",
       "      <td>0</td>\n",
       "      <td>0</td>\n",
       "      <td>1</td>\n",
       "      <td>0</td>\n",
       "      <td>0</td>\n",
       "      <td>0</td>\n",
       "      <td>...</td>\n",
       "      <td>113</td>\n",
       "      <td>3</td>\n",
       "      <td>367</td>\n",
       "      <td>4</td>\n",
       "      <td>False</td>\n",
       "      <td>0</td>\n",
       "      <td>0</td>\n",
       "      <td>0</td>\n",
       "      <td>1</td>\n",
       "      <td>3</td>\n",
       "    </tr>\n",
       "    <tr>\n",
       "      <th>19663</th>\n",
       "      <td>53.00</td>\n",
       "      <td>862.00</td>\n",
       "      <td>3.0</td>\n",
       "      <td>1</td>\n",
       "      <td>0</td>\n",
       "      <td>0</td>\n",
       "      <td>0</td>\n",
       "      <td>0</td>\n",
       "      <td>0</td>\n",
       "      <td>0</td>\n",
       "      <td>...</td>\n",
       "      <td>165</td>\n",
       "      <td>3</td>\n",
       "      <td>-1</td>\n",
       "      <td>0</td>\n",
       "      <td>False</td>\n",
       "      <td>0</td>\n",
       "      <td>0</td>\n",
       "      <td>1</td>\n",
       "      <td>1</td>\n",
       "      <td>10</td>\n",
       "    </tr>\n",
       "  </tbody>\n",
       "</table>\n",
       "<p>5 rows × 33 columns</p>\n",
       "</div>"
      ],
      "text/plain": [
       "       total_amount_usd  total_pred  number_transactions  job_management  \\\n",
       "33025            104.00     2958.00                  3.0               0   \n",
       "1893            1369.42     1369.42                  0.0               0   \n",
       "26956            219.00     2787.00                  2.0               0   \n",
       "38050            170.00       59.00                  2.0               0   \n",
       "19663             53.00      862.00                  3.0               1   \n",
       "\n",
       "       job_technician  job_entrepreneur  job_blue-collar  job_retired  \\\n",
       "33025               0                 0                1            0   \n",
       "1893                1                 0                0            0   \n",
       "26956               0                 0                1            0   \n",
       "38050               0                 0                1            0   \n",
       "19663               0                 0                0            0   \n",
       "\n",
       "       job_admin.  job_services  ...  duration  campaign  pdays  previous  \\\n",
       "33025           0             0  ...       317         3    324         2   \n",
       "1893            0             0  ...       551         2     -1         0   \n",
       "26956           0             0  ...       729         1     -1         0   \n",
       "38050           0             0  ...       113         3    367         4   \n",
       "19663           0             0  ...       165         3     -1         0   \n",
       "\n",
       "       term_deposit  device_desktop  device_tablet  single  age_group_encoded  \\\n",
       "33025         False               0              0       0                  3   \n",
       "1893          False               0              0       0                  4   \n",
       "26956          True               1              0       0                  3   \n",
       "38050         False               0              0       0                  1   \n",
       "19663         False               0              0       1                  1   \n",
       "\n",
       "       month_joined  \n",
       "33025             9  \n",
       "1893              9  \n",
       "26956             9  \n",
       "38050             3  \n",
       "19663            10  \n",
       "\n",
       "[5 rows x 33 columns]"
      ]
     },
     "execution_count": 24,
     "metadata": {},
     "output_type": "execute_result"
    }
   ],
   "source": [
    "results['total_pred'] = reg_tree_y_pred[:5]\n",
    "results"
   ]
  },
  {
   "cell_type": "markdown",
   "metadata": {
    "id": "x8Ul4rz7K-y0"
   },
   "source": [
    "# Obtain the decision tree model's score"
   ]
  },
  {
   "cell_type": "code",
   "execution_count": 25,
   "metadata": {
    "colab": {
     "base_uri": "https://localhost:8080/"
    },
    "executionInfo": {
     "elapsed": 88853,
     "status": "ok",
     "timestamp": 1616420965731,
     "user": {
      "displayName": "Sarah Haq",
      "photoUrl": "https://lh3.googleusercontent.com/a-/AOh14Gh7vs3P5_F3LYi7bEV8r1vbltDxEgpoYXmxHgxGBw=s64",
      "userId": "16294508270436203551"
     },
     "user_tz": -60
    },
    "id": "K-VNn5lfgWCT",
    "outputId": "1d0633c4-fee7-409f-f0c4-1982e66d8c70"
   },
   "outputs": [
    {
     "data": {
      "text/plain": [
       "-0.40313871451252936"
      ]
     },
     "execution_count": 25,
     "metadata": {},
     "output_type": "execute_result"
    }
   ],
   "source": [
    "r2_score(y_test, reg_tree_y_pred)"
   ]
  },
  {
   "cell_type": "markdown",
   "metadata": {},
   "source": [
    "# Visualize the decision tree"
   ]
  },
  {
   "cell_type": "code",
   "execution_count": 26,
   "metadata": {},
   "outputs": [
    {
     "data": {
      "image/png": "[encoded data removed]",
      "text/plain": [
       "<Figure size 1800x1440 with 1 Axes>"
      ]
     },
     "metadata": {
      "needs_background": "light"
     },
     "output_type": "display_data"
    }
   ],
   "source": [
    "fig = plt.figure(figsize = (25, 20))\n",
    "_ = tree.plot_tree(reg_tree, \n",
    "                   feature_names = list(X_train.columns),\n",
    "                   max_depth = 2,\n",
    "                   filled = True)"
   ]
  },
  {
   "cell_type": "markdown",
   "metadata": {
    "id": "twj9nwaudi6I"
   },
   "source": [
    "# Train a random forest model"
   ]
  },
  {
   "cell_type": "code",
   "execution_count": 27,
   "metadata": {
    "executionInfo": {
     "elapsed": 88185,
     "status": "ok",
     "timestamp": 1616420965731,
     "user": {
      "displayName": "Sarah Haq",
      "photoUrl": "https://lh3.googleusercontent.com/a-/AOh14Gh7vs3P5_F3LYi7bEV8r1vbltDxEgpoYXmxHgxGBw=s64",
      "userId": "16294508270436203551"
     },
     "user_tz": -60
    },
    "id": "lQKsWBf6VyHg"
   },
   "outputs": [
    {
     "data": {
      "text/plain": [
       "RandomForestRegressor()"
      ]
     },
     "execution_count": 27,
     "metadata": {},
     "output_type": "execute_result"
    }
   ],
   "source": [
    "rf = RandomForestRegressor()\n",
    "rf.fit(X_train, y_train)"
   ]
  },
  {
   "cell_type": "markdown",
   "metadata": {
    "id": "hdVf1EwndpgE"
   },
   "source": [
    "# Make predictions using the random forest model"
   ]
  },
  {
   "cell_type": "code",
   "execution_count": 28,
   "metadata": {
    "colab": {
     "base_uri": "https://localhost:8080/"
    },
    "executionInfo": {
     "elapsed": 102062,
     "status": "ok",
     "timestamp": 1616420980112,
     "user": {
      "displayName": "Sarah Haq",
      "photoUrl": "https://lh3.googleusercontent.com/a-/AOh14Gh7vs3P5_F3LYi7bEV8r1vbltDxEgpoYXmxHgxGBw=s64",
      "userId": "16294508270436203551"
     },
     "user_tz": -60
    },
    "id": "FUSBSEG7WE0P",
    "outputId": "775b2365-698d-449a-8a15-6d9483d37788"
   },
   "outputs": [],
   "source": [
    "rf_y_pred = rf.predict(X_test)"
   ]
  },
  {
   "cell_type": "code",
   "execution_count": 29,
   "metadata": {
    "colab": {
     "base_uri": "https://localhost:8080/"
    },
    "executionInfo": {
     "elapsed": 101895,
     "status": "ok",
     "timestamp": 1616420980113,
     "user": {
      "displayName": "Sarah Haq",
      "photoUrl": "https://lh3.googleusercontent.com/a-/AOh14Gh7vs3P5_F3LYi7bEV8r1vbltDxEgpoYXmxHgxGBw=s64",
      "userId": "16294508270436203551"
     },
     "user_tz": -60
    },
    "id": "_KR49Sh6I_0y",
    "outputId": "7886082d-778e-46f8-b321-b524692dd6bf"
   },
   "outputs": [
    {
     "data": {
      "text/html": [
       "<div>\n",
       "<style scoped>\n",
       "    .dataframe tbody tr th:only-of-type {\n",
       "        vertical-align: middle;\n",
       "    }\n",
       "\n",
       "    .dataframe tbody tr th {\n",
       "        vertical-align: top;\n",
       "    }\n",
       "\n",
       "    .dataframe thead th {\n",
       "        text-align: right;\n",
       "    }\n",
       "</style>\n",
       "<table border=\"1\" class=\"dataframe\">\n",
       "  <thead>\n",
       "    <tr style=\"text-align: right;\">\n",
       "      <th></th>\n",
       "      <th>total_amount_usd</th>\n",
       "      <th>total_pred</th>\n",
       "      <th>number_transactions</th>\n",
       "      <th>job_management</th>\n",
       "      <th>job_technician</th>\n",
       "      <th>job_entrepreneur</th>\n",
       "      <th>job_blue-collar</th>\n",
       "      <th>job_retired</th>\n",
       "      <th>job_admin.</th>\n",
       "      <th>job_services</th>\n",
       "      <th>...</th>\n",
       "      <th>duration</th>\n",
       "      <th>campaign</th>\n",
       "      <th>pdays</th>\n",
       "      <th>previous</th>\n",
       "      <th>term_deposit</th>\n",
       "      <th>device_desktop</th>\n",
       "      <th>device_tablet</th>\n",
       "      <th>single</th>\n",
       "      <th>age_group_encoded</th>\n",
       "      <th>month_joined</th>\n",
       "    </tr>\n",
       "  </thead>\n",
       "  <tbody>\n",
       "    <tr>\n",
       "      <th>33025</th>\n",
       "      <td>104.00</td>\n",
       "      <td>1187.61</td>\n",
       "      <td>3.0</td>\n",
       "      <td>0</td>\n",
       "      <td>0</td>\n",
       "      <td>0</td>\n",
       "      <td>1</td>\n",
       "      <td>0</td>\n",
       "      <td>0</td>\n",
       "      <td>0</td>\n",
       "      <td>...</td>\n",
       "      <td>317</td>\n",
       "      <td>3</td>\n",
       "      <td>324</td>\n",
       "      <td>2</td>\n",
       "      <td>False</td>\n",
       "      <td>0</td>\n",
       "      <td>0</td>\n",
       "      <td>0</td>\n",
       "      <td>3</td>\n",
       "      <td>9</td>\n",
       "    </tr>\n",
       "    <tr>\n",
       "      <th>1893</th>\n",
       "      <td>1369.42</td>\n",
       "      <td>1369.42</td>\n",
       "      <td>0.0</td>\n",
       "      <td>0</td>\n",
       "      <td>1</td>\n",
       "      <td>0</td>\n",
       "      <td>0</td>\n",
       "      <td>0</td>\n",
       "      <td>0</td>\n",
       "      <td>0</td>\n",
       "      <td>...</td>\n",
       "      <td>551</td>\n",
       "      <td>2</td>\n",
       "      <td>-1</td>\n",
       "      <td>0</td>\n",
       "      <td>False</td>\n",
       "      <td>0</td>\n",
       "      <td>0</td>\n",
       "      <td>0</td>\n",
       "      <td>4</td>\n",
       "      <td>9</td>\n",
       "    </tr>\n",
       "    <tr>\n",
       "      <th>26956</th>\n",
       "      <td>219.00</td>\n",
       "      <td>1134.88</td>\n",
       "      <td>2.0</td>\n",
       "      <td>0</td>\n",
       "      <td>0</td>\n",
       "      <td>0</td>\n",
       "      <td>1</td>\n",
       "      <td>0</td>\n",
       "      <td>0</td>\n",
       "      <td>0</td>\n",
       "      <td>...</td>\n",
       "      <td>729</td>\n",
       "      <td>1</td>\n",
       "      <td>-1</td>\n",
       "      <td>0</td>\n",
       "      <td>True</td>\n",
       "      <td>1</td>\n",
       "      <td>0</td>\n",
       "      <td>0</td>\n",
       "      <td>3</td>\n",
       "      <td>9</td>\n",
       "    </tr>\n",
       "    <tr>\n",
       "      <th>38050</th>\n",
       "      <td>170.00</td>\n",
       "      <td>514.93</td>\n",
       "      <td>2.0</td>\n",
       "      <td>0</td>\n",
       "      <td>0</td>\n",
       "      <td>0</td>\n",
       "      <td>1</td>\n",
       "      <td>0</td>\n",
       "      <td>0</td>\n",
       "      <td>0</td>\n",
       "      <td>...</td>\n",
       "      <td>113</td>\n",
       "      <td>3</td>\n",
       "      <td>367</td>\n",
       "      <td>4</td>\n",
       "      <td>False</td>\n",
       "      <td>0</td>\n",
       "      <td>0</td>\n",
       "      <td>0</td>\n",
       "      <td>1</td>\n",
       "      <td>3</td>\n",
       "    </tr>\n",
       "    <tr>\n",
       "      <th>19663</th>\n",
       "      <td>53.00</td>\n",
       "      <td>969.48</td>\n",
       "      <td>3.0</td>\n",
       "      <td>1</td>\n",
       "      <td>0</td>\n",
       "      <td>0</td>\n",
       "      <td>0</td>\n",
       "      <td>0</td>\n",
       "      <td>0</td>\n",
       "      <td>0</td>\n",
       "      <td>...</td>\n",
       "      <td>165</td>\n",
       "      <td>3</td>\n",
       "      <td>-1</td>\n",
       "      <td>0</td>\n",
       "      <td>False</td>\n",
       "      <td>0</td>\n",
       "      <td>0</td>\n",
       "      <td>1</td>\n",
       "      <td>1</td>\n",
       "      <td>10</td>\n",
       "    </tr>\n",
       "  </tbody>\n",
       "</table>\n",
       "<p>5 rows × 33 columns</p>\n",
       "</div>"
      ],
      "text/plain": [
       "       total_amount_usd  total_pred  number_transactions  job_management  \\\n",
       "33025            104.00     1187.61                  3.0               0   \n",
       "1893            1369.42     1369.42                  0.0               0   \n",
       "26956            219.00     1134.88                  2.0               0   \n",
       "38050            170.00      514.93                  2.0               0   \n",
       "19663             53.00      969.48                  3.0               1   \n",
       "\n",
       "       job_technician  job_entrepreneur  job_blue-collar  job_retired  \\\n",
       "33025               0                 0                1            0   \n",
       "1893                1                 0                0            0   \n",
       "26956               0                 0                1            0   \n",
       "38050               0                 0                1            0   \n",
       "19663               0                 0                0            0   \n",
       "\n",
       "       job_admin.  job_services  ...  duration  campaign  pdays  previous  \\\n",
       "33025           0             0  ...       317         3    324         2   \n",
       "1893            0             0  ...       551         2     -1         0   \n",
       "26956           0             0  ...       729         1     -1         0   \n",
       "38050           0             0  ...       113         3    367         4   \n",
       "19663           0             0  ...       165         3     -1         0   \n",
       "\n",
       "       term_deposit  device_desktop  device_tablet  single  age_group_encoded  \\\n",
       "33025         False               0              0       0                  3   \n",
       "1893          False               0              0       0                  4   \n",
       "26956          True               1              0       0                  3   \n",
       "38050         False               0              0       0                  1   \n",
       "19663         False               0              0       1                  1   \n",
       "\n",
       "       month_joined  \n",
       "33025             9  \n",
       "1893              9  \n",
       "26956             9  \n",
       "38050             3  \n",
       "19663            10  \n",
       "\n",
       "[5 rows x 33 columns]"
      ]
     },
     "execution_count": 29,
     "metadata": {},
     "output_type": "execute_result"
    }
   ],
   "source": [
    "results['total_pred'] = rf_y_pred[:5]\n",
    "results"
   ]
  },
  {
   "cell_type": "markdown",
   "metadata": {
    "id": "q-5B6j47LAye"
   },
   "source": [
    "# Obtain the random forest model's score"
   ]
  },
  {
   "cell_type": "code",
   "execution_count": 30,
   "metadata": {
    "colab": {
     "base_uri": "https://localhost:8080/"
    },
    "executionInfo": {
     "elapsed": 100701,
     "status": "ok",
     "timestamp": 1616420980113,
     "user": {
      "displayName": "Sarah Haq",
      "photoUrl": "https://lh3.googleusercontent.com/a-/AOh14Gh7vs3P5_F3LYi7bEV8r1vbltDxEgpoYXmxHgxGBw=s64",
      "userId": "16294508270436203551"
     },
     "user_tz": -60
    },
    "id": "NWgTc3f7WHuI",
    "outputId": "e3823066-676f-4659-8274-91ac3042ab8d"
   },
   "outputs": [
    {
     "data": {
      "text/plain": [
       "0.2955761465520649"
      ]
     },
     "execution_count": 30,
     "metadata": {},
     "output_type": "execute_result"
    }
   ],
   "source": [
    "r2_score(y_test, rf_y_pred)"
   ]
  },
  {
   "cell_type": "markdown",
   "metadata": {
    "id": "NH09v_HndtBg"
   },
   "source": [
    "# Train a gradient boosting model"
   ]
  },
  {
   "cell_type": "code",
   "execution_count": 31,
   "metadata": {
    "executionInfo": {
     "elapsed": 99949,
     "status": "ok",
     "timestamp": 1616420980114,
     "user": {
      "displayName": "Sarah Haq",
      "photoUrl": "https://lh3.googleusercontent.com/a-/AOh14Gh7vs3P5_F3LYi7bEV8r1vbltDxEgpoYXmxHgxGBw=s64",
      "userId": "16294508270436203551"
     },
     "user_tz": -60
    },
    "id": "67ynShnkTdUf"
   },
   "outputs": [
    {
     "data": {
      "text/plain": [
       "XGBRegressor(base_score=0.5, booster='gbtree', colsample_bylevel=1,\n",
       "             colsample_bynode=1, colsample_bytree=1, gamma=0, gpu_id=-1,\n",
       "             importance_type='gain', interaction_constraints='',\n",
       "             learning_rate=0.300000012, max_delta_step=0, max_depth=6,\n",
       "             min_child_weight=1, missing=nan, monotone_constraints='()',\n",
       "             n_estimators=100, n_jobs=1, num_parallel_tree=1, random_state=0,\n",
       "             reg_alpha=0, reg_lambda=1, scale_pos_weight=1, subsample=1,\n",
       "             tree_method='exact', validate_parameters=1, verbosity=None)"
      ]
     },
     "execution_count": 31,
     "metadata": {},
     "output_type": "execute_result"
    }
   ],
   "source": [
    "xgb = XGBRegressor(objective = 'reg:squarederror', n_jobs = 1)\n",
    "xgb.fit(X_train, y_train)"
   ]
  },
  {
   "cell_type": "markdown",
   "metadata": {
    "id": "d7sHLofidur_"
   },
   "source": [
    "# Make predictions using the gradient boosting model"
   ]
  },
  {
   "cell_type": "code",
   "execution_count": 32,
   "metadata": {
    "colab": {
     "base_uri": "https://localhost:8080/"
    },
    "executionInfo": {
     "elapsed": 101580,
     "status": "ok",
     "timestamp": 1616420982371,
     "user": {
      "displayName": "Sarah Haq",
      "photoUrl": "https://lh3.googleusercontent.com/a-/AOh14Gh7vs3P5_F3LYi7bEV8r1vbltDxEgpoYXmxHgxGBw=s64",
      "userId": "16294508270436203551"
     },
     "user_tz": -60
    },
    "id": "kQnPd1cfWYwc",
    "outputId": "e61f88b2-fdc1-4d20-915c-761ed494b466"
   },
   "outputs": [],
   "source": [
    "xgb_y_pred = xgb.predict(X_test)"
   ]
  },
  {
   "cell_type": "code",
   "execution_count": 33,
   "metadata": {
    "colab": {
     "base_uri": "https://localhost:8080/"
    },
    "executionInfo": {
     "elapsed": 101040,
     "status": "ok",
     "timestamp": 1616420982371,
     "user": {
      "displayName": "Sarah Haq",
      "photoUrl": "https://lh3.googleusercontent.com/a-/AOh14Gh7vs3P5_F3LYi7bEV8r1vbltDxEgpoYXmxHgxGBw=s64",
      "userId": "16294508270436203551"
     },
     "user_tz": -60
    },
    "id": "GlWs3_qMKF_T",
    "outputId": "7590aead-ed31-416e-eb3c-0faa0e6e47d6"
   },
   "outputs": [
    {
     "data": {
      "text/html": [
       "<div>\n",
       "<style scoped>\n",
       "    .dataframe tbody tr th:only-of-type {\n",
       "        vertical-align: middle;\n",
       "    }\n",
       "\n",
       "    .dataframe tbody tr th {\n",
       "        vertical-align: top;\n",
       "    }\n",
       "\n",
       "    .dataframe thead th {\n",
       "        text-align: right;\n",
       "    }\n",
       "</style>\n",
       "<table border=\"1\" class=\"dataframe\">\n",
       "  <thead>\n",
       "    <tr style=\"text-align: right;\">\n",
       "      <th></th>\n",
       "      <th>total_amount_usd</th>\n",
       "      <th>total_pred</th>\n",
       "      <th>number_transactions</th>\n",
       "      <th>job_management</th>\n",
       "      <th>job_technician</th>\n",
       "      <th>job_entrepreneur</th>\n",
       "      <th>job_blue-collar</th>\n",
       "      <th>job_retired</th>\n",
       "      <th>job_admin.</th>\n",
       "      <th>job_services</th>\n",
       "      <th>...</th>\n",
       "      <th>duration</th>\n",
       "      <th>campaign</th>\n",
       "      <th>pdays</th>\n",
       "      <th>previous</th>\n",
       "      <th>term_deposit</th>\n",
       "      <th>device_desktop</th>\n",
       "      <th>device_tablet</th>\n",
       "      <th>single</th>\n",
       "      <th>age_group_encoded</th>\n",
       "      <th>month_joined</th>\n",
       "    </tr>\n",
       "  </thead>\n",
       "  <tbody>\n",
       "    <tr>\n",
       "      <th>33025</th>\n",
       "      <td>104.00</td>\n",
       "      <td>803.491333</td>\n",
       "      <td>3.0</td>\n",
       "      <td>0</td>\n",
       "      <td>0</td>\n",
       "      <td>0</td>\n",
       "      <td>1</td>\n",
       "      <td>0</td>\n",
       "      <td>0</td>\n",
       "      <td>0</td>\n",
       "      <td>...</td>\n",
       "      <td>317</td>\n",
       "      <td>3</td>\n",
       "      <td>324</td>\n",
       "      <td>2</td>\n",
       "      <td>False</td>\n",
       "      <td>0</td>\n",
       "      <td>0</td>\n",
       "      <td>0</td>\n",
       "      <td>3</td>\n",
       "      <td>9</td>\n",
       "    </tr>\n",
       "    <tr>\n",
       "      <th>1893</th>\n",
       "      <td>1369.42</td>\n",
       "      <td>1357.178345</td>\n",
       "      <td>0.0</td>\n",
       "      <td>0</td>\n",
       "      <td>1</td>\n",
       "      <td>0</td>\n",
       "      <td>0</td>\n",
       "      <td>0</td>\n",
       "      <td>0</td>\n",
       "      <td>0</td>\n",
       "      <td>...</td>\n",
       "      <td>551</td>\n",
       "      <td>2</td>\n",
       "      <td>-1</td>\n",
       "      <td>0</td>\n",
       "      <td>False</td>\n",
       "      <td>0</td>\n",
       "      <td>0</td>\n",
       "      <td>0</td>\n",
       "      <td>4</td>\n",
       "      <td>9</td>\n",
       "    </tr>\n",
       "    <tr>\n",
       "      <th>26956</th>\n",
       "      <td>219.00</td>\n",
       "      <td>939.850159</td>\n",
       "      <td>2.0</td>\n",
       "      <td>0</td>\n",
       "      <td>0</td>\n",
       "      <td>0</td>\n",
       "      <td>1</td>\n",
       "      <td>0</td>\n",
       "      <td>0</td>\n",
       "      <td>0</td>\n",
       "      <td>...</td>\n",
       "      <td>729</td>\n",
       "      <td>1</td>\n",
       "      <td>-1</td>\n",
       "      <td>0</td>\n",
       "      <td>True</td>\n",
       "      <td>1</td>\n",
       "      <td>0</td>\n",
       "      <td>0</td>\n",
       "      <td>3</td>\n",
       "      <td>9</td>\n",
       "    </tr>\n",
       "    <tr>\n",
       "      <th>38050</th>\n",
       "      <td>170.00</td>\n",
       "      <td>425.883087</td>\n",
       "      <td>2.0</td>\n",
       "      <td>0</td>\n",
       "      <td>0</td>\n",
       "      <td>0</td>\n",
       "      <td>1</td>\n",
       "      <td>0</td>\n",
       "      <td>0</td>\n",
       "      <td>0</td>\n",
       "      <td>...</td>\n",
       "      <td>113</td>\n",
       "      <td>3</td>\n",
       "      <td>367</td>\n",
       "      <td>4</td>\n",
       "      <td>False</td>\n",
       "      <td>0</td>\n",
       "      <td>0</td>\n",
       "      <td>0</td>\n",
       "      <td>1</td>\n",
       "      <td>3</td>\n",
       "    </tr>\n",
       "    <tr>\n",
       "      <th>19663</th>\n",
       "      <td>53.00</td>\n",
       "      <td>735.929199</td>\n",
       "      <td>3.0</td>\n",
       "      <td>1</td>\n",
       "      <td>0</td>\n",
       "      <td>0</td>\n",
       "      <td>0</td>\n",
       "      <td>0</td>\n",
       "      <td>0</td>\n",
       "      <td>0</td>\n",
       "      <td>...</td>\n",
       "      <td>165</td>\n",
       "      <td>3</td>\n",
       "      <td>-1</td>\n",
       "      <td>0</td>\n",
       "      <td>False</td>\n",
       "      <td>0</td>\n",
       "      <td>0</td>\n",
       "      <td>1</td>\n",
       "      <td>1</td>\n",
       "      <td>10</td>\n",
       "    </tr>\n",
       "  </tbody>\n",
       "</table>\n",
       "<p>5 rows × 33 columns</p>\n",
       "</div>"
      ],
      "text/plain": [
       "       total_amount_usd   total_pred  number_transactions  job_management  \\\n",
       "33025            104.00   803.491333                  3.0               0   \n",
       "1893            1369.42  1357.178345                  0.0               0   \n",
       "26956            219.00   939.850159                  2.0               0   \n",
       "38050            170.00   425.883087                  2.0               0   \n",
       "19663             53.00   735.929199                  3.0               1   \n",
       "\n",
       "       job_technician  job_entrepreneur  job_blue-collar  job_retired  \\\n",
       "33025               0                 0                1            0   \n",
       "1893                1                 0                0            0   \n",
       "26956               0                 0                1            0   \n",
       "38050               0                 0                1            0   \n",
       "19663               0                 0                0            0   \n",
       "\n",
       "       job_admin.  job_services  ...  duration  campaign  pdays  previous  \\\n",
       "33025           0             0  ...       317         3    324         2   \n",
       "1893            0             0  ...       551         2     -1         0   \n",
       "26956           0             0  ...       729         1     -1         0   \n",
       "38050           0             0  ...       113         3    367         4   \n",
       "19663           0             0  ...       165         3     -1         0   \n",
       "\n",
       "       term_deposit  device_desktop  device_tablet  single  age_group_encoded  \\\n",
       "33025         False               0              0       0                  3   \n",
       "1893          False               0              0       0                  4   \n",
       "26956          True               1              0       0                  3   \n",
       "38050         False               0              0       0                  1   \n",
       "19663         False               0              0       1                  1   \n",
       "\n",
       "       month_joined  \n",
       "33025             9  \n",
       "1893              9  \n",
       "26956             9  \n",
       "38050             3  \n",
       "19663            10  \n",
       "\n",
       "[5 rows x 33 columns]"
      ]
     },
     "execution_count": 33,
     "metadata": {},
     "output_type": "execute_result"
    }
   ],
   "source": [
    "results['total_pred'] = xgb_y_pred[:5]\n",
    "results"
   ]
  },
  {
   "cell_type": "markdown",
   "metadata": {
    "id": "MwKvU_oZLDLj"
   },
   "source": [
    "# Obtain the gradient boosting model's score"
   ]
  },
  {
   "cell_type": "code",
   "execution_count": 34,
   "metadata": {
    "colab": {
     "base_uri": "https://localhost:8080/"
    },
    "executionInfo": {
     "elapsed": 100214,
     "status": "ok",
     "timestamp": 1616420982372,
     "user": {
      "displayName": "Sarah Haq",
      "photoUrl": "https://lh3.googleusercontent.com/a-/AOh14Gh7vs3P5_F3LYi7bEV8r1vbltDxEgpoYXmxHgxGBw=s64",
      "userId": "16294508270436203551"
     },
     "user_tz": -60
    },
    "id": "0vnhLMywWcBO",
    "outputId": "e8029bb4-7ffb-4fa1-e1e8-3b260c9ae69e"
   },
   "outputs": [
    {
     "data": {
      "text/plain": [
       "0.31022081348267105"
      ]
     },
     "execution_count": 34,
     "metadata": {},
     "output_type": "execute_result"
    }
   ],
   "source": [
    "r2_score(y_test, xgb_y_pred)"
   ]
  },
  {
   "cell_type": "markdown",
   "metadata": {},
   "source": [
    "# Define the parameter grid used to tune the linear regression model"
   ]
  },
  {
   "cell_type": "code",
   "execution_count": 35,
   "metadata": {
    "executionInfo": {
     "elapsed": 610,
     "status": "ok",
     "timestamp": 1616196667092,
     "user": {
      "displayName": "Sarah Haq",
      "photoUrl": "https://lh3.googleusercontent.com/a-/AOh14Gh7vs3P5_F3LYi7bEV8r1vbltDxEgpoYXmxHgxGBw=s64",
      "userId": "16294508270436203551"
     },
     "user_tz": -60
    },
    "id": "Lrs5l9jxQMLX"
   },
   "outputs": [
    {
     "name": "stdout",
     "output_type": "stream",
     "text": [
      "{'l1_ratio': [0.1, 0.5, 0.9], 'alpha': [0.0001, 0.01, 0.1], 'max_iter': [100, 1000, 10000]}\n"
     ]
    }
   ],
   "source": [
    "param_grid = {'l1_ratio': [0.1, 0.5, 0.9],\n",
    "              'alpha': [0.0001, 0.01, 0.1],\n",
    "              'max_iter': [100, 1000, 10000]}\n",
    "\n",
    "print(param_grid)"
   ]
  },
  {
   "cell_type": "markdown",
   "metadata": {
    "id": "vB7YA-3MQHxE"
   },
   "source": [
    "# Perform a grid search for optimal elastic net hyperparameters"
   ]
  },
  {
   "cell_type": "code",
   "execution_count": 36,
   "metadata": {
    "colab": {
     "base_uri": "https://localhost:8080/"
    },
    "executionInfo": {
     "elapsed": 30260,
     "status": "ok",
     "timestamp": 1615664885977,
     "user": {
      "displayName": "Sarah Haq",
      "photoUrl": "https://lh3.googleusercontent.com/a-/AOh14Gh7vs3P5_F3LYi7bEV8r1vbltDxEgpoYXmxHgxGBw=s64",
      "userId": "16294508270436203551"
     },
     "user_tz": -60
    },
    "id": "-UFIwhsyNw1M",
    "outputId": "9e796c77-be85-46e3-b7a2-85226f0ee971"
   },
   "outputs": [
    {
     "name": "stdout",
     "output_type": "stream",
     "text": [
      "Fitting 5 folds for each of 27 candidates, totalling 135 fits\n",
      "[CV] alpha=0.0001, l1_ratio=0.1, max_iter=100 ........................\n",
      "[CV] ......... alpha=0.0001, l1_ratio=0.1, max_iter=100, total=   0.1s\n",
      "[CV] alpha=0.0001, l1_ratio=0.1, max_iter=100 ........................\n"
     ]
    },
    {
     "name": "stderr",
     "output_type": "stream",
     "text": [
      "[Parallel(n_jobs=1)]: Using backend SequentialBackend with 1 concurrent workers.\n",
      "[Parallel(n_jobs=1)]: Done   1 out of   1 | elapsed:    0.1s remaining:    0.0s\n"
     ]
    },
    {
     "name": "stdout",
     "output_type": "stream",
     "text": [
      "[CV] ......... alpha=0.0001, l1_ratio=0.1, max_iter=100, total=   0.2s\n",
      "[CV] alpha=0.0001, l1_ratio=0.1, max_iter=100 ........................\n",
      "[CV] ......... alpha=0.0001, l1_ratio=0.1, max_iter=100, total=   0.2s\n",
      "[CV] alpha=0.0001, l1_ratio=0.1, max_iter=100 ........................\n",
      "[CV] ......... alpha=0.0001, l1_ratio=0.1, max_iter=100, total=   0.2s\n",
      "[CV] alpha=0.0001, l1_ratio=0.1, max_iter=100 ........................\n",
      "[CV] ......... alpha=0.0001, l1_ratio=0.1, max_iter=100, total=   0.2s\n",
      "[CV] alpha=0.0001, l1_ratio=0.1, max_iter=1000 .......................\n",
      "[CV] ........ alpha=0.0001, l1_ratio=0.1, max_iter=1000, total=   0.6s\n",
      "[CV] alpha=0.0001, l1_ratio=0.1, max_iter=1000 .......................\n",
      "[CV] ........ alpha=0.0001, l1_ratio=0.1, max_iter=1000, total=   0.7s\n",
      "[CV] alpha=0.0001, l1_ratio=0.1, max_iter=1000 .......................\n",
      "[CV] ........ alpha=0.0001, l1_ratio=0.1, max_iter=1000, total=   0.6s\n",
      "[CV] alpha=0.0001, l1_ratio=0.1, max_iter=1000 .......................\n",
      "[CV] ........ alpha=0.0001, l1_ratio=0.1, max_iter=1000, total=   0.7s\n",
      "[CV] alpha=0.0001, l1_ratio=0.1, max_iter=1000 .......................\n",
      "[CV] ........ alpha=0.0001, l1_ratio=0.1, max_iter=1000, total=   0.6s\n",
      "[CV] alpha=0.0001, l1_ratio=0.1, max_iter=10000 ......................\n",
      "[CV] ....... alpha=0.0001, l1_ratio=0.1, max_iter=10000, total=   4.3s\n",
      "[CV] alpha=0.0001, l1_ratio=0.1, max_iter=10000 ......................\n",
      "[CV] ....... alpha=0.0001, l1_ratio=0.1, max_iter=10000, total=   4.3s\n",
      "[CV] alpha=0.0001, l1_ratio=0.1, max_iter=10000 ......................\n",
      "[CV] ....... alpha=0.0001, l1_ratio=0.1, max_iter=10000, total=   4.5s\n",
      "[CV] alpha=0.0001, l1_ratio=0.1, max_iter=10000 ......................\n",
      "[CV] ....... alpha=0.0001, l1_ratio=0.1, max_iter=10000, total=   4.4s\n",
      "[CV] alpha=0.0001, l1_ratio=0.1, max_iter=10000 ......................\n",
      "[CV] ....... alpha=0.0001, l1_ratio=0.1, max_iter=10000, total=   4.4s\n",
      "[CV] alpha=0.0001, l1_ratio=0.5, max_iter=100 ........................\n",
      "[CV] ......... alpha=0.0001, l1_ratio=0.5, max_iter=100, total=   0.2s\n",
      "[CV] alpha=0.0001, l1_ratio=0.5, max_iter=100 ........................\n",
      "[CV] ......... alpha=0.0001, l1_ratio=0.5, max_iter=100, total=   0.2s\n",
      "[CV] alpha=0.0001, l1_ratio=0.5, max_iter=100 ........................\n",
      "[CV] ......... alpha=0.0001, l1_ratio=0.5, max_iter=100, total=   0.2s\n",
      "[CV] alpha=0.0001, l1_ratio=0.5, max_iter=100 ........................\n",
      "[CV] ......... alpha=0.0001, l1_ratio=0.5, max_iter=100, total=   0.2s\n",
      "[CV] alpha=0.0001, l1_ratio=0.5, max_iter=100 ........................\n",
      "[CV] ......... alpha=0.0001, l1_ratio=0.5, max_iter=100, total=   0.1s\n",
      "[CV] alpha=0.0001, l1_ratio=0.5, max_iter=1000 .......................\n",
      "[CV] ........ alpha=0.0001, l1_ratio=0.5, max_iter=1000, total=   0.7s\n",
      "[CV] alpha=0.0001, l1_ratio=0.5, max_iter=1000 .......................\n",
      "[CV] ........ alpha=0.0001, l1_ratio=0.5, max_iter=1000, total=   0.6s\n",
      "[CV] alpha=0.0001, l1_ratio=0.5, max_iter=1000 .......................\n",
      "[CV] ........ alpha=0.0001, l1_ratio=0.5, max_iter=1000, total=   0.6s\n",
      "[CV] alpha=0.0001, l1_ratio=0.5, max_iter=1000 .......................\n",
      "[CV] ........ alpha=0.0001, l1_ratio=0.5, max_iter=1000, total=   0.6s\n",
      "[CV] alpha=0.0001, l1_ratio=0.5, max_iter=1000 .......................\n",
      "[CV] ........ alpha=0.0001, l1_ratio=0.5, max_iter=1000, total=   0.6s\n",
      "[CV] alpha=0.0001, l1_ratio=0.5, max_iter=10000 ......................\n",
      "[CV] ....... alpha=0.0001, l1_ratio=0.5, max_iter=10000, total=   3.4s\n",
      "[CV] alpha=0.0001, l1_ratio=0.5, max_iter=10000 ......................\n",
      "[CV] ....... alpha=0.0001, l1_ratio=0.5, max_iter=10000, total=   5.2s\n",
      "[CV] alpha=0.0001, l1_ratio=0.5, max_iter=10000 ......................\n",
      "[CV] ....... alpha=0.0001, l1_ratio=0.5, max_iter=10000, total=   5.3s\n",
      "[CV] alpha=0.0001, l1_ratio=0.5, max_iter=10000 ......................\n",
      "[CV] ....... alpha=0.0001, l1_ratio=0.5, max_iter=10000, total=   5.3s\n",
      "[CV] alpha=0.0001, l1_ratio=0.5, max_iter=10000 ......................\n",
      "[CV] ....... alpha=0.0001, l1_ratio=0.5, max_iter=10000, total=   5.4s\n",
      "[CV] alpha=0.0001, l1_ratio=0.9, max_iter=100 ........................\n",
      "[CV] ......... alpha=0.0001, l1_ratio=0.9, max_iter=100, total=   0.2s\n",
      "[CV] alpha=0.0001, l1_ratio=0.9, max_iter=100 ........................\n",
      "[CV] ......... alpha=0.0001, l1_ratio=0.9, max_iter=100, total=   0.2s\n",
      "[CV] alpha=0.0001, l1_ratio=0.9, max_iter=100 ........................\n",
      "[CV] ......... alpha=0.0001, l1_ratio=0.9, max_iter=100, total=   0.2s\n",
      "[CV] alpha=0.0001, l1_ratio=0.9, max_iter=100 ........................\n",
      "[CV] ......... alpha=0.0001, l1_ratio=0.9, max_iter=100, total=   0.2s\n",
      "[CV] alpha=0.0001, l1_ratio=0.9, max_iter=100 ........................\n",
      "[CV] ......... alpha=0.0001, l1_ratio=0.9, max_iter=100, total=   0.2s\n",
      "[CV] alpha=0.0001, l1_ratio=0.9, max_iter=1000 .......................\n",
      "[CV] ........ alpha=0.0001, l1_ratio=0.9, max_iter=1000, total=   0.6s\n",
      "[CV] alpha=0.0001, l1_ratio=0.9, max_iter=1000 .......................\n",
      "[CV] ........ alpha=0.0001, l1_ratio=0.9, max_iter=1000, total=   0.6s\n",
      "[CV] alpha=0.0001, l1_ratio=0.9, max_iter=1000 .......................\n",
      "[CV] ........ alpha=0.0001, l1_ratio=0.9, max_iter=1000, total=   0.6s\n",
      "[CV] alpha=0.0001, l1_ratio=0.9, max_iter=1000 .......................\n",
      "[CV] ........ alpha=0.0001, l1_ratio=0.9, max_iter=1000, total=   0.6s\n",
      "[CV] alpha=0.0001, l1_ratio=0.9, max_iter=1000 .......................\n",
      "[CV] ........ alpha=0.0001, l1_ratio=0.9, max_iter=1000, total=   0.6s\n",
      "[CV] alpha=0.0001, l1_ratio=0.9, max_iter=10000 ......................\n",
      "[CV] ....... alpha=0.0001, l1_ratio=0.9, max_iter=10000, total=   5.3s\n",
      "[CV] alpha=0.0001, l1_ratio=0.9, max_iter=10000 ......................\n",
      "[CV] ....... alpha=0.0001, l1_ratio=0.9, max_iter=10000, total=   5.5s\n",
      "[CV] alpha=0.0001, l1_ratio=0.9, max_iter=10000 ......................\n",
      "[CV] ....... alpha=0.0001, l1_ratio=0.9, max_iter=10000, total=   5.2s\n",
      "[CV] alpha=0.0001, l1_ratio=0.9, max_iter=10000 ......................\n",
      "[CV] ....... alpha=0.0001, l1_ratio=0.9, max_iter=10000, total=   5.2s\n",
      "[CV] alpha=0.0001, l1_ratio=0.9, max_iter=10000 ......................\n",
      "[CV] ....... alpha=0.0001, l1_ratio=0.9, max_iter=10000, total=   5.2s\n",
      "[CV] alpha=0.01, l1_ratio=0.1, max_iter=100 ..........................\n",
      "[CV] ........... alpha=0.01, l1_ratio=0.1, max_iter=100, total=   0.2s\n",
      "[CV] alpha=0.01, l1_ratio=0.1, max_iter=100 ..........................\n",
      "[CV] ........... alpha=0.01, l1_ratio=0.1, max_iter=100, total=   0.2s\n",
      "[CV] alpha=0.01, l1_ratio=0.1, max_iter=100 ..........................\n",
      "[CV] ........... alpha=0.01, l1_ratio=0.1, max_iter=100, total=   0.2s\n",
      "[CV] alpha=0.01, l1_ratio=0.1, max_iter=100 ..........................\n",
      "[CV] ........... alpha=0.01, l1_ratio=0.1, max_iter=100, total=   0.2s\n",
      "[CV] alpha=0.01, l1_ratio=0.1, max_iter=100 ..........................\n",
      "[CV] ........... alpha=0.01, l1_ratio=0.1, max_iter=100, total=   0.2s\n",
      "[CV] alpha=0.01, l1_ratio=0.1, max_iter=1000 .........................\n",
      "[CV] .......... alpha=0.01, l1_ratio=0.1, max_iter=1000, total=   0.2s\n",
      "[CV] alpha=0.01, l1_ratio=0.1, max_iter=1000 .........................\n",
      "[CV] .......... alpha=0.01, l1_ratio=0.1, max_iter=1000, total=   0.2s\n",
      "[CV] alpha=0.01, l1_ratio=0.1, max_iter=1000 .........................\n",
      "[CV] .......... alpha=0.01, l1_ratio=0.1, max_iter=1000, total=   0.2s\n",
      "[CV] alpha=0.01, l1_ratio=0.1, max_iter=1000 .........................\n",
      "[CV] .......... alpha=0.01, l1_ratio=0.1, max_iter=1000, total=   0.2s\n",
      "[CV] alpha=0.01, l1_ratio=0.1, max_iter=1000 .........................\n",
      "[CV] .......... alpha=0.01, l1_ratio=0.1, max_iter=1000, total=   0.2s\n",
      "[CV] alpha=0.01, l1_ratio=0.1, max_iter=10000 ........................\n",
      "[CV] ......... alpha=0.01, l1_ratio=0.1, max_iter=10000, total=   0.2s\n",
      "[CV] alpha=0.01, l1_ratio=0.1, max_iter=10000 ........................\n",
      "[CV] ......... alpha=0.01, l1_ratio=0.1, max_iter=10000, total=   0.2s\n",
      "[CV] alpha=0.01, l1_ratio=0.1, max_iter=10000 ........................\n",
      "[CV] ......... alpha=0.01, l1_ratio=0.1, max_iter=10000, total=   0.2s\n",
      "[CV] alpha=0.01, l1_ratio=0.1, max_iter=10000 ........................\n",
      "[CV] ......... alpha=0.01, l1_ratio=0.1, max_iter=10000, total=   0.2s\n",
      "[CV] alpha=0.01, l1_ratio=0.1, max_iter=10000 ........................\n",
      "[CV] ......... alpha=0.01, l1_ratio=0.1, max_iter=10000, total=   0.2s\n",
      "[CV] alpha=0.01, l1_ratio=0.5, max_iter=100 ..........................\n",
      "[CV] ........... alpha=0.01, l1_ratio=0.5, max_iter=100, total=   0.2s\n",
      "[CV] alpha=0.01, l1_ratio=0.5, max_iter=100 ..........................\n",
      "[CV] ........... alpha=0.01, l1_ratio=0.5, max_iter=100, total=   0.2s\n",
      "[CV] alpha=0.01, l1_ratio=0.5, max_iter=100 ..........................\n",
      "[CV] ........... alpha=0.01, l1_ratio=0.5, max_iter=100, total=   0.2s\n",
      "[CV] alpha=0.01, l1_ratio=0.5, max_iter=100 ..........................\n",
      "[CV] ........... alpha=0.01, l1_ratio=0.5, max_iter=100, total=   0.2s\n",
      "[CV] alpha=0.01, l1_ratio=0.5, max_iter=100 ..........................\n",
      "[CV] ........... alpha=0.01, l1_ratio=0.5, max_iter=100, total=   0.2s\n",
      "[CV] alpha=0.01, l1_ratio=0.5, max_iter=1000 .........................\n",
      "[CV] .......... alpha=0.01, l1_ratio=0.5, max_iter=1000, total=   0.2s\n",
      "[CV] alpha=0.01, l1_ratio=0.5, max_iter=1000 .........................\n",
      "[CV] .......... alpha=0.01, l1_ratio=0.5, max_iter=1000, total=   0.2s\n",
      "[CV] alpha=0.01, l1_ratio=0.5, max_iter=1000 .........................\n",
      "[CV] .......... alpha=0.01, l1_ratio=0.5, max_iter=1000, total=   0.2s\n",
      "[CV] alpha=0.01, l1_ratio=0.5, max_iter=1000 .........................\n",
      "[CV] .......... alpha=0.01, l1_ratio=0.5, max_iter=1000, total=   0.2s\n",
      "[CV] alpha=0.01, l1_ratio=0.5, max_iter=1000 .........................\n",
      "[CV] .......... alpha=0.01, l1_ratio=0.5, max_iter=1000, total=   0.2s\n",
      "[CV] alpha=0.01, l1_ratio=0.5, max_iter=10000 ........................\n",
      "[CV] ......... alpha=0.01, l1_ratio=0.5, max_iter=10000, total=   0.2s\n",
      "[CV] alpha=0.01, l1_ratio=0.5, max_iter=10000 ........................\n",
      "[CV] ......... alpha=0.01, l1_ratio=0.5, max_iter=10000, total=   0.2s\n",
      "[CV] alpha=0.01, l1_ratio=0.5, max_iter=10000 ........................\n",
      "[CV] ......... alpha=0.01, l1_ratio=0.5, max_iter=10000, total=   0.2s\n",
      "[CV] alpha=0.01, l1_ratio=0.5, max_iter=10000 ........................\n",
      "[CV] ......... alpha=0.01, l1_ratio=0.5, max_iter=10000, total=   0.2s\n",
      "[CV] alpha=0.01, l1_ratio=0.5, max_iter=10000 ........................\n",
      "[CV] ......... alpha=0.01, l1_ratio=0.5, max_iter=10000, total=   0.2s\n",
      "[CV] alpha=0.01, l1_ratio=0.9, max_iter=100 ..........................\n",
      "[CV] ........... alpha=0.01, l1_ratio=0.9, max_iter=100, total=   0.2s\n",
      "[CV] alpha=0.01, l1_ratio=0.9, max_iter=100 ..........................\n",
      "[CV] ........... alpha=0.01, l1_ratio=0.9, max_iter=100, total=   0.2s\n",
      "[CV] alpha=0.01, l1_ratio=0.9, max_iter=100 ..........................\n",
      "[CV] ........... alpha=0.01, l1_ratio=0.9, max_iter=100, total=   0.2s\n",
      "[CV] alpha=0.01, l1_ratio=0.9, max_iter=100 ..........................\n",
      "[CV] ........... alpha=0.01, l1_ratio=0.9, max_iter=100, total=   0.2s\n",
      "[CV] alpha=0.01, l1_ratio=0.9, max_iter=100 ..........................\n",
      "[CV] ........... alpha=0.01, l1_ratio=0.9, max_iter=100, total=   0.2s\n",
      "[CV] alpha=0.01, l1_ratio=0.9, max_iter=1000 .........................\n",
      "[CV] .......... alpha=0.01, l1_ratio=0.9, max_iter=1000, total=   0.3s\n",
      "[CV] alpha=0.01, l1_ratio=0.9, max_iter=1000 .........................\n",
      "[CV] .......... alpha=0.01, l1_ratio=0.9, max_iter=1000, total=   0.3s\n",
      "[CV] alpha=0.01, l1_ratio=0.9, max_iter=1000 .........................\n",
      "[CV] .......... alpha=0.01, l1_ratio=0.9, max_iter=1000, total=   0.3s\n",
      "[CV] alpha=0.01, l1_ratio=0.9, max_iter=1000 .........................\n",
      "[CV] .......... alpha=0.01, l1_ratio=0.9, max_iter=1000, total=   0.3s\n",
      "[CV] alpha=0.01, l1_ratio=0.9, max_iter=1000 .........................\n",
      "[CV] .......... alpha=0.01, l1_ratio=0.9, max_iter=1000, total=   0.3s\n",
      "[CV] alpha=0.01, l1_ratio=0.9, max_iter=10000 ........................\n",
      "[CV] ......... alpha=0.01, l1_ratio=0.9, max_iter=10000, total=   0.3s\n",
      "[CV] alpha=0.01, l1_ratio=0.9, max_iter=10000 ........................\n",
      "[CV] ......... alpha=0.01, l1_ratio=0.9, max_iter=10000, total=   0.3s\n",
      "[CV] alpha=0.01, l1_ratio=0.9, max_iter=10000 ........................\n",
      "[CV] ......... alpha=0.01, l1_ratio=0.9, max_iter=10000, total=   0.3s\n",
      "[CV] alpha=0.01, l1_ratio=0.9, max_iter=10000 ........................\n",
      "[CV] ......... alpha=0.01, l1_ratio=0.9, max_iter=10000, total=   0.3s\n",
      "[CV] alpha=0.01, l1_ratio=0.9, max_iter=10000 ........................\n",
      "[CV] ......... alpha=0.01, l1_ratio=0.9, max_iter=10000, total=   0.3s\n",
      "[CV] alpha=0.1, l1_ratio=0.1, max_iter=100 ...........................\n",
      "[CV] ............ alpha=0.1, l1_ratio=0.1, max_iter=100, total=   0.1s\n",
      "[CV] alpha=0.1, l1_ratio=0.1, max_iter=100 ...........................\n",
      "[CV] ............ alpha=0.1, l1_ratio=0.1, max_iter=100, total=   0.1s\n",
      "[CV] alpha=0.1, l1_ratio=0.1, max_iter=100 ...........................\n",
      "[CV] ............ alpha=0.1, l1_ratio=0.1, max_iter=100, total=   0.1s\n",
      "[CV] alpha=0.1, l1_ratio=0.1, max_iter=100 ...........................\n",
      "[CV] ............ alpha=0.1, l1_ratio=0.1, max_iter=100, total=   0.1s\n",
      "[CV] alpha=0.1, l1_ratio=0.1, max_iter=100 ...........................\n",
      "[CV] ............ alpha=0.1, l1_ratio=0.1, max_iter=100, total=   0.1s\n",
      "[CV] alpha=0.1, l1_ratio=0.1, max_iter=1000 ..........................\n",
      "[CV] ........... alpha=0.1, l1_ratio=0.1, max_iter=1000, total=   0.1s\n",
      "[CV] alpha=0.1, l1_ratio=0.1, max_iter=1000 ..........................\n",
      "[CV] ........... alpha=0.1, l1_ratio=0.1, max_iter=1000, total=   0.2s\n",
      "[CV] alpha=0.1, l1_ratio=0.1, max_iter=1000 ..........................\n",
      "[CV] ........... alpha=0.1, l1_ratio=0.1, max_iter=1000, total=   0.1s\n",
      "[CV] alpha=0.1, l1_ratio=0.1, max_iter=1000 ..........................\n",
      "[CV] ........... alpha=0.1, l1_ratio=0.1, max_iter=1000, total=   0.1s\n",
      "[CV] alpha=0.1, l1_ratio=0.1, max_iter=1000 ..........................\n",
      "[CV] ........... alpha=0.1, l1_ratio=0.1, max_iter=1000, total=   0.2s\n",
      "[CV] alpha=0.1, l1_ratio=0.1, max_iter=10000 .........................\n",
      "[CV] .......... alpha=0.1, l1_ratio=0.1, max_iter=10000, total=   0.1s\n",
      "[CV] alpha=0.1, l1_ratio=0.1, max_iter=10000 .........................\n",
      "[CV] .......... alpha=0.1, l1_ratio=0.1, max_iter=10000, total=   0.1s\n",
      "[CV] alpha=0.1, l1_ratio=0.1, max_iter=10000 .........................\n",
      "[CV] .......... alpha=0.1, l1_ratio=0.1, max_iter=10000, total=   0.2s\n",
      "[CV] alpha=0.1, l1_ratio=0.1, max_iter=10000 .........................\n",
      "[CV] .......... alpha=0.1, l1_ratio=0.1, max_iter=10000, total=   0.1s\n",
      "[CV] alpha=0.1, l1_ratio=0.1, max_iter=10000 .........................\n",
      "[CV] .......... alpha=0.1, l1_ratio=0.1, max_iter=10000, total=   0.1s\n",
      "[CV] alpha=0.1, l1_ratio=0.5, max_iter=100 ...........................\n",
      "[CV] ............ alpha=0.1, l1_ratio=0.5, max_iter=100, total=   0.2s\n",
      "[CV] alpha=0.1, l1_ratio=0.5, max_iter=100 ...........................\n",
      "[CV] ............ alpha=0.1, l1_ratio=0.5, max_iter=100, total=   0.1s\n",
      "[CV] alpha=0.1, l1_ratio=0.5, max_iter=100 ...........................\n",
      "[CV] ............ alpha=0.1, l1_ratio=0.5, max_iter=100, total=   0.1s\n",
      "[CV] alpha=0.1, l1_ratio=0.5, max_iter=100 ...........................\n",
      "[CV] ............ alpha=0.1, l1_ratio=0.5, max_iter=100, total=   0.2s\n",
      "[CV] alpha=0.1, l1_ratio=0.5, max_iter=100 ...........................\n",
      "[CV] ............ alpha=0.1, l1_ratio=0.5, max_iter=100, total=   0.1s\n",
      "[CV] alpha=0.1, l1_ratio=0.5, max_iter=1000 ..........................\n",
      "[CV] ........... alpha=0.1, l1_ratio=0.5, max_iter=1000, total=   0.2s\n",
      "[CV] alpha=0.1, l1_ratio=0.5, max_iter=1000 ..........................\n",
      "[CV] ........... alpha=0.1, l1_ratio=0.5, max_iter=1000, total=   0.1s\n",
      "[CV] alpha=0.1, l1_ratio=0.5, max_iter=1000 ..........................\n",
      "[CV] ........... alpha=0.1, l1_ratio=0.5, max_iter=1000, total=   0.1s\n",
      "[CV] alpha=0.1, l1_ratio=0.5, max_iter=1000 ..........................\n",
      "[CV] ........... alpha=0.1, l1_ratio=0.5, max_iter=1000, total=   0.2s\n",
      "[CV] alpha=0.1, l1_ratio=0.5, max_iter=1000 ..........................\n",
      "[CV] ........... alpha=0.1, l1_ratio=0.5, max_iter=1000, total=   0.1s\n",
      "[CV] alpha=0.1, l1_ratio=0.5, max_iter=10000 .........................\n",
      "[CV] .......... alpha=0.1, l1_ratio=0.5, max_iter=10000, total=   0.1s\n",
      "[CV] alpha=0.1, l1_ratio=0.5, max_iter=10000 .........................\n",
      "[CV] .......... alpha=0.1, l1_ratio=0.5, max_iter=10000, total=   0.2s\n",
      "[CV] alpha=0.1, l1_ratio=0.5, max_iter=10000 .........................\n",
      "[CV] .......... alpha=0.1, l1_ratio=0.5, max_iter=10000, total=   0.1s\n",
      "[CV] alpha=0.1, l1_ratio=0.5, max_iter=10000 .........................\n",
      "[CV] .......... alpha=0.1, l1_ratio=0.5, max_iter=10000, total=   0.1s\n",
      "[CV] alpha=0.1, l1_ratio=0.5, max_iter=10000 .........................\n",
      "[CV] .......... alpha=0.1, l1_ratio=0.5, max_iter=10000, total=   0.1s\n",
      "[CV] alpha=0.1, l1_ratio=0.9, max_iter=100 ...........................\n",
      "[CV] ............ alpha=0.1, l1_ratio=0.9, max_iter=100, total=   0.1s\n",
      "[CV] alpha=0.1, l1_ratio=0.9, max_iter=100 ...........................\n",
      "[CV] ............ alpha=0.1, l1_ratio=0.9, max_iter=100, total=   0.2s\n",
      "[CV] alpha=0.1, l1_ratio=0.9, max_iter=100 ...........................\n",
      "[CV] ............ alpha=0.1, l1_ratio=0.9, max_iter=100, total=   0.1s\n",
      "[CV] alpha=0.1, l1_ratio=0.9, max_iter=100 ...........................\n",
      "[CV] ............ alpha=0.1, l1_ratio=0.9, max_iter=100, total=   0.2s\n",
      "[CV] alpha=0.1, l1_ratio=0.9, max_iter=100 ...........................\n",
      "[CV] ............ alpha=0.1, l1_ratio=0.9, max_iter=100, total=   0.1s\n",
      "[CV] alpha=0.1, l1_ratio=0.9, max_iter=1000 ..........................\n",
      "[CV] ........... alpha=0.1, l1_ratio=0.9, max_iter=1000, total=   0.2s\n",
      "[CV] alpha=0.1, l1_ratio=0.9, max_iter=1000 ..........................\n",
      "[CV] ........... alpha=0.1, l1_ratio=0.9, max_iter=1000, total=   0.1s\n",
      "[CV] alpha=0.1, l1_ratio=0.9, max_iter=1000 ..........................\n",
      "[CV] ........... alpha=0.1, l1_ratio=0.9, max_iter=1000, total=   0.2s\n",
      "[CV] alpha=0.1, l1_ratio=0.9, max_iter=1000 ..........................\n",
      "[CV] ........... alpha=0.1, l1_ratio=0.9, max_iter=1000, total=   0.1s\n",
      "[CV] alpha=0.1, l1_ratio=0.9, max_iter=1000 ..........................\n",
      "[CV] ........... alpha=0.1, l1_ratio=0.9, max_iter=1000, total=   0.2s\n",
      "[CV] alpha=0.1, l1_ratio=0.9, max_iter=10000 .........................\n",
      "[CV] .......... alpha=0.1, l1_ratio=0.9, max_iter=10000, total=   0.2s\n",
      "[CV] alpha=0.1, l1_ratio=0.9, max_iter=10000 .........................\n",
      "[CV] .......... alpha=0.1, l1_ratio=0.9, max_iter=10000, total=   0.1s\n",
      "[CV] alpha=0.1, l1_ratio=0.9, max_iter=10000 .........................\n",
      "[CV] .......... alpha=0.1, l1_ratio=0.9, max_iter=10000, total=   0.2s\n",
      "[CV] alpha=0.1, l1_ratio=0.9, max_iter=10000 .........................\n",
      "[CV] .......... alpha=0.1, l1_ratio=0.9, max_iter=10000, total=   0.1s\n",
      "[CV] alpha=0.1, l1_ratio=0.9, max_iter=10000 .........................\n",
      "[CV] .......... alpha=0.1, l1_ratio=0.9, max_iter=10000, total=   0.2s\n"
     ]
    },
    {
     "name": "stderr",
     "output_type": "stream",
     "text": [
      "[Parallel(n_jobs=1)]: Done 135 out of 135 | elapsed:  1.7min finished\n"
     ]
    },
    {
     "data": {
      "text/plain": [
       "GridSearchCV(estimator=ElasticNet(), n_jobs=1,\n",
       "             param_grid={'alpha': [0.0001, 0.01, 0.1],\n",
       "                         'l1_ratio': [0.1, 0.5, 0.9],\n",
       "                         'max_iter': [100, 1000, 10000]},\n",
       "             verbose=2)"
      ]
     },
     "execution_count": 36,
     "metadata": {},
     "output_type": "execute_result"
    }
   ],
   "source": [
    "model = ElasticNet()\n",
    "gs = GridSearchCV(estimator = model,\n",
    "                  param_grid = param_grid,\n",
    "                  n_jobs = 1,\n",
    "                  verbose = 2)\n",
    "\n",
    "gs.fit(X_train, y_train)"
   ]
  },
  {
   "cell_type": "code",
   "execution_count": 37,
   "metadata": {
    "colab": {
     "base_uri": "https://localhost:8080/"
    },
    "executionInfo": {
     "elapsed": 24634,
     "status": "ok",
     "timestamp": 1615664885977,
     "user": {
      "displayName": "Sarah Haq",
      "photoUrl": "https://lh3.googleusercontent.com/a-/AOh14Gh7vs3P5_F3LYi7bEV8r1vbltDxEgpoYXmxHgxGBw=s64",
      "userId": "16294508270436203551"
     },
     "user_tz": -60
    },
    "id": "ZA3n4wQ4PFT3",
    "outputId": "5e97c2f1-fc87-423d-e109-18166c34754d"
   },
   "outputs": [
    {
     "name": "stdout",
     "output_type": "stream",
     "text": [
      "Best R2 score:    0.2343\n",
      "Best parameters:  {'alpha': 0.01, 'l1_ratio': 0.9, 'max_iter': 100}\n"
     ]
    }
   ],
   "source": [
    "print('Best R2 score:   ', round(gs.best_score_, 4))\n",
    "print('Best parameters: ', gs.best_params_)"
   ]
  },
  {
   "cell_type": "markdown",
   "metadata": {},
   "source": [
    "# Define the parameter grid used to tune the decision tree model"
   ]
  },
  {
   "cell_type": "code",
   "execution_count": 38,
   "metadata": {},
   "outputs": [
    {
     "name": "stdout",
     "output_type": "stream",
     "text": [
      "{'max_depth': [5, 10, 20], 'min_samples_split': [10, 100, 1000], 'min_samples_leaf': [10, 100, 1000]}\n"
     ]
    }
   ],
   "source": [
    "param_grid = {'max_depth': [5, 10, 20],\n",
    "              'min_samples_split': [10, 100, 1000],\n",
    "              'min_samples_leaf': [10, 100, 1000]}\n",
    "\n",
    "print(param_grid)"
   ]
  },
  {
   "cell_type": "markdown",
   "metadata": {},
   "source": [
    "# Perform a grid search for optimal decision tree hyperparameters"
   ]
  },
  {
   "cell_type": "code",
   "execution_count": 39,
   "metadata": {},
   "outputs": [
    {
     "name": "stdout",
     "output_type": "stream",
     "text": [
      "Fitting 5 folds for each of 27 candidates, totalling 135 fits\n",
      "[CV] max_depth=5, min_samples_leaf=10, min_samples_split=10 ..........\n",
      "[CV]  max_depth=5, min_samples_leaf=10, min_samples_split=10, total=   0.1s\n",
      "[CV] max_depth=5, min_samples_leaf=10, min_samples_split=10 ..........\n",
      "[CV]  max_depth=5, min_samples_leaf=10, min_samples_split=10, total=   0.1s\n",
      "[CV] max_depth=5, min_samples_leaf=10, min_samples_split=10 ..........\n"
     ]
    },
    {
     "name": "stderr",
     "output_type": "stream",
     "text": [
      "[Parallel(n_jobs=1)]: Using backend SequentialBackend with 1 concurrent workers.\n",
      "[Parallel(n_jobs=1)]: Done   1 out of   1 | elapsed:    0.1s remaining:    0.0s\n"
     ]
    },
    {
     "name": "stdout",
     "output_type": "stream",
     "text": [
      "[CV]  max_depth=5, min_samples_leaf=10, min_samples_split=10, total=   0.1s\n",
      "[CV] max_depth=5, min_samples_leaf=10, min_samples_split=10 ..........\n",
      "[CV]  max_depth=5, min_samples_leaf=10, min_samples_split=10, total=   0.1s\n",
      "[CV] max_depth=5, min_samples_leaf=10, min_samples_split=10 ..........\n",
      "[CV]  max_depth=5, min_samples_leaf=10, min_samples_split=10, total=   0.1s\n",
      "[CV] max_depth=5, min_samples_leaf=10, min_samples_split=100 .........\n",
      "[CV]  max_depth=5, min_samples_leaf=10, min_samples_split=100, total=   0.1s\n",
      "[CV] max_depth=5, min_samples_leaf=10, min_samples_split=100 .........\n",
      "[CV]  max_depth=5, min_samples_leaf=10, min_samples_split=100, total=   0.1s\n",
      "[CV] max_depth=5, min_samples_leaf=10, min_samples_split=100 .........\n",
      "[CV]  max_depth=5, min_samples_leaf=10, min_samples_split=100, total=   0.1s\n",
      "[CV] max_depth=5, min_samples_leaf=10, min_samples_split=100 .........\n",
      "[CV]  max_depth=5, min_samples_leaf=10, min_samples_split=100, total=   0.1s\n",
      "[CV] max_depth=5, min_samples_leaf=10, min_samples_split=100 .........\n",
      "[CV]  max_depth=5, min_samples_leaf=10, min_samples_split=100, total=   0.1s\n",
      "[CV] max_depth=5, min_samples_leaf=10, min_samples_split=1000 ........\n",
      "[CV]  max_depth=5, min_samples_leaf=10, min_samples_split=1000, total=   0.1s\n",
      "[CV] max_depth=5, min_samples_leaf=10, min_samples_split=1000 ........\n",
      "[CV]  max_depth=5, min_samples_leaf=10, min_samples_split=1000, total=   0.1s\n",
      "[CV] max_depth=5, min_samples_leaf=10, min_samples_split=1000 ........\n",
      "[CV]  max_depth=5, min_samples_leaf=10, min_samples_split=1000, total=   0.1s\n",
      "[CV] max_depth=5, min_samples_leaf=10, min_samples_split=1000 ........\n",
      "[CV]  max_depth=5, min_samples_leaf=10, min_samples_split=1000, total=   0.1s\n",
      "[CV] max_depth=5, min_samples_leaf=10, min_samples_split=1000 ........\n",
      "[CV]  max_depth=5, min_samples_leaf=10, min_samples_split=1000, total=   0.1s\n",
      "[CV] max_depth=5, min_samples_leaf=100, min_samples_split=10 .........\n",
      "[CV]  max_depth=5, min_samples_leaf=100, min_samples_split=10, total=   0.1s\n",
      "[CV] max_depth=5, min_samples_leaf=100, min_samples_split=10 .........\n",
      "[CV]  max_depth=5, min_samples_leaf=100, min_samples_split=10, total=   0.1s\n",
      "[CV] max_depth=5, min_samples_leaf=100, min_samples_split=10 .........\n",
      "[CV]  max_depth=5, min_samples_leaf=100, min_samples_split=10, total=   0.1s\n",
      "[CV] max_depth=5, min_samples_leaf=100, min_samples_split=10 .........\n",
      "[CV]  max_depth=5, min_samples_leaf=100, min_samples_split=10, total=   0.1s\n",
      "[CV] max_depth=5, min_samples_leaf=100, min_samples_split=10 .........\n",
      "[CV]  max_depth=5, min_samples_leaf=100, min_samples_split=10, total=   0.1s\n",
      "[CV] max_depth=5, min_samples_leaf=100, min_samples_split=100 ........\n",
      "[CV]  max_depth=5, min_samples_leaf=100, min_samples_split=100, total=   0.1s\n",
      "[CV] max_depth=5, min_samples_leaf=100, min_samples_split=100 ........\n",
      "[CV]  max_depth=5, min_samples_leaf=100, min_samples_split=100, total=   0.1s\n",
      "[CV] max_depth=5, min_samples_leaf=100, min_samples_split=100 ........\n",
      "[CV]  max_depth=5, min_samples_leaf=100, min_samples_split=100, total=   0.1s\n",
      "[CV] max_depth=5, min_samples_leaf=100, min_samples_split=100 ........\n",
      "[CV]  max_depth=5, min_samples_leaf=100, min_samples_split=100, total=   0.1s\n",
      "[CV] max_depth=5, min_samples_leaf=100, min_samples_split=100 ........\n",
      "[CV]  max_depth=5, min_samples_leaf=100, min_samples_split=100, total=   0.1s\n",
      "[CV] max_depth=5, min_samples_leaf=100, min_samples_split=1000 .......\n",
      "[CV]  max_depth=5, min_samples_leaf=100, min_samples_split=1000, total=   0.1s\n",
      "[CV] max_depth=5, min_samples_leaf=100, min_samples_split=1000 .......\n",
      "[CV]  max_depth=5, min_samples_leaf=100, min_samples_split=1000, total=   0.1s\n",
      "[CV] max_depth=5, min_samples_leaf=100, min_samples_split=1000 .......\n",
      "[CV]  max_depth=5, min_samples_leaf=100, min_samples_split=1000, total=   0.1s\n",
      "[CV] max_depth=5, min_samples_leaf=100, min_samples_split=1000 .......\n",
      "[CV]  max_depth=5, min_samples_leaf=100, min_samples_split=1000, total=   0.1s\n",
      "[CV] max_depth=5, min_samples_leaf=100, min_samples_split=1000 .......\n",
      "[CV]  max_depth=5, min_samples_leaf=100, min_samples_split=1000, total=   0.1s\n",
      "[CV] max_depth=5, min_samples_leaf=1000, min_samples_split=10 ........\n",
      "[CV]  max_depth=5, min_samples_leaf=1000, min_samples_split=10, total=   0.1s\n",
      "[CV] max_depth=5, min_samples_leaf=1000, min_samples_split=10 ........\n",
      "[CV]  max_depth=5, min_samples_leaf=1000, min_samples_split=10, total=   0.1s\n",
      "[CV] max_depth=5, min_samples_leaf=1000, min_samples_split=10 ........\n",
      "[CV]  max_depth=5, min_samples_leaf=1000, min_samples_split=10, total=   0.1s\n",
      "[CV] max_depth=5, min_samples_leaf=1000, min_samples_split=10 ........\n",
      "[CV]  max_depth=5, min_samples_leaf=1000, min_samples_split=10, total=   0.1s\n",
      "[CV] max_depth=5, min_samples_leaf=1000, min_samples_split=10 ........\n",
      "[CV]  max_depth=5, min_samples_leaf=1000, min_samples_split=10, total=   0.1s\n",
      "[CV] max_depth=5, min_samples_leaf=1000, min_samples_split=100 .......\n",
      "[CV]  max_depth=5, min_samples_leaf=1000, min_samples_split=100, total=   0.1s\n",
      "[CV] max_depth=5, min_samples_leaf=1000, min_samples_split=100 .......\n",
      "[CV]  max_depth=5, min_samples_leaf=1000, min_samples_split=100, total=   0.1s\n",
      "[CV] max_depth=5, min_samples_leaf=1000, min_samples_split=100 .......\n",
      "[CV]  max_depth=5, min_samples_leaf=1000, min_samples_split=100, total=   0.1s\n",
      "[CV] max_depth=5, min_samples_leaf=1000, min_samples_split=100 .......\n",
      "[CV]  max_depth=5, min_samples_leaf=1000, min_samples_split=100, total=   0.1s\n",
      "[CV] max_depth=5, min_samples_leaf=1000, min_samples_split=100 .......\n",
      "[CV]  max_depth=5, min_samples_leaf=1000, min_samples_split=100, total=   0.1s\n",
      "[CV] max_depth=5, min_samples_leaf=1000, min_samples_split=1000 ......\n",
      "[CV]  max_depth=5, min_samples_leaf=1000, min_samples_split=1000, total=   0.1s\n",
      "[CV] max_depth=5, min_samples_leaf=1000, min_samples_split=1000 ......\n",
      "[CV]  max_depth=5, min_samples_leaf=1000, min_samples_split=1000, total=   0.1s\n",
      "[CV] max_depth=5, min_samples_leaf=1000, min_samples_split=1000 ......\n",
      "[CV]  max_depth=5, min_samples_leaf=1000, min_samples_split=1000, total=   0.1s\n",
      "[CV] max_depth=5, min_samples_leaf=1000, min_samples_split=1000 ......\n",
      "[CV]  max_depth=5, min_samples_leaf=1000, min_samples_split=1000, total=   0.1s\n",
      "[CV] max_depth=5, min_samples_leaf=1000, min_samples_split=1000 ......\n",
      "[CV]  max_depth=5, min_samples_leaf=1000, min_samples_split=1000, total=   0.1s\n",
      "[CV] max_depth=10, min_samples_leaf=10, min_samples_split=10 .........\n",
      "[CV]  max_depth=10, min_samples_leaf=10, min_samples_split=10, total=   0.1s\n",
      "[CV] max_depth=10, min_samples_leaf=10, min_samples_split=10 .........\n",
      "[CV]  max_depth=10, min_samples_leaf=10, min_samples_split=10, total=   0.1s\n",
      "[CV] max_depth=10, min_samples_leaf=10, min_samples_split=10 .........\n",
      "[CV]  max_depth=10, min_samples_leaf=10, min_samples_split=10, total=   0.1s\n",
      "[CV] max_depth=10, min_samples_leaf=10, min_samples_split=10 .........\n",
      "[CV]  max_depth=10, min_samples_leaf=10, min_samples_split=10, total=   0.1s\n",
      "[CV] max_depth=10, min_samples_leaf=10, min_samples_split=10 .........\n",
      "[CV]  max_depth=10, min_samples_leaf=10, min_samples_split=10, total=   0.1s\n",
      "[CV] max_depth=10, min_samples_leaf=10, min_samples_split=100 ........\n",
      "[CV]  max_depth=10, min_samples_leaf=10, min_samples_split=100, total=   0.1s\n",
      "[CV] max_depth=10, min_samples_leaf=10, min_samples_split=100 ........\n",
      "[CV]  max_depth=10, min_samples_leaf=10, min_samples_split=100, total=   0.1s\n",
      "[CV] max_depth=10, min_samples_leaf=10, min_samples_split=100 ........\n",
      "[CV]  max_depth=10, min_samples_leaf=10, min_samples_split=100, total=   0.1s\n",
      "[CV] max_depth=10, min_samples_leaf=10, min_samples_split=100 ........\n",
      "[CV]  max_depth=10, min_samples_leaf=10, min_samples_split=100, total=   0.1s\n",
      "[CV] max_depth=10, min_samples_leaf=10, min_samples_split=100 ........\n",
      "[CV]  max_depth=10, min_samples_leaf=10, min_samples_split=100, total=   0.1s\n",
      "[CV] max_depth=10, min_samples_leaf=10, min_samples_split=1000 .......\n",
      "[CV]  max_depth=10, min_samples_leaf=10, min_samples_split=1000, total=   0.1s\n",
      "[CV] max_depth=10, min_samples_leaf=10, min_samples_split=1000 .......\n",
      "[CV]  max_depth=10, min_samples_leaf=10, min_samples_split=1000, total=   0.1s\n",
      "[CV] max_depth=10, min_samples_leaf=10, min_samples_split=1000 .......\n",
      "[CV]  max_depth=10, min_samples_leaf=10, min_samples_split=1000, total=   0.1s\n",
      "[CV] max_depth=10, min_samples_leaf=10, min_samples_split=1000 .......\n",
      "[CV]  max_depth=10, min_samples_leaf=10, min_samples_split=1000, total=   0.1s\n",
      "[CV] max_depth=10, min_samples_leaf=10, min_samples_split=1000 .......\n",
      "[CV]  max_depth=10, min_samples_leaf=10, min_samples_split=1000, total=   0.1s\n",
      "[CV] max_depth=10, min_samples_leaf=100, min_samples_split=10 ........\n",
      "[CV]  max_depth=10, min_samples_leaf=100, min_samples_split=10, total=   0.1s\n",
      "[CV] max_depth=10, min_samples_leaf=100, min_samples_split=10 ........\n",
      "[CV]  max_depth=10, min_samples_leaf=100, min_samples_split=10, total=   0.1s\n",
      "[CV] max_depth=10, min_samples_leaf=100, min_samples_split=10 ........\n",
      "[CV]  max_depth=10, min_samples_leaf=100, min_samples_split=10, total=   0.1s\n",
      "[CV] max_depth=10, min_samples_leaf=100, min_samples_split=10 ........\n",
      "[CV]  max_depth=10, min_samples_leaf=100, min_samples_split=10, total=   0.1s\n",
      "[CV] max_depth=10, min_samples_leaf=100, min_samples_split=10 ........\n",
      "[CV]  max_depth=10, min_samples_leaf=100, min_samples_split=10, total=   0.1s\n",
      "[CV] max_depth=10, min_samples_leaf=100, min_samples_split=100 .......\n",
      "[CV]  max_depth=10, min_samples_leaf=100, min_samples_split=100, total=   0.1s\n",
      "[CV] max_depth=10, min_samples_leaf=100, min_samples_split=100 .......\n",
      "[CV]  max_depth=10, min_samples_leaf=100, min_samples_split=100, total=   0.1s\n",
      "[CV] max_depth=10, min_samples_leaf=100, min_samples_split=100 .......\n",
      "[CV]  max_depth=10, min_samples_leaf=100, min_samples_split=100, total=   0.1s\n",
      "[CV] max_depth=10, min_samples_leaf=100, min_samples_split=100 .......\n",
      "[CV]  max_depth=10, min_samples_leaf=100, min_samples_split=100, total=   0.1s\n",
      "[CV] max_depth=10, min_samples_leaf=100, min_samples_split=100 .......\n",
      "[CV]  max_depth=10, min_samples_leaf=100, min_samples_split=100, total=   0.1s\n",
      "[CV] max_depth=10, min_samples_leaf=100, min_samples_split=1000 ......\n",
      "[CV]  max_depth=10, min_samples_leaf=100, min_samples_split=1000, total=   0.1s\n",
      "[CV] max_depth=10, min_samples_leaf=100, min_samples_split=1000 ......\n",
      "[CV]  max_depth=10, min_samples_leaf=100, min_samples_split=1000, total=   0.1s\n",
      "[CV] max_depth=10, min_samples_leaf=100, min_samples_split=1000 ......\n",
      "[CV]  max_depth=10, min_samples_leaf=100, min_samples_split=1000, total=   0.1s\n",
      "[CV] max_depth=10, min_samples_leaf=100, min_samples_split=1000 ......\n",
      "[CV]  max_depth=10, min_samples_leaf=100, min_samples_split=1000, total=   0.1s\n",
      "[CV] max_depth=10, min_samples_leaf=100, min_samples_split=1000 ......\n",
      "[CV]  max_depth=10, min_samples_leaf=100, min_samples_split=1000, total=   0.1s\n",
      "[CV] max_depth=10, min_samples_leaf=1000, min_samples_split=10 .......\n",
      "[CV]  max_depth=10, min_samples_leaf=1000, min_samples_split=10, total=   0.1s\n",
      "[CV] max_depth=10, min_samples_leaf=1000, min_samples_split=10 .......\n",
      "[CV]  max_depth=10, min_samples_leaf=1000, min_samples_split=10, total=   0.1s\n",
      "[CV] max_depth=10, min_samples_leaf=1000, min_samples_split=10 .......\n",
      "[CV]  max_depth=10, min_samples_leaf=1000, min_samples_split=10, total=   0.1s\n",
      "[CV] max_depth=10, min_samples_leaf=1000, min_samples_split=10 .......\n",
      "[CV]  max_depth=10, min_samples_leaf=1000, min_samples_split=10, total=   0.1s\n",
      "[CV] max_depth=10, min_samples_leaf=1000, min_samples_split=10 .......\n",
      "[CV]  max_depth=10, min_samples_leaf=1000, min_samples_split=10, total=   0.1s\n",
      "[CV] max_depth=10, min_samples_leaf=1000, min_samples_split=100 ......\n",
      "[CV]  max_depth=10, min_samples_leaf=1000, min_samples_split=100, total=   0.1s\n",
      "[CV] max_depth=10, min_samples_leaf=1000, min_samples_split=100 ......\n",
      "[CV]  max_depth=10, min_samples_leaf=1000, min_samples_split=100, total=   0.1s\n",
      "[CV] max_depth=10, min_samples_leaf=1000, min_samples_split=100 ......\n",
      "[CV]  max_depth=10, min_samples_leaf=1000, min_samples_split=100, total=   0.1s\n",
      "[CV] max_depth=10, min_samples_leaf=1000, min_samples_split=100 ......\n",
      "[CV]  max_depth=10, min_samples_leaf=1000, min_samples_split=100, total=   0.1s\n",
      "[CV] max_depth=10, min_samples_leaf=1000, min_samples_split=100 ......\n",
      "[CV]  max_depth=10, min_samples_leaf=1000, min_samples_split=100, total=   0.1s\n",
      "[CV] max_depth=10, min_samples_leaf=1000, min_samples_split=1000 .....\n",
      "[CV]  max_depth=10, min_samples_leaf=1000, min_samples_split=1000, total=   0.1s\n",
      "[CV] max_depth=10, min_samples_leaf=1000, min_samples_split=1000 .....\n",
      "[CV]  max_depth=10, min_samples_leaf=1000, min_samples_split=1000, total=   0.1s\n",
      "[CV] max_depth=10, min_samples_leaf=1000, min_samples_split=1000 .....\n",
      "[CV]  max_depth=10, min_samples_leaf=1000, min_samples_split=1000, total=   0.1s\n",
      "[CV] max_depth=10, min_samples_leaf=1000, min_samples_split=1000 .....\n",
      "[CV]  max_depth=10, min_samples_leaf=1000, min_samples_split=1000, total=   0.1s\n",
      "[CV] max_depth=10, min_samples_leaf=1000, min_samples_split=1000 .....\n",
      "[CV]  max_depth=10, min_samples_leaf=1000, min_samples_split=1000, total=   0.1s\n",
      "[CV] max_depth=20, min_samples_leaf=10, min_samples_split=10 .........\n",
      "[CV]  max_depth=20, min_samples_leaf=10, min_samples_split=10, total=   0.1s\n",
      "[CV] max_depth=20, min_samples_leaf=10, min_samples_split=10 .........\n",
      "[CV]  max_depth=20, min_samples_leaf=10, min_samples_split=10, total=   0.1s\n",
      "[CV] max_depth=20, min_samples_leaf=10, min_samples_split=10 .........\n",
      "[CV]  max_depth=20, min_samples_leaf=10, min_samples_split=10, total=   0.1s\n",
      "[CV] max_depth=20, min_samples_leaf=10, min_samples_split=10 .........\n",
      "[CV]  max_depth=20, min_samples_leaf=10, min_samples_split=10, total=   0.1s\n",
      "[CV] max_depth=20, min_samples_leaf=10, min_samples_split=10 .........\n",
      "[CV]  max_depth=20, min_samples_leaf=10, min_samples_split=10, total=   0.1s\n",
      "[CV] max_depth=20, min_samples_leaf=10, min_samples_split=100 ........\n",
      "[CV]  max_depth=20, min_samples_leaf=10, min_samples_split=100, total=   0.1s\n",
      "[CV] max_depth=20, min_samples_leaf=10, min_samples_split=100 ........\n",
      "[CV]  max_depth=20, min_samples_leaf=10, min_samples_split=100, total=   0.1s\n",
      "[CV] max_depth=20, min_samples_leaf=10, min_samples_split=100 ........\n",
      "[CV]  max_depth=20, min_samples_leaf=10, min_samples_split=100, total=   0.1s\n",
      "[CV] max_depth=20, min_samples_leaf=10, min_samples_split=100 ........\n",
      "[CV]  max_depth=20, min_samples_leaf=10, min_samples_split=100, total=   0.1s\n",
      "[CV] max_depth=20, min_samples_leaf=10, min_samples_split=100 ........\n",
      "[CV]  max_depth=20, min_samples_leaf=10, min_samples_split=100, total=   0.1s\n",
      "[CV] max_depth=20, min_samples_leaf=10, min_samples_split=1000 .......\n",
      "[CV]  max_depth=20, min_samples_leaf=10, min_samples_split=1000, total=   0.1s\n",
      "[CV] max_depth=20, min_samples_leaf=10, min_samples_split=1000 .......\n",
      "[CV]  max_depth=20, min_samples_leaf=10, min_samples_split=1000, total=   0.1s\n",
      "[CV] max_depth=20, min_samples_leaf=10, min_samples_split=1000 .......\n",
      "[CV]  max_depth=20, min_samples_leaf=10, min_samples_split=1000, total=   0.1s\n",
      "[CV] max_depth=20, min_samples_leaf=10, min_samples_split=1000 .......\n",
      "[CV]  max_depth=20, min_samples_leaf=10, min_samples_split=1000, total=   0.1s\n",
      "[CV] max_depth=20, min_samples_leaf=10, min_samples_split=1000 .......\n",
      "[CV]  max_depth=20, min_samples_leaf=10, min_samples_split=1000, total=   0.1s\n",
      "[CV] max_depth=20, min_samples_leaf=100, min_samples_split=10 ........\n",
      "[CV]  max_depth=20, min_samples_leaf=100, min_samples_split=10, total=   0.1s\n",
      "[CV] max_depth=20, min_samples_leaf=100, min_samples_split=10 ........\n",
      "[CV]  max_depth=20, min_samples_leaf=100, min_samples_split=10, total=   0.1s\n",
      "[CV] max_depth=20, min_samples_leaf=100, min_samples_split=10 ........\n",
      "[CV]  max_depth=20, min_samples_leaf=100, min_samples_split=10, total=   0.1s\n",
      "[CV] max_depth=20, min_samples_leaf=100, min_samples_split=10 ........\n",
      "[CV]  max_depth=20, min_samples_leaf=100, min_samples_split=10, total=   0.1s\n",
      "[CV] max_depth=20, min_samples_leaf=100, min_samples_split=10 ........\n",
      "[CV]  max_depth=20, min_samples_leaf=100, min_samples_split=10, total=   0.1s\n",
      "[CV] max_depth=20, min_samples_leaf=100, min_samples_split=100 .......\n",
      "[CV]  max_depth=20, min_samples_leaf=100, min_samples_split=100, total=   0.1s\n",
      "[CV] max_depth=20, min_samples_leaf=100, min_samples_split=100 .......\n",
      "[CV]  max_depth=20, min_samples_leaf=100, min_samples_split=100, total=   0.1s\n",
      "[CV] max_depth=20, min_samples_leaf=100, min_samples_split=100 .......\n",
      "[CV]  max_depth=20, min_samples_leaf=100, min_samples_split=100, total=   0.1s\n",
      "[CV] max_depth=20, min_samples_leaf=100, min_samples_split=100 .......\n",
      "[CV]  max_depth=20, min_samples_leaf=100, min_samples_split=100, total=   0.1s\n",
      "[CV] max_depth=20, min_samples_leaf=100, min_samples_split=100 .......\n",
      "[CV]  max_depth=20, min_samples_leaf=100, min_samples_split=100, total=   0.1s\n",
      "[CV] max_depth=20, min_samples_leaf=100, min_samples_split=1000 ......\n",
      "[CV]  max_depth=20, min_samples_leaf=100, min_samples_split=1000, total=   0.1s\n",
      "[CV] max_depth=20, min_samples_leaf=100, min_samples_split=1000 ......\n",
      "[CV]  max_depth=20, min_samples_leaf=100, min_samples_split=1000, total=   0.1s\n",
      "[CV] max_depth=20, min_samples_leaf=100, min_samples_split=1000 ......\n",
      "[CV]  max_depth=20, min_samples_leaf=100, min_samples_split=1000, total=   0.1s\n",
      "[CV] max_depth=20, min_samples_leaf=100, min_samples_split=1000 ......\n",
      "[CV]  max_depth=20, min_samples_leaf=100, min_samples_split=1000, total=   0.1s\n",
      "[CV] max_depth=20, min_samples_leaf=100, min_samples_split=1000 ......\n",
      "[CV]  max_depth=20, min_samples_leaf=100, min_samples_split=1000, total=   0.1s\n",
      "[CV] max_depth=20, min_samples_leaf=1000, min_samples_split=10 .......\n",
      "[CV]  max_depth=20, min_samples_leaf=1000, min_samples_split=10, total=   0.1s\n",
      "[CV] max_depth=20, min_samples_leaf=1000, min_samples_split=10 .......\n",
      "[CV]  max_depth=20, min_samples_leaf=1000, min_samples_split=10, total=   0.1s\n",
      "[CV] max_depth=20, min_samples_leaf=1000, min_samples_split=10 .......\n",
      "[CV]  max_depth=20, min_samples_leaf=1000, min_samples_split=10, total=   0.1s\n",
      "[CV] max_depth=20, min_samples_leaf=1000, min_samples_split=10 .......\n",
      "[CV]  max_depth=20, min_samples_leaf=1000, min_samples_split=10, total=   0.1s\n",
      "[CV] max_depth=20, min_samples_leaf=1000, min_samples_split=10 .......\n",
      "[CV]  max_depth=20, min_samples_leaf=1000, min_samples_split=10, total=   0.1s\n",
      "[CV] max_depth=20, min_samples_leaf=1000, min_samples_split=100 ......\n",
      "[CV]  max_depth=20, min_samples_leaf=1000, min_samples_split=100, total=   0.1s\n",
      "[CV] max_depth=20, min_samples_leaf=1000, min_samples_split=100 ......\n",
      "[CV]  max_depth=20, min_samples_leaf=1000, min_samples_split=100, total=   0.1s\n",
      "[CV] max_depth=20, min_samples_leaf=1000, min_samples_split=100 ......\n",
      "[CV]  max_depth=20, min_samples_leaf=1000, min_samples_split=100, total=   0.1s\n",
      "[CV] max_depth=20, min_samples_leaf=1000, min_samples_split=100 ......\n",
      "[CV]  max_depth=20, min_samples_leaf=1000, min_samples_split=100, total=   0.1s\n",
      "[CV] max_depth=20, min_samples_leaf=1000, min_samples_split=100 ......\n",
      "[CV]  max_depth=20, min_samples_leaf=1000, min_samples_split=100, total=   0.1s\n",
      "[CV] max_depth=20, min_samples_leaf=1000, min_samples_split=1000 .....\n",
      "[CV]  max_depth=20, min_samples_leaf=1000, min_samples_split=1000, total=   0.1s\n",
      "[CV] max_depth=20, min_samples_leaf=1000, min_samples_split=1000 .....\n",
      "[CV]  max_depth=20, min_samples_leaf=1000, min_samples_split=1000, total=   0.1s\n",
      "[CV] max_depth=20, min_samples_leaf=1000, min_samples_split=1000 .....\n",
      "[CV]  max_depth=20, min_samples_leaf=1000, min_samples_split=1000, total=   0.1s\n",
      "[CV] max_depth=20, min_samples_leaf=1000, min_samples_split=1000 .....\n",
      "[CV]  max_depth=20, min_samples_leaf=1000, min_samples_split=1000, total=   0.1s\n",
      "[CV] max_depth=20, min_samples_leaf=1000, min_samples_split=1000 .....\n",
      "[CV]  max_depth=20, min_samples_leaf=1000, min_samples_split=1000, total=   0.1s\n"
     ]
    },
    {
     "name": "stderr",
     "output_type": "stream",
     "text": [
      "[Parallel(n_jobs=1)]: Done 135 out of 135 | elapsed:   11.9s finished\n"
     ]
    },
    {
     "data": {
      "text/plain": [
       "GridSearchCV(estimator=DecisionTreeRegressor(), n_jobs=1,\n",
       "             param_grid={'max_depth': [5, 10, 20],\n",
       "                         'min_samples_leaf': [10, 100, 1000],\n",
       "                         'min_samples_split': [10, 100, 1000]},\n",
       "             verbose=2)"
      ]
     },
     "execution_count": 39,
     "metadata": {},
     "output_type": "execute_result"
    }
   ],
   "source": [
    "model = DecisionTreeRegressor()\n",
    "gs = GridSearchCV(estimator = model,\n",
    "                  param_grid = param_grid,\n",
    "                  n_jobs = 1,\n",
    "                  verbose = 2)\n",
    "\n",
    "gs.fit(X_train, y_train)"
   ]
  },
  {
   "cell_type": "code",
   "execution_count": 40,
   "metadata": {},
   "outputs": [
    {
     "name": "stdout",
     "output_type": "stream",
     "text": [
      "Best R2 score:    0.3357\n",
      "Best parameters:  {'max_depth': 10, 'min_samples_leaf': 100, 'min_samples_split': 1000}\n"
     ]
    }
   ],
   "source": [
    "print('Best R2 score:   ', round(gs.best_score_, 4))\n",
    "print('Best parameters: ', gs.best_params_)"
   ]
  },
  {
   "cell_type": "markdown",
   "metadata": {},
   "source": [
    "# Compare evaluation metrics for each model"
   ]
  },
  {
   "cell_type": "code",
   "execution_count": 41,
   "metadata": {},
   "outputs": [
    {
     "data": {
      "text/html": [
       "<div>\n",
       "<style scoped>\n",
       "    .dataframe tbody tr th:only-of-type {\n",
       "        vertical-align: middle;\n",
       "    }\n",
       "\n",
       "    .dataframe tbody tr th {\n",
       "        vertical-align: top;\n",
       "    }\n",
       "\n",
       "    .dataframe thead th {\n",
       "        text-align: right;\n",
       "    }\n",
       "</style>\n",
       "<table border=\"1\" class=\"dataframe\">\n",
       "  <thead>\n",
       "    <tr style=\"text-align: right;\">\n",
       "      <th></th>\n",
       "      <th>R2</th>\n",
       "      <th>MAE</th>\n",
       "      <th>MSE</th>\n",
       "    </tr>\n",
       "  </thead>\n",
       "  <tbody>\n",
       "    <tr>\n",
       "      <th>XGBoost</th>\n",
       "      <td>0.3102</td>\n",
       "      <td>431.7623</td>\n",
       "      <td>404530.2009</td>\n",
       "    </tr>\n",
       "    <tr>\n",
       "      <th>Random Forest</th>\n",
       "      <td>0.2956</td>\n",
       "      <td>424.5235</td>\n",
       "      <td>413118.7611</td>\n",
       "    </tr>\n",
       "    <tr>\n",
       "      <th>Linear Regression</th>\n",
       "      <td>0.2332</td>\n",
       "      <td>531.7977</td>\n",
       "      <td>449691.1279</td>\n",
       "    </tr>\n",
       "    <tr>\n",
       "      <th>Dummy Regressor</th>\n",
       "      <td>-0.0000</td>\n",
       "      <td>656.6227</td>\n",
       "      <td>586463.9422</td>\n",
       "    </tr>\n",
       "    <tr>\n",
       "      <th>Decision Tree</th>\n",
       "      <td>-0.4031</td>\n",
       "      <td>561.2292</td>\n",
       "      <td>822889.4076</td>\n",
       "    </tr>\n",
       "  </tbody>\n",
       "</table>\n",
       "</div>"
      ],
      "text/plain": [
       "                       R2       MAE          MSE\n",
       "XGBoost            0.3102  431.7623  404530.2009\n",
       "Random Forest      0.2956  424.5235  413118.7611\n",
       "Linear Regression  0.2332  531.7977  449691.1279\n",
       "Dummy Regressor   -0.0000  656.6227  586463.9422\n",
       "Decision Tree     -0.4031  561.2292  822889.4076"
      ]
     },
     "execution_count": 41,
     "metadata": {},
     "output_type": "execute_result"
    }
   ],
   "source": [
    "models = ['Linear Regression', 'Decision Tree',\n",
    "          'Random Forest', 'XGBoost', 'Dummy Regressor']\n",
    "\n",
    "metrics = ['R2', 'MAE', 'MSE']\n",
    "\n",
    "pred_list = ['linreg_y_pred', 'reg_tree_y_pred',\n",
    "             'rf_y_pred', 'xgb_y_pred', 'dummy_y_pred']\n",
    "\n",
    "# Baseline algorithm.\n",
    "dummy = DummyRegressor()\n",
    "dummy.fit(X_train, y_train)\n",
    "dummy_y_pred = dummy.predict(X_test)\n",
    "\n",
    "scores = np.empty((0, 3))\n",
    "\n",
    "for i in pred_list:\n",
    "    scores = np.append(scores,\n",
    "                       np.array([[r2_score(y_test, globals()[i]),\n",
    "                                  mean_absolute_error(y_test, globals()[i]),\n",
    "                                  mean_squared_error(y_test, globals()[i])]]),\n",
    "                       axis = 0)\n",
    "\n",
    "scores = np.around(scores, 4)\n",
    "\n",
    "scoring_df = pd.DataFrame(scores, index = models, columns = metrics)\n",
    "scoring_df.sort_values(by = 'MSE', ascending = True)"
   ]
  },
  {
   "cell_type": "markdown",
   "metadata": {
    "id": "unciq90izXa_"
   },
   "source": [
    "# Plot the residuals"
   ]
  },
  {
   "cell_type": "code",
   "execution_count": 42,
   "metadata": {},
   "outputs": [],
   "source": [
    "# Set up DataFrame for plotting.\n",
    "\n",
    "resid_df = pd.DataFrame()\n",
    "resid_df['total_amount_usd'] = y_test\n",
    "resid_df['total_pred'] = xgb_y_pred\n",
    "resid_df['residuals'] = resid_df['total_amount_usd'] - resid_df['total_pred']\n",
    "resid_df = resid_df.sort_values('total_amount_usd')[::20]\n",
    "resid_df['record_num'] = np.arange(len(resid_df))"
   ]
  },
  {
   "cell_type": "code",
   "execution_count": 43,
   "metadata": {},
   "outputs": [
    {
     "data": {
      "image/png": "[encoded data removed]",
      "text/plain": [
       "<Figure size 864x576 with 1 Axes>"
      ]
     },
     "metadata": {
      "needs_background": "light"
     },
     "output_type": "display_data"
    }
   ],
   "source": [
    "plt.figure(figsize = (12, 8))\n",
    "\n",
    "plt.plot(resid_df['record_num'], resid_df['total_amount_usd'],\n",
    "         color = 'red', linewidth = 5)\n",
    "plt.scatter(resid_df['record_num'], resid_df['total_pred'])\n",
    "\n",
    "plt.legend(['Actual', 'Predicted'])\n",
    "plt.title('Residual Plot')\n",
    "plt.ylabel('Total Amount (USD)')\n",
    "plt.xlabel('Customer Record Number')\n",
    "plt.show();"
   ]
  },
  {
   "cell_type": "markdown",
   "metadata": {
    "id": "gaqFRU74kxxt"
   },
   "source": [
    "# Generate a feature importance plot"
   ]
  },
  {
   "cell_type": "code",
   "execution_count": 44,
   "metadata": {},
   "outputs": [],
   "source": [
    "def feature_importance_plot(model, X_train, n):\n",
    "    \"\"\"Plots feature importance. Only works for ensemble learning.\"\"\"\n",
    "    plt.figure(figsize = (8, 5))\n",
    "    feat_importances = pd.Series(model.feature_importances_,\n",
    "                                 index = X_train.columns)\n",
    "    feat_importances.nlargest(n).plot(kind = 'barh')\n",
    "    plt.title(f'Top {n} Features')\n",
    "    plt.show()"
   ]
  },
  {
   "cell_type": "code",
   "execution_count": 45,
   "metadata": {
    "colab": {
     "base_uri": "https://localhost:8080/",
     "height": 336
    },
    "executionInfo": {
     "elapsed": 506,
     "status": "ok",
     "timestamp": 1616421670951,
     "user": {
      "displayName": "Sarah Haq",
      "photoUrl": "https://lh3.googleusercontent.com/a-/AOh14Gh7vs3P5_F3LYi7bEV8r1vbltDxEgpoYXmxHgxGBw=s64",
      "userId": "16294508270436203551"
     },
     "user_tz": -60
    },
    "id": "omDPYPABCGTF",
    "outputId": "5476f91a-4144-43d5-f56b-e4046c1f4490"
   },
   "outputs": [
    {
     "data": {
      "image/png": "[encoded data removed]",
      "text/plain": [
       "<Figure size 576x360 with 1 Axes>"
      ]
     },
     "metadata": {
      "needs_background": "light"
     },
     "output_type": "display_data"
    }
   ],
   "source": [
    "feature_importance_plot(xgb, X_train, 5)"
   ]
  },
  {
   "cell_type": "markdown",
   "metadata": {
    "id": "-ZyVqfujkWZO"
   },
   "source": [
    "# Plot learning curves"
   ]
  },
  {
   "cell_type": "code",
   "execution_count": 46,
   "metadata": {},
   "outputs": [],
   "source": [
    "def plot_learning_curves(model, X_train, y_train):\n",
    "    \"\"\"Plots learning curves for model validation.\"\"\"\n",
    "    plt.figure(figsize = (5, 5))\n",
    "    train_sizes, train_scores, test_scores = \\\n",
    "    learning_curve(model, X_train, y_train, cv = 5,\n",
    "                   scoring = 'neg_mean_squared_error',\n",
    "                   n_jobs = 1,\n",
    "                   shuffle = True,\n",
    "                   train_sizes = np.linspace(0.01, 1.0, 5))\n",
    "        \n",
    "    # Means of training and test set scores.\n",
    "    train_mean = np.mean(train_scores, axis = 1)\n",
    "    test_mean = np.mean(test_scores, axis = 1)\n",
    "\n",
    "    # Draw lines.\n",
    "    plt.plot(train_sizes, train_mean, '--',\n",
    "             color = '#111111', label = 'Training score')\n",
    "    plt.plot(train_sizes, test_mean,\n",
    "             color = '#111111', label = 'Cross-validation score')\n",
    "\n",
    "    # Create plot.\n",
    "    plt.title('Learning Curves')\n",
    "    plt.xlabel('Training Set Size')\n",
    "    plt.ylabel('Negative MSE')\n",
    "    plt.legend(loc = 'best')\n",
    "    plt.tight_layout()\n",
    "\n",
    "    plt.show()"
   ]
  },
  {
   "cell_type": "code",
   "execution_count": 47,
   "metadata": {
    "colab": {
     "base_uri": "https://localhost:8080/",
     "height": 369
    },
    "executionInfo": {
     "elapsed": 22224,
     "status": "ok",
     "timestamp": 1616196363089,
     "user": {
      "displayName": "Sarah Haq",
      "photoUrl": "https://lh3.googleusercontent.com/a-/AOh14Gh7vs3P5_F3LYi7bEV8r1vbltDxEgpoYXmxHgxGBw=s64",
      "userId": "16294508270436203551"
     },
     "user_tz": -60
    },
    "id": "wrKQoTlzlhS_",
    "outputId": "56f252fe-e337-48d8-cad2-23dac64d8503"
   },
   "outputs": [
    {
     "data": {
      "image/png": "[encoded data removed]",
      "text/plain": [
       "<Figure size 360x360 with 1 Axes>"
      ]
     },
     "metadata": {
      "needs_background": "light"
     },
     "output_type": "display_data"
    }
   ],
   "source": [
    "plot_learning_curves(xgb, X_train, y_train)"
   ]
  },
  {
   "cell_type": "markdown",
   "metadata": {
    "id": "wYrIsZFfCWZ7"
   },
   "source": [
    "# Save the best model"
   ]
  },
  {
   "cell_type": "code",
   "execution_count": 48,
   "metadata": {
    "colab": {
     "base_uri": "https://localhost:8080/"
    },
    "executionInfo": {
     "elapsed": 417,
     "status": "ok",
     "timestamp": 1616421677243,
     "user": {
      "displayName": "Sarah Haq",
      "photoUrl": "https://lh3.googleusercontent.com/a-/AOh14Gh7vs3P5_F3LYi7bEV8r1vbltDxEgpoYXmxHgxGBw=s64",
      "userId": "16294508270436203551"
     },
     "user_tz": -60
    },
    "id": "qFl3AM8a97fH",
    "outputId": "b70233b8-591d-4edd-d441-701438d02cc6"
   },
   "outputs": [],
   "source": [
    "pickle.dump(xgb, open('xgboost_regressor.pickle', 'wb'))"
   ]
  }
 ],
 "metadata": {
  "colab": {
   "authorship_tag": "ABX9TyN5hXFO3n12fgdGd82zEreJ",
   "collapsed_sections": [],
   "name": "04-Regression-Models.ipynb",
   "provenance": [],
   "toc_visible": true
  },
  "kernelspec": {
   "display_name": "Python 3",
   "language": "python",
   "name": "python3"
  },
  "language_info": {
   "codemirror_mode": {
    "name": "ipython",
    "version": 3
   },
   "file_extension": ".py",
   "mimetype": "text/x-python",
   "name": "python",
   "nbconvert_exporter": "python",
   "pygments_lexer": "ipython3",
   "version": "3.7.6"
  }
 },
 "nbformat": 4,
 "nbformat_minor": 1
}
