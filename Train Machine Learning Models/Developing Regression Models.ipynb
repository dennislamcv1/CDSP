{
 "cells": [
  {
   "cell_type": "markdown",
   "metadata": {},
   "source": [
    "# Import software libraries"
   ]
  },
  {
   "cell_type": "code",
   "execution_count": null,
   "metadata": {},
   "outputs": [],
   "source": [
    "import sys                                                  # Read system parameters.\n",
    "import numpy as np                                          # Work with multi-dimensional arrays.\n",
    "import pandas as pd                                         # Manipulate and analyze data.\n",
    "import matplotlib                                           # Create and format charts.\n",
    "import matplotlib.pyplot as plt\n",
    "import seaborn as sns                                       # Make charting easier.\n",
    "import sklearn                                              # Train and evaluate machine learning models.\n",
    "from sklearn.model_selection import train_test_split, \\\n",
    "                                    learning_curve, \\\n",
    "                                    GridSearchCV\n",
    "from sklearn.linear_model import LinearRegression, \\\n",
    "                                 ElasticNet\n",
    "from sklearn import tree\n",
    "from sklearn.tree import DecisionTreeRegressor\n",
    "from sklearn.ensemble import RandomForestRegressor\n",
    "from sklearn.metrics import r2_score, \\\n",
    "                            mean_absolute_error, \\\n",
    "                            mean_squared_error\n",
    "from sklearn.dummy import DummyRegressor\n",
    "import xgboost                                              # Build gradient boosting models.\n",
    "from xgboost import XGBRegressor\n",
    "import pickle                                               # Save Python objects as binary files.\n",
    "import warnings                                             # Suppress warnings.\n",
    "warnings.filterwarnings('ignore')\n",
    "\n",
    "# Ensure results are reproducible.\n",
    "np.random.seed(1)\n",
    "\n",
    "# Summarize software libraries used.\n",
    "print('Libraries used in this project:')\n",
    "print('- Python {}'.format(sys.version))\n",
    "print('- NumPy {}'.format(np.__version__))\n",
    "print('- pandas {}'.format(pd.__version__))\n",
    "print('- Matplotlib {}'.format(matplotlib.__version__))\n",
    "print('- Seaborn {}'.format(sns.__version__))\n",
    "print('- scikit-learn {}'.format(sklearn.__version__))\n",
    "print('- XGBoost {}'.format(xgboost.__version__))"
   ]
  },
  {
   "cell_type": "markdown",
   "metadata": {},
   "source": [
    "# Load and preview the data"
   ]
  },
  {
   "cell_type": "code",
   "execution_count": null,
   "metadata": {
    "colab": {
     "base_uri": "https://localhost:8080/"
    },
    "executionInfo": {
     "elapsed": 608,
     "status": "ok",
     "timestamp": 1616420860334,
     "user": {
      "displayName": "Sarah Haq",
      "photoUrl": "https://lh3.googleusercontent.com/a-/AOh14Gh7vs3P5_F3LYi7bEV8r1vbltDxEgpoYXmxHgxGBw=s64",
      "userId": "16294508270436203551"
     },
     "user_tz": -60
    },
    "id": "xZGGsnRNzqE2",
    "outputId": "c300141d-6359-4b28-dedf-6182c18e60b0"
   },
   "outputs": [],
   "source": [
    "\n",
    "\n"
   ]
  },
  {
   "cell_type": "markdown",
   "metadata": {
    "id": "D3Uw9bpYzvGB"
   },
   "source": [
    "# Check the shape of the data"
   ]
  },
  {
   "cell_type": "code",
   "execution_count": null,
   "metadata": {
    "colab": {
     "base_uri": "https://localhost:8080/"
    },
    "executionInfo": {
     "elapsed": 737,
     "status": "ok",
     "timestamp": 1616420864450,
     "user": {
      "displayName": "Sarah Haq",
      "photoUrl": "https://lh3.googleusercontent.com/a-/AOh14Gh7vs3P5_F3LYi7bEV8r1vbltDxEgpoYXmxHgxGBw=s64",
      "userId": "16294508270436203551"
     },
     "user_tz": -60
    },
    "id": "0qOIW8i7_6lm",
    "outputId": "5f3ecd4f-183c-4836-b4c7-7ee360dbcd2e"
   },
   "outputs": [],
   "source": []
  },
  {
   "cell_type": "markdown",
   "metadata": {},
   "source": [
    "# Check the data types"
   ]
  },
  {
   "cell_type": "code",
   "execution_count": null,
   "metadata": {
    "colab": {
     "base_uri": "https://localhost:8080/"
    },
    "executionInfo": {
     "elapsed": 903,
     "status": "ok",
     "timestamp": 1616420864748,
     "user": {
      "displayName": "Sarah Haq",
      "photoUrl": "https://lh3.googleusercontent.com/a-/AOh14Gh7vs3P5_F3LYi7bEV8r1vbltDxEgpoYXmxHgxGBw=s64",
      "userId": "16294508270436203551"
     },
     "user_tz": -60
    },
    "id": "hjaImkCC_Y6o",
    "outputId": "1ee19f78-13b9-4024-fa26-8520cdb2150e"
   },
   "outputs": [],
   "source": []
  },
  {
   "cell_type": "markdown",
   "metadata": {
    "id": "KzWy1_hSzdT2"
   },
   "source": [
    "# Explore the distribution of the target variable"
   ]
  },
  {
   "cell_type": "code",
   "execution_count": null,
   "metadata": {
    "colab": {
     "base_uri": "https://localhost:8080/"
    },
    "executionInfo": {
     "elapsed": 626,
     "status": "ok",
     "timestamp": 1616420864749,
     "user": {
      "displayName": "Sarah Haq",
      "photoUrl": "https://lh3.googleusercontent.com/a-/AOh14Gh7vs3P5_F3LYi7bEV8r1vbltDxEgpoYXmxHgxGBw=s64",
      "userId": "16294508270436203551"
     },
     "user_tz": -60
    },
    "id": "V-aKzuX7_mN8",
    "outputId": "77e56f77-7315-4673-a10f-e47e903a02e0"
   },
   "outputs": [],
   "source": []
  },
  {
   "cell_type": "code",
   "execution_count": null,
   "metadata": {
    "colab": {
     "base_uri": "https://localhost:8080/",
     "height": 281
    },
    "executionInfo": {
     "elapsed": 767,
     "status": "ok",
     "timestamp": 1616420865028,
     "user": {
      "displayName": "Sarah Haq",
      "photoUrl": "https://lh3.googleusercontent.com/a-/AOh14Gh7vs3P5_F3LYi7bEV8r1vbltDxEgpoYXmxHgxGBw=s64",
      "userId": "16294508270436203551"
     },
     "user_tz": -60
    },
    "id": "QmyMyLNgrBMb",
    "outputId": "f8e32e4d-fe0f-4ea1-c037-2fcebfc46f46"
   },
   "outputs": [],
   "source": [
    "\n"
   ]
  },
  {
   "cell_type": "code",
   "execution_count": null,
   "metadata": {
    "colab": {
     "base_uri": "https://localhost:8080/",
     "height": 280
    },
    "executionInfo": {
     "elapsed": 773,
     "status": "ok",
     "timestamp": 1616420865326,
     "user": {
      "displayName": "Sarah Haq",
      "photoUrl": "https://lh3.googleusercontent.com/a-/AOh14Gh7vs3P5_F3LYi7bEV8r1vbltDxEgpoYXmxHgxGBw=s64",
      "userId": "16294508270436203551"
     },
     "user_tz": -60
    },
    "id": "HTn43G7hs3v7",
    "outputId": "2f656c71-4f37-41c8-845c-e319a8d2b8e2"
   },
   "outputs": [],
   "source": []
  },
  {
   "cell_type": "markdown",
   "metadata": {},
   "source": [
    "# Identify and remove the outliers"
   ]
  },
  {
   "cell_type": "code",
   "execution_count": null,
   "metadata": {
    "colab": {
     "base_uri": "https://localhost:8080/"
    },
    "executionInfo": {
     "elapsed": 640,
     "status": "ok",
     "timestamp": 1616420865327,
     "user": {
      "displayName": "Sarah Haq",
      "photoUrl": "https://lh3.googleusercontent.com/a-/AOh14Gh7vs3P5_F3LYi7bEV8r1vbltDxEgpoYXmxHgxGBw=s64",
      "userId": "16294508270436203551"
     },
     "user_tz": -60
    },
    "id": "GVVSHpMbsVX9",
    "outputId": "a9c551f5-5250-4e24-e881-21be21b39e63"
   },
   "outputs": [],
   "source": [
    "\n",
    "\n",
    "\n",
    "\n",
    "\n",
    "\n",
    "\n",
    "\n"
   ]
  },
  {
   "cell_type": "code",
   "execution_count": null,
   "metadata": {
    "colab": {
     "base_uri": "https://localhost:8080/"
    },
    "executionInfo": {
     "elapsed": 633,
     "status": "ok",
     "timestamp": 1616420865617,
     "user": {
      "displayName": "Sarah Haq",
      "photoUrl": "https://lh3.googleusercontent.com/a-/AOh14Gh7vs3P5_F3LYi7bEV8r1vbltDxEgpoYXmxHgxGBw=s64",
      "userId": "16294508270436203551"
     },
     "user_tz": -60
    },
    "id": "_ZIjYQpXtopd",
    "outputId": "82998235-bad7-41d9-d8e8-4161e8d07032"
   },
   "outputs": [],
   "source": [
    "\n",
    "\n",
    "\n"
   ]
  },
  {
   "cell_type": "code",
   "execution_count": null,
   "metadata": {
    "colab": {
     "base_uri": "https://localhost:8080/",
     "height": 496
    },
    "executionInfo": {
     "elapsed": 503,
     "status": "ok",
     "timestamp": 1616420865618,
     "user": {
      "displayName": "Sarah Haq",
      "photoUrl": "https://lh3.googleusercontent.com/a-/AOh14Gh7vs3P5_F3LYi7bEV8r1vbltDxEgpoYXmxHgxGBw=s64",
      "userId": "16294508270436203551"
     },
     "user_tz": -60
    },
    "id": "rqEUTq6etOfs",
    "outputId": "b7402406-7d8a-47bf-8c9c-1e367b79ae53"
   },
   "outputs": [],
   "source": [
    "\n",
    "\n",
    "\n",
    "\n"
   ]
  },
  {
   "cell_type": "markdown",
   "metadata": {},
   "source": [
    "# Explore the dataset with the outliers removed"
   ]
  },
  {
   "cell_type": "code",
   "execution_count": null,
   "metadata": {
    "colab": {
     "base_uri": "https://localhost:8080/",
     "height": 334
    },
    "executionInfo": {
     "elapsed": 700,
     "status": "ok",
     "timestamp": 1616420866105,
     "user": {
      "displayName": "Sarah Haq",
      "photoUrl": "https://lh3.googleusercontent.com/a-/AOh14Gh7vs3P5_F3LYi7bEV8r1vbltDxEgpoYXmxHgxGBw=s64",
      "userId": "16294508270436203551"
     },
     "user_tz": -60
    },
    "id": "zpB9wtkhulXR",
    "outputId": "23510a9b-9a71-411d-cead-3d47d677b606"
   },
   "outputs": [],
   "source": []
  },
  {
   "cell_type": "code",
   "execution_count": null,
   "metadata": {
    "colab": {
     "base_uri": "https://localhost:8080/",
     "height": 281
    },
    "executionInfo": {
     "elapsed": 841,
     "status": "ok",
     "timestamp": 1616420866399,
     "user": {
      "displayName": "Sarah Haq",
      "photoUrl": "https://lh3.googleusercontent.com/a-/AOh14Gh7vs3P5_F3LYi7bEV8r1vbltDxEgpoYXmxHgxGBw=s64",
      "userId": "16294508270436203551"
     },
     "user_tz": -60
    },
    "id": "PknNQr7mvJKj",
    "outputId": "929340a6-867b-44f3-8cec-3f98175e4475"
   },
   "outputs": [],
   "source": [
    "\n"
   ]
  },
  {
   "cell_type": "markdown",
   "metadata": {
    "id": "M5prSoGXILUv"
   },
   "source": [
    "# Split the data into target and features"
   ]
  },
  {
   "cell_type": "code",
   "execution_count": null,
   "metadata": {
    "executionInfo": {
     "elapsed": 592,
     "status": "ok",
     "timestamp": 1616420866400,
     "user": {
      "displayName": "Sarah Haq",
      "photoUrl": "https://lh3.googleusercontent.com/a-/AOh14Gh7vs3P5_F3LYi7bEV8r1vbltDxEgpoYXmxHgxGBw=s64",
      "userId": "16294508270436203551"
     },
     "user_tz": -60
    },
    "id": "T6NBf51x4yto"
   },
   "outputs": [],
   "source": [
    "\n",
    "\n"
   ]
  },
  {
   "cell_type": "markdown",
   "metadata": {
    "id": "QUCMvnPHzdY7"
   },
   "source": [
    "# Split the data into train and test sets"
   ]
  },
  {
   "cell_type": "code",
   "execution_count": null,
   "metadata": {
    "executionInfo": {
     "elapsed": 900,
     "status": "ok",
     "timestamp": 1616420867077,
     "user": {
      "displayName": "Sarah Haq",
      "photoUrl": "https://lh3.googleusercontent.com/a-/AOh14Gh7vs3P5_F3LYi7bEV8r1vbltDxEgpoYXmxHgxGBw=s64",
      "userId": "16294508270436203551"
     },
     "user_tz": -60
    },
    "id": "WRvRz1Ud-ol3"
   },
   "outputs": [],
   "source": [
    "\n",
    "\n"
   ]
  },
  {
   "cell_type": "code",
   "execution_count": null,
   "metadata": {
    "colab": {
     "base_uri": "https://localhost:8080/"
    },
    "executionInfo": {
     "elapsed": 730,
     "status": "ok",
     "timestamp": 1616420867077,
     "user": {
      "displayName": "Sarah Haq",
      "photoUrl": "https://lh3.googleusercontent.com/a-/AOh14Gh7vs3P5_F3LYi7bEV8r1vbltDxEgpoYXmxHgxGBw=s64",
      "userId": "16294508270436203551"
     },
     "user_tz": -60
    },
    "id": "LIInYJ5r4zcB",
    "outputId": "178c35a9-6ea3-495f-822a-1cb1bd4d2418"
   },
   "outputs": [],
   "source": [
    "\n"
   ]
  },
  {
   "cell_type": "markdown",
   "metadata": {},
   "source": [
    "# Check the distribution of the test data"
   ]
  },
  {
   "cell_type": "code",
   "execution_count": null,
   "metadata": {
    "colab": {
     "base_uri": "https://localhost:8080/"
    },
    "executionInfo": {
     "elapsed": 617,
     "status": "ok",
     "timestamp": 1616420867430,
     "user": {
      "displayName": "Sarah Haq",
      "photoUrl": "https://lh3.googleusercontent.com/a-/AOh14Gh7vs3P5_F3LYi7bEV8r1vbltDxEgpoYXmxHgxGBw=s64",
      "userId": "16294508270436203551"
     },
     "user_tz": -60
    },
    "id": "d-HJGo5ZKC2h",
    "outputId": "332b20c5-54f8-47aa-a1f6-e6631d32ac98"
   },
   "outputs": [],
   "source": [
    "\n"
   ]
  },
  {
   "cell_type": "code",
   "execution_count": null,
   "metadata": {
    "colab": {
     "base_uri": "https://localhost:8080/"
    },
    "executionInfo": {
     "elapsed": 489,
     "status": "ok",
     "timestamp": 1616420867430,
     "user": {
      "displayName": "Sarah Haq",
      "photoUrl": "https://lh3.googleusercontent.com/a-/AOh14Gh7vs3P5_F3LYi7bEV8r1vbltDxEgpoYXmxHgxGBw=s64",
      "userId": "16294508270436203551"
     },
     "user_tz": -60
    },
    "id": "m9WMLlmHMPyY",
    "outputId": "d5f8bc7b-1456-49aa-f278-265e8a03aca7"
   },
   "outputs": [],
   "source": []
  },
  {
   "cell_type": "markdown",
   "metadata": {
    "id": "AAyWzvFwZ-YE"
   },
   "source": [
    "# Train a linear regression model"
   ]
  },
  {
   "cell_type": "code",
   "execution_count": null,
   "metadata": {
    "executionInfo": {
     "elapsed": 615,
     "status": "ok",
     "timestamp": 1616420869579,
     "user": {
      "displayName": "Sarah Haq",
      "photoUrl": "https://lh3.googleusercontent.com/a-/AOh14Gh7vs3P5_F3LYi7bEV8r1vbltDxEgpoYXmxHgxGBw=s64",
      "userId": "16294508270436203551"
     },
     "user_tz": -60
    },
    "id": "p7vX0Mngxf-l"
   },
   "outputs": [],
   "source": [
    "\n"
   ]
  },
  {
   "cell_type": "markdown",
   "metadata": {
    "id": "t5hx9ClOdztY"
   },
   "source": [
    "# Make predictions using the linear regression model"
   ]
  },
  {
   "cell_type": "code",
   "execution_count": null,
   "metadata": {
    "colab": {
     "base_uri": "https://localhost:8080/"
    },
    "executionInfo": {
     "elapsed": 487,
     "status": "ok",
     "timestamp": 1616420869883,
     "user": {
      "displayName": "Sarah Haq",
      "photoUrl": "https://lh3.googleusercontent.com/a-/AOh14Gh7vs3P5_F3LYi7bEV8r1vbltDxEgpoYXmxHgxGBw=s64",
      "userId": "16294508270436203551"
     },
     "user_tz": -60
    },
    "id": "kZjee1E0QhQb",
    "outputId": "cc6f2249-e7a1-4f14-b715-de0fc1140844"
   },
   "outputs": [],
   "source": []
  },
  {
   "cell_type": "code",
   "execution_count": null,
   "metadata": {},
   "outputs": [],
   "source": [
    "\n",
    "\n"
   ]
  },
  {
   "cell_type": "markdown",
   "metadata": {
    "id": "OkjiRUsPKwIY"
   },
   "source": [
    "# Obtain the linear regression model's score"
   ]
  },
  {
   "cell_type": "code",
   "execution_count": null,
   "metadata": {
    "colab": {
     "base_uri": "https://localhost:8080/"
    },
    "executionInfo": {
     "elapsed": 534,
     "status": "ok",
     "timestamp": 1616420870236,
     "user": {
      "displayName": "Sarah Haq",
      "photoUrl": "https://lh3.googleusercontent.com/a-/AOh14Gh7vs3P5_F3LYi7bEV8r1vbltDxEgpoYXmxHgxGBw=s64",
      "userId": "16294508270436203551"
     },
     "user_tz": -60
    },
    "id": "CFcEcm11R8eH",
    "outputId": "c2ea3532-18b4-4b41-a544-07a89846eecd"
   },
   "outputs": [],
   "source": []
  },
  {
   "cell_type": "markdown",
   "metadata": {
    "id": "DVx4jRd9gRgd"
   },
   "source": [
    "# Train a decision tree model"
   ]
  },
  {
   "cell_type": "code",
   "execution_count": null,
   "metadata": {
    "executionInfo": {
     "elapsed": 89464,
     "status": "ok",
     "timestamp": 1616420965382,
     "user": {
      "displayName": "Sarah Haq",
      "photoUrl": "https://lh3.googleusercontent.com/a-/AOh14Gh7vs3P5_F3LYi7bEV8r1vbltDxEgpoYXmxHgxGBw=s64",
      "userId": "16294508270436203551"
     },
     "user_tz": -60
    },
    "id": "ekWkr9qEy_xT"
   },
   "outputs": [],
   "source": [
    "\n"
   ]
  },
  {
   "cell_type": "markdown",
   "metadata": {
    "id": "4UEVrk6OgS15"
   },
   "source": [
    "# Make predictions using the decision tree model"
   ]
  },
  {
   "cell_type": "code",
   "execution_count": null,
   "metadata": {
    "colab": {
     "base_uri": "https://localhost:8080/"
    },
    "executionInfo": {
     "elapsed": 89380,
     "status": "ok",
     "timestamp": 1616420965730,
     "user": {
      "displayName": "Sarah Haq",
      "photoUrl": "https://lh3.googleusercontent.com/a-/AOh14Gh7vs3P5_F3LYi7bEV8r1vbltDxEgpoYXmxHgxGBw=s64",
      "userId": "16294508270436203551"
     },
     "user_tz": -60
    },
    "id": "LXlM9vIugUqA",
    "outputId": "36e1eb40-587f-4e7a-9551-f2eea73a8575"
   },
   "outputs": [],
   "source": []
  },
  {
   "cell_type": "code",
   "execution_count": null,
   "metadata": {
    "colab": {
     "base_uri": "https://localhost:8080/"
    },
    "executionInfo": {
     "elapsed": 89163,
     "status": "ok",
     "timestamp": 1616420965730,
     "user": {
      "displayName": "Sarah Haq",
      "photoUrl": "https://lh3.googleusercontent.com/a-/AOh14Gh7vs3P5_F3LYi7bEV8r1vbltDxEgpoYXmxHgxGBw=s64",
      "userId": "16294508270436203551"
     },
     "user_tz": -60
    },
    "id": "VI9n8Z3YJH_C",
    "outputId": "2c49c745-b3e2-4d73-be09-78058d0a46b0"
   },
   "outputs": [],
   "source": [
    "\n"
   ]
  },
  {
   "cell_type": "markdown",
   "metadata": {
    "id": "x8Ul4rz7K-y0"
   },
   "source": [
    "# Obtain the decision tree model's score"
   ]
  },
  {
   "cell_type": "code",
   "execution_count": null,
   "metadata": {
    "colab": {
     "base_uri": "https://localhost:8080/"
    },
    "executionInfo": {
     "elapsed": 88853,
     "status": "ok",
     "timestamp": 1616420965731,
     "user": {
      "displayName": "Sarah Haq",
      "photoUrl": "https://lh3.googleusercontent.com/a-/AOh14Gh7vs3P5_F3LYi7bEV8r1vbltDxEgpoYXmxHgxGBw=s64",
      "userId": "16294508270436203551"
     },
     "user_tz": -60
    },
    "id": "K-VNn5lfgWCT",
    "outputId": "1d0633c4-fee7-409f-f0c4-1982e66d8c70"
   },
   "outputs": [],
   "source": []
  },
  {
   "cell_type": "markdown",
   "metadata": {},
   "source": [
    "# Visualize the decision tree"
   ]
  },
  {
   "cell_type": "code",
   "execution_count": null,
   "metadata": {},
   "outputs": [],
   "source": [
    "\n",
    "\n",
    "\n",
    "\n"
   ]
  },
  {
   "cell_type": "markdown",
   "metadata": {
    "id": "twj9nwaudi6I"
   },
   "source": [
    "# Train a random forest model"
   ]
  },
  {
   "cell_type": "code",
   "execution_count": null,
   "metadata": {
    "executionInfo": {
     "elapsed": 88185,
     "status": "ok",
     "timestamp": 1616420965731,
     "user": {
      "displayName": "Sarah Haq",
      "photoUrl": "https://lh3.googleusercontent.com/a-/AOh14Gh7vs3P5_F3LYi7bEV8r1vbltDxEgpoYXmxHgxGBw=s64",
      "userId": "16294508270436203551"
     },
     "user_tz": -60
    },
    "id": "lQKsWBf6VyHg"
   },
   "outputs": [],
   "source": [
    "\n"
   ]
  },
  {
   "cell_type": "markdown",
   "metadata": {
    "id": "hdVf1EwndpgE"
   },
   "source": [
    "# Make predictions using the random forest model"
   ]
  },
  {
   "cell_type": "code",
   "execution_count": null,
   "metadata": {
    "colab": {
     "base_uri": "https://localhost:8080/"
    },
    "executionInfo": {
     "elapsed": 102062,
     "status": "ok",
     "timestamp": 1616420980112,
     "user": {
      "displayName": "Sarah Haq",
      "photoUrl": "https://lh3.googleusercontent.com/a-/AOh14Gh7vs3P5_F3LYi7bEV8r1vbltDxEgpoYXmxHgxGBw=s64",
      "userId": "16294508270436203551"
     },
     "user_tz": -60
    },
    "id": "FUSBSEG7WE0P",
    "outputId": "775b2365-698d-449a-8a15-6d9483d37788"
   },
   "outputs": [],
   "source": []
  },
  {
   "cell_type": "code",
   "execution_count": null,
   "metadata": {
    "colab": {
     "base_uri": "https://localhost:8080/"
    },
    "executionInfo": {
     "elapsed": 101895,
     "status": "ok",
     "timestamp": 1616420980113,
     "user": {
      "displayName": "Sarah Haq",
      "photoUrl": "https://lh3.googleusercontent.com/a-/AOh14Gh7vs3P5_F3LYi7bEV8r1vbltDxEgpoYXmxHgxGBw=s64",
      "userId": "16294508270436203551"
     },
     "user_tz": -60
    },
    "id": "_KR49Sh6I_0y",
    "outputId": "7886082d-778e-46f8-b321-b524692dd6bf"
   },
   "outputs": [],
   "source": [
    "\n"
   ]
  },
  {
   "cell_type": "markdown",
   "metadata": {
    "id": "q-5B6j47LAye"
   },
   "source": [
    "# Obtain the random forest model's score"
   ]
  },
  {
   "cell_type": "code",
   "execution_count": null,
   "metadata": {
    "colab": {
     "base_uri": "https://localhost:8080/"
    },
    "executionInfo": {
     "elapsed": 100701,
     "status": "ok",
     "timestamp": 1616420980113,
     "user": {
      "displayName": "Sarah Haq",
      "photoUrl": "https://lh3.googleusercontent.com/a-/AOh14Gh7vs3P5_F3LYi7bEV8r1vbltDxEgpoYXmxHgxGBw=s64",
      "userId": "16294508270436203551"
     },
     "user_tz": -60
    },
    "id": "NWgTc3f7WHuI",
    "outputId": "e3823066-676f-4659-8274-91ac3042ab8d"
   },
   "outputs": [],
   "source": []
  },
  {
   "cell_type": "markdown",
   "metadata": {
    "id": "NH09v_HndtBg"
   },
   "source": [
    "# Train a gradient boosting model"
   ]
  },
  {
   "cell_type": "code",
   "execution_count": null,
   "metadata": {
    "executionInfo": {
     "elapsed": 99949,
     "status": "ok",
     "timestamp": 1616420980114,
     "user": {
      "displayName": "Sarah Haq",
      "photoUrl": "https://lh3.googleusercontent.com/a-/AOh14Gh7vs3P5_F3LYi7bEV8r1vbltDxEgpoYXmxHgxGBw=s64",
      "userId": "16294508270436203551"
     },
     "user_tz": -60
    },
    "id": "67ynShnkTdUf"
   },
   "outputs": [],
   "source": [
    "\n"
   ]
  },
  {
   "cell_type": "markdown",
   "metadata": {
    "id": "d7sHLofidur_"
   },
   "source": [
    "# Make predictions using the gradient boosting model"
   ]
  },
  {
   "cell_type": "code",
   "execution_count": null,
   "metadata": {
    "colab": {
     "base_uri": "https://localhost:8080/"
    },
    "executionInfo": {
     "elapsed": 101580,
     "status": "ok",
     "timestamp": 1616420982371,
     "user": {
      "displayName": "Sarah Haq",
      "photoUrl": "https://lh3.googleusercontent.com/a-/AOh14Gh7vs3P5_F3LYi7bEV8r1vbltDxEgpoYXmxHgxGBw=s64",
      "userId": "16294508270436203551"
     },
     "user_tz": -60
    },
    "id": "kQnPd1cfWYwc",
    "outputId": "e61f88b2-fdc1-4d20-915c-761ed494b466"
   },
   "outputs": [],
   "source": []
  },
  {
   "cell_type": "code",
   "execution_count": null,
   "metadata": {
    "colab": {
     "base_uri": "https://localhost:8080/"
    },
    "executionInfo": {
     "elapsed": 101040,
     "status": "ok",
     "timestamp": 1616420982371,
     "user": {
      "displayName": "Sarah Haq",
      "photoUrl": "https://lh3.googleusercontent.com/a-/AOh14Gh7vs3P5_F3LYi7bEV8r1vbltDxEgpoYXmxHgxGBw=s64",
      "userId": "16294508270436203551"
     },
     "user_tz": -60
    },
    "id": "GlWs3_qMKF_T",
    "outputId": "7590aead-ed31-416e-eb3c-0faa0e6e47d6"
   },
   "outputs": [],
   "source": [
    "\n"
   ]
  },
  {
   "cell_type": "markdown",
   "metadata": {
    "id": "MwKvU_oZLDLj"
   },
   "source": [
    "# Obtain the gradient boosting model's score"
   ]
  },
  {
   "cell_type": "code",
   "execution_count": null,
   "metadata": {
    "colab": {
     "base_uri": "https://localhost:8080/"
    },
    "executionInfo": {
     "elapsed": 100214,
     "status": "ok",
     "timestamp": 1616420982372,
     "user": {
      "displayName": "Sarah Haq",
      "photoUrl": "https://lh3.googleusercontent.com/a-/AOh14Gh7vs3P5_F3LYi7bEV8r1vbltDxEgpoYXmxHgxGBw=s64",
      "userId": "16294508270436203551"
     },
     "user_tz": -60
    },
    "id": "0vnhLMywWcBO",
    "outputId": "e8029bb4-7ffb-4fa1-e1e8-3b260c9ae69e"
   },
   "outputs": [],
   "source": []
  },
  {
   "cell_type": "markdown",
   "metadata": {},
   "source": [
    "# Define the parameter grid used to tune the linear regression model"
   ]
  },
  {
   "cell_type": "code",
   "execution_count": null,
   "metadata": {
    "executionInfo": {
     "elapsed": 610,
     "status": "ok",
     "timestamp": 1616196667092,
     "user": {
      "displayName": "Sarah Haq",
      "photoUrl": "https://lh3.googleusercontent.com/a-/AOh14Gh7vs3P5_F3LYi7bEV8r1vbltDxEgpoYXmxHgxGBw=s64",
      "userId": "16294508270436203551"
     },
     "user_tz": -60
    },
    "id": "Lrs5l9jxQMLX"
   },
   "outputs": [],
   "source": [
    "\n",
    "\n",
    "\n",
    "\n"
   ]
  },
  {
   "cell_type": "markdown",
   "metadata": {
    "id": "vB7YA-3MQHxE"
   },
   "source": [
    "# Perform a grid search for optimal elastic net hyperparameters"
   ]
  },
  {
   "cell_type": "code",
   "execution_count": null,
   "metadata": {
    "colab": {
     "base_uri": "https://localhost:8080/"
    },
    "executionInfo": {
     "elapsed": 30260,
     "status": "ok",
     "timestamp": 1615664885977,
     "user": {
      "displayName": "Sarah Haq",
      "photoUrl": "https://lh3.googleusercontent.com/a-/AOh14Gh7vs3P5_F3LYi7bEV8r1vbltDxEgpoYXmxHgxGBw=s64",
      "userId": "16294508270436203551"
     },
     "user_tz": -60
    },
    "id": "-UFIwhsyNw1M",
    "outputId": "9e796c77-be85-46e3-b7a2-85226f0ee971"
   },
   "outputs": [],
   "source": [
    "\n",
    "\n",
    "\n",
    "\n",
    "\n",
    "\n"
   ]
  },
  {
   "cell_type": "code",
   "execution_count": null,
   "metadata": {
    "colab": {
     "base_uri": "https://localhost:8080/"
    },
    "executionInfo": {
     "elapsed": 24634,
     "status": "ok",
     "timestamp": 1615664885977,
     "user": {
      "displayName": "Sarah Haq",
      "photoUrl": "https://lh3.googleusercontent.com/a-/AOh14Gh7vs3P5_F3LYi7bEV8r1vbltDxEgpoYXmxHgxGBw=s64",
      "userId": "16294508270436203551"
     },
     "user_tz": -60
    },
    "id": "ZA3n4wQ4PFT3",
    "outputId": "5e97c2f1-fc87-423d-e109-18166c34754d"
   },
   "outputs": [],
   "source": [
    "\n"
   ]
  },
  {
   "cell_type": "markdown",
   "metadata": {},
   "source": [
    "# Define the parameter grid used to tune the decision tree model"
   ]
  },
  {
   "cell_type": "code",
   "execution_count": null,
   "metadata": {},
   "outputs": [],
   "source": [
    "\n",
    "\n",
    "\n",
    "\n"
   ]
  },
  {
   "cell_type": "markdown",
   "metadata": {},
   "source": [
    "# Perform a grid search for optimal decision tree hyperparameters"
   ]
  },
  {
   "cell_type": "code",
   "execution_count": null,
   "metadata": {},
   "outputs": [],
   "source": [
    "\n",
    "\n",
    "\n",
    "\n",
    "\n",
    "\n"
   ]
  },
  {
   "cell_type": "code",
   "execution_count": null,
   "metadata": {},
   "outputs": [],
   "source": [
    "\n"
   ]
  },
  {
   "cell_type": "markdown",
   "metadata": {},
   "source": [
    "# Compare evaluation metrics for each model"
   ]
  },
  {
   "cell_type": "code",
   "execution_count": null,
   "metadata": {},
   "outputs": [],
   "source": [
    "models = ['Linear Regression', 'Decision Tree',\n",
    "          'Random Forest', 'XGBoost', 'Dummy Regressor']\n",
    "\n",
    "metrics = ['R2', 'MAE', 'MSE']\n",
    "\n",
    "pred_list = ['linreg_y_pred', 'reg_tree_y_pred',\n",
    "             'rf_y_pred', 'xgb_y_pred', 'dummy_y_pred']\n",
    "\n",
    "# Baseline algorithm.\n",
    "dummy = DummyRegressor()\n",
    "dummy.fit(X_train, y_train)\n",
    "dummy_y_pred = dummy.predict(X_test)\n",
    "\n",
    "scores = np.empty((0, 3))\n",
    "\n",
    "for i in pred_list:\n",
    "    scores = np.append(scores,\n",
    "                       np.array([[r2_score(y_test, globals()[i]),\n",
    "                                  mean_absolute_error(y_test, globals()[i]),\n",
    "                                  mean_squared_error(y_test, globals()[i])]]),\n",
    "                       axis = 0)\n",
    "\n",
    "scores = np.around(scores, 4)\n",
    "\n",
    "scoring_df = pd.DataFrame(scores, index = models, columns = metrics)\n",
    "scoring_df.sort_values(by = 'MSE', ascending = True)"
   ]
  },
  {
   "cell_type": "markdown",
   "metadata": {
    "id": "unciq90izXa_"
   },
   "source": [
    "# Plot the residuals"
   ]
  },
  {
   "cell_type": "code",
   "execution_count": null,
   "metadata": {
    "colab": {
     "base_uri": "https://localhost:8080/",
     "height": 295
    },
    "executionInfo": {
     "elapsed": 585,
     "status": "ok",
     "timestamp": 1616421667393,
     "user": {
      "displayName": "Sarah Haq",
      "photoUrl": "https://lh3.googleusercontent.com/a-/AOh14Gh7vs3P5_F3LYi7bEV8r1vbltDxEgpoYXmxHgxGBw=s64",
      "userId": "16294508270436203551"
     },
     "user_tz": -60
    },
    "id": "aZO9EKuc2CbR",
    "outputId": "6d0c13c5-e272-4ebb-9de9-4f4f17ca8991"
   },
   "outputs": [],
   "source": [
    "# Set up DataFrame for plotting.\n",
    "\n",
    "resid_df = pd.DataFrame()\n",
    "resid_df['total_amount_usd'] = y_test\n",
    "resid_df['total_pred'] = xgb_y_pred\n",
    "resid_df['residuals'] = resid_df['total_amount_usd'] - resid_df['total_pred']\n",
    "resid_df = resid_df.sort_values('total_amount_usd')[::20]\n",
    "resid_df['record_num'] = np.arange(len(resid_df))"
   ]
  },
  {
   "cell_type": "code",
   "execution_count": null,
   "metadata": {},
   "outputs": [],
   "source": [
    "\n",
    "\n",
    "\n",
    "\n",
    "\n",
    "\n",
    "\n",
    "\n",
    "\n",
    "\n"
   ]
  },
  {
   "cell_type": "markdown",
   "metadata": {
    "id": "gaqFRU74kxxt"
   },
   "source": [
    "# Generate a feature importance plot"
   ]
  },
  {
   "cell_type": "code",
   "execution_count": null,
   "metadata": {},
   "outputs": [],
   "source": [
    "def feature_importance_plot(model, X_train, n):\n",
    "    \"\"\"Plots feature importance. Only works for ensemble learning.\"\"\"\n",
    "    plt.figure(figsize = (8, 5))\n",
    "    feat_importances = pd.Series(model.feature_importances_,\n",
    "                                 index = X_train.columns)\n",
    "    feat_importances.nlargest(n).plot(kind = 'barh')\n",
    "    plt.title(f'Top {n} Features')\n",
    "    plt.show()"
   ]
  },
  {
   "cell_type": "code",
   "execution_count": null,
   "metadata": {
    "colab": {
     "base_uri": "https://localhost:8080/",
     "height": 336
    },
    "executionInfo": {
     "elapsed": 506,
     "status": "ok",
     "timestamp": 1616421670951,
     "user": {
      "displayName": "Sarah Haq",
      "photoUrl": "https://lh3.googleusercontent.com/a-/AOh14Gh7vs3P5_F3LYi7bEV8r1vbltDxEgpoYXmxHgxGBw=s64",
      "userId": "16294508270436203551"
     },
     "user_tz": -60
    },
    "id": "omDPYPABCGTF",
    "outputId": "5476f91a-4144-43d5-f56b-e4046c1f4490"
   },
   "outputs": [],
   "source": []
  },
  {
   "cell_type": "markdown",
   "metadata": {
    "id": "-ZyVqfujkWZO"
   },
   "source": [
    "# Plot learning curves"
   ]
  },
  {
   "cell_type": "code",
   "execution_count": null,
   "metadata": {},
   "outputs": [],
   "source": [
    "def plot_learning_curves(model, X_train, y_train):\n",
    "    \"\"\"Plots learning curves for model validation.\"\"\"\n",
    "    plt.figure(figsize = (5, 5))\n",
    "    train_sizes, train_scores, test_scores = \\\n",
    "    learning_curve(model, X_train, y_train, cv = 5,\n",
    "                   scoring = 'neg_mean_squared_error',\n",
    "                   n_jobs = -1,\n",
    "                   shuffle = True,\n",
    "                   train_sizes = np.linspace(0.01, 1.0, 5))\n",
    "        \n",
    "    # Means of training and test set scores.\n",
    "    train_mean = np.mean(train_scores, axis = 1)\n",
    "    test_mean = np.mean(test_scores, axis = 1)\n",
    "\n",
    "    # Draw lines.\n",
    "    plt.plot(train_sizes, train_mean, '--',\n",
    "             color = '#111111', label = 'Training score')\n",
    "    plt.plot(train_sizes, test_mean,\n",
    "             color = '#111111', label = 'Cross-validation score')\n",
    "\n",
    "    # Create plot.\n",
    "    plt.title('Learning Curves')\n",
    "    plt.xlabel('Training Set Size')\n",
    "    plt.ylabel('Negative MSE')\n",
    "    plt.legend(loc = 'best')\n",
    "    plt.tight_layout()\n",
    "\n",
    "    plt.show()"
   ]
  },
  {
   "cell_type": "code",
   "execution_count": null,
   "metadata": {
    "colab": {
     "base_uri": "https://localhost:8080/",
     "height": 369
    },
    "executionInfo": {
     "elapsed": 22224,
     "status": "ok",
     "timestamp": 1616196363089,
     "user": {
      "displayName": "Sarah Haq",
      "photoUrl": "https://lh3.googleusercontent.com/a-/AOh14Gh7vs3P5_F3LYi7bEV8r1vbltDxEgpoYXmxHgxGBw=s64",
      "userId": "16294508270436203551"
     },
     "user_tz": -60
    },
    "id": "wrKQoTlzlhS_",
    "outputId": "56f252fe-e337-48d8-cad2-23dac64d8503"
   },
   "outputs": [],
   "source": []
  },
  {
   "cell_type": "markdown",
   "metadata": {
    "id": "wYrIsZFfCWZ7"
   },
   "source": [
    "# Save the best model"
   ]
  },
  {
   "cell_type": "code",
   "execution_count": null,
   "metadata": {
    "colab": {
     "base_uri": "https://localhost:8080/"
    },
    "executionInfo": {
     "elapsed": 417,
     "status": "ok",
     "timestamp": 1616421677243,
     "user": {
      "displayName": "Sarah Haq",
      "photoUrl": "https://lh3.googleusercontent.com/a-/AOh14Gh7vs3P5_F3LYi7bEV8r1vbltDxEgpoYXmxHgxGBw=s64",
      "userId": "16294508270436203551"
     },
     "user_tz": -60
    },
    "id": "qFl3AM8a97fH",
    "outputId": "b70233b8-591d-4edd-d441-701438d02cc6"
   },
   "outputs": [],
   "source": []
  }
 ],
 "metadata": {
  "colab": {
   "authorship_tag": "ABX9TyN5hXFO3n12fgdGd82zEreJ",
   "collapsed_sections": [],
   "name": "04-Regression-Models.ipynb",
   "provenance": [],
   "toc_visible": true
  },
  "kernelspec": {
   "display_name": "Python 3",
   "language": "python",
   "name": "python3"
  },
  "language_info": {
   "codemirror_mode": {
    "name": "ipython",
    "version": 3
   },
   "file_extension": ".py",
   "mimetype": "text/x-python",
   "name": "python",
   "nbconvert_exporter": "python",
   "pygments_lexer": "ipython3",
   "version": "3.7.6"
  }
 },
 "nbformat": 4,
 "nbformat_minor": 1
}
